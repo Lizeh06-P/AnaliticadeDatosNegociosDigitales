{
 "cells": [
  {
   "cell_type": "markdown",
   "id": "ff3bab02",
   "metadata": {},
   "source": [
    "># Crear y Accesar a los diccionarios "
   ]
  },
  {
   "cell_type": "markdown",
   "id": "fba6f1cb",
   "metadata": {},
   "source": [
    "## Objectivos \n",
    "- Aprender a crear diccionrios con pares llaves- valor \n",
    "- Aprender a accesar  a los valores guardados  en el diccionario\n",
    "---"
   ]
  },
  {
   "cell_type": "markdown",
   "id": "c279b56e",
   "metadata": {},
   "source": [
    "## Desarollo:\n",
    "\n",
    "Los diccionarios se definen usando (`{}`)"
   ]
  },
  {
   "cell_type": "code",
   "execution_count": 1,
   "id": "e5964966",
   "metadata": {},
   "outputs": [],
   "source": [
    "diccionario_1 ={}"
   ]
  },
  {
   "cell_type": "markdown",
   "id": "1f1fa9bf",
   "metadata": {},
   "source": [
    "Diccionario_1 ya es un diccionario. Solo que esta vacio.para incluir datos dentro de un diccionario ,tenemos que agregar pares llave- valor ({},.Cada par llave-valor se separa con una(,))"
   ]
  },
  {
   "cell_type": "code",
   "execution_count": 2,
   "id": "baeec3da",
   "metadata": {},
   "outputs": [],
   "source": [
    "diccionario_2 ={\n",
    "    'llave_1 ':'valor_1',\n",
    "    'llave_2':'valor_2',\n",
    "    'llave_3':'valor_3',\n",
    "    'llave_4':'valor_4'\n",
    "}"
   ]
  },
  {
   "cell_type": "markdown",
   "id": "f758258e",
   "metadata": {},
   "source": [
    "Nuestra llaves puede ser `string` como `int`(pueden ser otras cosas,pero estos son los mas comunes)"
   ]
  },
  {
   "cell_type": "code",
   "execution_count": 3,
   "id": "5ccb91cd",
   "metadata": {},
   "outputs": [],
   "source": [
    "diccionario_3 ={\n",
    "    1:\"uno\",\n",
    "    2:\"dos\",\n",
    "    3:\"Tres\",\n",
    "    4:\"Cuatro\"\n",
    "}\n"
   ]
  },
  {
   "cell_type": "markdown",
   "id": "f1431853",
   "metadata": {},
   "source": [
    "Nuestros valores pueden ser cualquier tipo de dato qu se conozca hasta este momento."
   ]
  },
  {
   "cell_type": "code",
   "execution_count": 4,
   "id": "0f51053e",
   "metadata": {},
   "outputs": [],
   "source": [
    "diccionario_4 = {\n",
    "    'int':123,\n",
    "    'float':23.56,\n",
    "    'String':'Hola',\n",
    "    'boolean': True,\n",
    "    'lista':[1,2,3,4],\n",
    "    'diccionario':{\n",
    "        1:'uno',\n",
    "        2:'dos'\n",
    "    }\n",
    "    \n",
    "}"
   ]
  },
  {
   "cell_type": "markdown",
   "id": "6a67e84a",
   "metadata": {},
   "source": [
    "Acceder aun diccionario  es tan facil como  escribir el nombre del diccionario ,agregar corchetes(`[]`) y vamos pasarle el nombre de la llave que quires acceder .Por obvias razones,un diccionario no puede tener mas de una llave con el mismos nombre,Si tenemos otras estructuras de datos dentro de nuestro diccionario podemos aceder a los elementod dentro de ellas despues de aver accedido primero a toda la estructura de datos "
   ]
  },
  {
   "cell_type": "code",
   "execution_count": 7,
   "id": "2c4b24ab",
   "metadata": {},
   "outputs": [
    {
     "name": "stdout",
     "output_type": "stream",
     "text": [
      "23.56\n",
      "\n"
     ]
    }
   ],
   "source": [
    "print(diccionario_4['float'])\n",
    "print()"
   ]
  },
  {
   "cell_type": "code",
   "execution_count": 8,
   "id": "744ef318",
   "metadata": {},
   "outputs": [
    {
     "name": "stdout",
     "output_type": "stream",
     "text": [
      "True\n"
     ]
    }
   ],
   "source": [
    "print(diccionario_4['boolean'])"
   ]
  },
  {
   "cell_type": "code",
   "execution_count": 9,
   "id": "35ff2930",
   "metadata": {},
   "outputs": [
    {
     "name": "stdout",
     "output_type": "stream",
     "text": [
      "[1, 2, 3, 4]\n"
     ]
    }
   ],
   "source": [
    "print(diccionario_4['lista'])"
   ]
  },
  {
   "cell_type": "code",
   "execution_count": 12,
   "id": "7413f359",
   "metadata": {},
   "outputs": [
    {
     "name": "stdout",
     "output_type": "stream",
     "text": [
      "3\n"
     ]
    }
   ],
   "source": [
    "print(diccionario_4['lista'][2])"
   ]
  },
  {
   "cell_type": "code",
   "execution_count": 14,
   "id": "9255d60a",
   "metadata": {},
   "outputs": [
    {
     "name": "stdout",
     "output_type": "stream",
     "text": [
      "True\n",
      "[1, 2, 3, 4]\n",
      "3\n",
      "dos\n"
     ]
    }
   ],
   "source": [
    "print(diccionario_4['boolean'])\n",
    "print(diccionario_4['lista'])\n",
    "print(diccionario_4['lista'][2])\n",
    "print(diccionario_4['diccionario'][2])"
   ]
  }
 ],
 "metadata": {
  "kernelspec": {
   "display_name": "Python 3",
   "language": "python",
   "name": "python3"
  },
  "language_info": {
   "codemirror_mode": {
    "name": "ipython",
    "version": 3
   },
   "file_extension": ".py",
   "mimetype": "text/x-python",
   "name": "python",
   "nbconvert_exporter": "python",
   "pygments_lexer": "ipython3",
   "version": "3.13.3"
  }
 },
 "nbformat": 4,
 "nbformat_minor": 5
}
