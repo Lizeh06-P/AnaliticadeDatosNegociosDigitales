{
 "cells": [
  {
   "cell_type": "markdown",
   "id": "dfa7f63b",
   "metadata": {},
   "source": [
    "## Operaciones numericas \n",
    "\n",
    "### objectivos \n",
    "\n",
    "-Mostrar com utilizar los operadores aritmeticos \n",
    "\n",
    "### Darrollo \n"
   ]
  },
  {
   "cell_type": "markdown",
   "id": "1320921b",
   "metadata": {},
   "source": [
    "primero vamos asignar unas variables "
   ]
  },
  {
   "cell_type": "code",
   "execution_count": 1,
   "id": "e45ace48",
   "metadata": {},
   "outputs": [],
   "source": [
    "var_1 =4\n",
    "var_2 = 54\n",
    "var_3=23\n",
    "var_4 =89"
   ]
  },
  {
   "cell_type": "code",
   "execution_count": 2,
   "id": "d9107997",
   "metadata": {},
   "outputs": [
    {
     "name": "stdout",
     "output_type": "stream",
     "text": [
      "4 54 23 89 el valor de la variable var_1 4 \n",
      "el valor de la variable var_1 54\n"
     ]
    }
   ],
   "source": [
    "print(var_1,var_2,var_3,var_4, end=\" \")\n",
    "print ('el valor de la variable var_1' , var_1,'\\nel valor de la variable var_1', var_2)\n",
    "# print(var_1,var_2,var_3,var_4)"
   ]
  },
  {
   "cell_type": "markdown",
   "id": "fd5ab6ed",
   "metadata": {},
   "source": [
    "### operaciones numericos\n",
    "---\n",
    "**operadores Aritmeticos** \n",
    "\n",
    "| Operador | Nombre                  | Descripción                                 | Ejemplo        | Resultado |\n",
    "|----------|-------------------------|---------------------------------------------|----------------|-----------|\n",
    "| `+`      | Suma                    | Suma de dos operandos                        | `5 + 3`        | `8`       |\n",
    "| `-`      | Resta                   | Resta del segundo operando al primero        | `5 - 3`        | `2`       |\n",
    "| `*`      | Multiplicación          | Producto de dos operandos                    | `5 * 3`        | `15`      |\n",
    "| `/`      | División                | División del primero entre el segundo       | `5 / 2`        | `2.5`     |\n",
    "| `//`     | División entera         | División y redondeo hacia abajo             | `5 // 2`       | `2`       |\n",
    "| `%`      | Módulo (residuo)        | Residuo de la división                      | `5 % 2`        | `1`       |\n",
    "| `**`     | Exponente               | Potencia del primer operando al segundo     | `2 ** 3`       | `8`       |"
   ]
  },
  {
   "cell_type": "code",
   "execution_count": 3,
   "id": "dc968cdd",
   "metadata": {},
   "outputs": [
    {
     "data": {
      "text/plain": [
       "58"
      ]
     },
     "execution_count": 3,
     "metadata": {},
     "output_type": "execute_result"
    }
   ],
   "source": [
    "var_1 + var_2"
   ]
  },
  {
   "cell_type": "code",
   "execution_count": 4,
   "id": "e6c388dd",
   "metadata": {},
   "outputs": [
    {
     "data": {
      "text/plain": [
       "-35"
      ]
     },
     "execution_count": 4,
     "metadata": {},
     "output_type": "execute_result"
    }
   ],
   "source": [
    "var_2 - var_4"
   ]
  },
  {
   "cell_type": "code",
   "execution_count": 5,
   "id": "f1cb4421",
   "metadata": {},
   "outputs": [
    {
     "data": {
      "text/plain": [
       "92"
      ]
     },
     "execution_count": 5,
     "metadata": {},
     "output_type": "execute_result"
    }
   ],
   "source": [
    "var_3 * var_1"
   ]
  },
  {
   "cell_type": "code",
   "execution_count": 6,
   "id": "58fabd32",
   "metadata": {},
   "outputs": [
    {
     "data": {
      "text/plain": [
       "1.6481481481481481"
      ]
     },
     "execution_count": 6,
     "metadata": {},
     "output_type": "execute_result"
    }
   ],
   "source": [
    "var_4 / var_2"
   ]
  },
  {
   "cell_type": "code",
   "execution_count": 7,
   "id": "0e0f7c97",
   "metadata": {},
   "outputs": [
    {
     "data": {
      "text/plain": [
       "1"
      ]
     },
     "execution_count": 7,
     "metadata": {},
     "output_type": "execute_result"
    }
   ],
   "source": [
    "var_4 // var_2"
   ]
  },
  {
   "cell_type": "code",
   "execution_count": 9,
   "id": "a2a93993",
   "metadata": {},
   "outputs": [
    {
     "data": {
      "text/plain": [
       "0.5"
      ]
     },
     "execution_count": 9,
     "metadata": {},
     "output_type": "execute_result"
    }
   ],
   "source": [
    "1/2"
   ]
  },
  {
   "cell_type": "code",
   "execution_count": 10,
   "id": "ce6398ac",
   "metadata": {},
   "outputs": [
    {
     "data": {
      "text/plain": [
       "0"
      ]
     },
     "execution_count": 10,
     "metadata": {},
     "output_type": "execute_result"
    }
   ],
   "source": [
    "1//2"
   ]
  },
  {
   "cell_type": "code",
   "execution_count": 11,
   "id": "39c15935",
   "metadata": {},
   "outputs": [
    {
     "data": {
      "text/plain": [
       "8503056"
      ]
     },
     "execution_count": 11,
     "metadata": {},
     "output_type": "execute_result"
    }
   ],
   "source": [
    "var_2 **  var_1"
   ]
  },
  {
   "cell_type": "code",
   "execution_count": 12,
   "id": "63d14601",
   "metadata": {},
   "outputs": [
    {
     "data": {
      "text/plain": [
       "0"
      ]
     },
     "execution_count": 12,
     "metadata": {},
     "output_type": "execute_result"
    }
   ],
   "source": [
    "var_1 = 10\n",
    "var_2 = 2\n",
    "\n",
    "\n",
    "var_1% var_2"
   ]
  },
  {
   "cell_type": "code",
   "execution_count": 13,
   "id": "7922ed06",
   "metadata": {},
   "outputs": [
    {
     "name": "stdout",
     "output_type": "stream",
     "text": [
      "12\n",
      "20\n",
      "100\n"
     ]
    }
   ],
   "source": [
    "print (var_1+ var_2)\n",
    "print (var_1* var_2)\n",
    "\n",
    "print (var_1** var_2)"
   ]
  },
  {
   "cell_type": "markdown",
   "id": "9d7c7a94",
   "metadata": {},
   "source": [
    "tambien se puede asisgnar los resultadoa de las operaciones a otras variables "
   ]
  },
  {
   "cell_type": "code",
   "execution_count": 14,
   "id": "8750a9b3",
   "metadata": {},
   "outputs": [
    {
     "data": {
      "text/plain": [
       "33"
      ]
     },
     "execution_count": 14,
     "metadata": {},
     "output_type": "execute_result"
    }
   ],
   "source": [
    "resultado = var_1+var_3\n",
    "\n",
    "resultado"
   ]
  }
 ],
 "metadata": {
  "kernelspec": {
   "display_name": "Python 3",
   "language": "python",
   "name": "python3"
  },
  "language_info": {
   "codemirror_mode": {
    "name": "ipython",
    "version": 3
   },
   "file_extension": ".py",
   "mimetype": "text/x-python",
   "name": "python",
   "nbconvert_exporter": "python",
   "pygments_lexer": "ipython3",
   "version": "3.13.3"
  }
 },
 "nbformat": 4,
 "nbformat_minor": 5
}
