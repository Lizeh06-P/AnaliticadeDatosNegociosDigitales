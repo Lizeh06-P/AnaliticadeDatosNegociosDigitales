{
 "cells": [
  {
   "cell_type": "code",
   "execution_count": 1,
   "id": "c8ca4700",
   "metadata": {},
   "outputs": [],
   "source": [
    "import pandas as pd"
   ]
  },
  {
   "cell_type": "code",
   "execution_count": 2,
   "id": "ad5fd9a3",
   "metadata": {},
   "outputs": [
    {
     "name": "stdout",
     "output_type": "stream",
     "text": [
      "  Nombre  Edad\n",
      "0    ana    23\n",
      "1   luia    30\n",
      "2  Pedro    27\n"
     ]
    }
   ],
   "source": [
    "#comprobar si es funcinal\n",
    "datos= {\n",
    "    'Nombre': ['ana', 'luia', 'Pedro'],\n",
    "    'Edad': [23, 30, 27],\n",
    "}\n",
    "df = pd.DataFrame(datos)\n",
    "print(df)\n"
   ]
  },
  {
   "cell_type": "code",
   "execution_count": 3,
   "id": "a58464a7",
   "metadata": {},
   "outputs": [],
   "source": [
    "#crear  una lista \n",
    "edad =[30,40,50]"
   ]
  },
  {
   "cell_type": "code",
   "execution_count": 14,
   "id": "ff111a85",
   "metadata": {},
   "outputs": [],
   "source": [
    "#convertir la serie \n",
    "serie = pd.Series(edad)"
   ]
  },
  {
   "cell_type": "code",
   "execution_count": 5,
   "id": "6c5bb183",
   "metadata": {},
   "outputs": [
    {
     "data": {
      "text/plain": [
       "0    30\n",
       "1    40\n",
       "2    50\n",
       "dtype: int64"
      ]
     },
     "execution_count": 5,
     "metadata": {},
     "output_type": "execute_result"
    }
   ],
   "source": [
    "#mostrar resultado\n",
    "serie"
   ]
  },
  {
   "cell_type": "code",
   "execution_count": 12,
   "id": "ac2d1a1d",
   "metadata": {},
   "outputs": [],
   "source": [
    "#cambiar indice\n",
    "serie = pd.Series(edad, index=['Alex', 'John', 'Maria'])"
   ]
  },
  {
   "cell_type": "code",
   "execution_count": 7,
   "id": "fd37c019",
   "metadata": {},
   "outputs": [
    {
     "data": {
      "text/plain": [
       "Alex     30\n",
       "John     40\n",
       "Maria    50\n",
       "dtype: int64"
      ]
     },
     "execution_count": 7,
     "metadata": {},
     "output_type": "execute_result"
    }
   ],
   "source": [
    "serie\n"
   ]
  },
  {
   "cell_type": "code",
   "execution_count": 8,
   "id": "e03844fc",
   "metadata": {},
   "outputs": [
    {
     "data": {
      "text/plain": [
       "np.int64(30)"
      ]
     },
     "execution_count": 8,
     "metadata": {},
     "output_type": "execute_result"
    }
   ],
   "source": [
    "serie['Alex'] "
   ]
  },
  {
   "cell_type": "code",
   "execution_count": 15,
   "id": "fbae31c4",
   "metadata": {},
   "outputs": [
    {
     "data": {
      "text/plain": [
       "np.int64(40)"
      ]
     },
     "execution_count": 15,
     "metadata": {},
     "output_type": "execute_result"
    }
   ],
   "source": [
    "serie[1]"
   ]
  },
  {
   "cell_type": "markdown",
   "id": "3073be41",
   "metadata": {},
   "source": [
    "EJEMPLO"
   ]
  },
  {
   "cell_type": "code",
   "execution_count": 16,
   "id": "72539447",
   "metadata": {},
   "outputs": [
    {
     "name": "stdout",
     "output_type": "stream",
     "text": [
      "0      1\n",
      "1      4\n",
      "2      9\n",
      "3      2\n",
      "4      6\n",
      "5     10\n",
      "6    200\n",
      "dtype: int64\n"
     ]
    }
   ],
   "source": [
    "naranjas = pd.Series([1,4,9,2,6,10,200])\n",
    "print(naranjas)"
   ]
  },
  {
   "cell_type": "code",
   "execution_count": 17,
   "id": "0ddc8a0d",
   "metadata": {},
   "outputs": [
    {
     "data": {
      "text/plain": [
       "pandas.core.series.Series"
      ]
     },
     "execution_count": 17,
     "metadata": {},
     "output_type": "execute_result"
    }
   ],
   "source": [
    "type(naranjas)"
   ]
  },
  {
   "cell_type": "code",
   "execution_count": 18,
   "id": "f8a817ac",
   "metadata": {},
   "outputs": [
    {
     "name": "stdout",
     "output_type": "stream",
     "text": [
      "Marco       1\n",
      "ANA         4\n",
      "Juan        9\n",
      "Pedro       2\n",
      "Estela      6\n",
      "Ivan       10\n",
      "Luis      200\n",
      "dtype: int64\n"
     ]
    }
   ],
   "source": [
    "naranjas =pd.Series([1,4,9,2,6,10,200], index=['Marco','ANA','Juan','Pedro','Estela','Ivan','Luis'])\n",
    "print(naranjas) "
   ]
  },
  {
   "cell_type": "code",
   "execution_count": null,
   "id": "62ab7661",
   "metadata": {},
   "outputs": [],
   "source": []
  }
 ],
 "metadata": {
  "kernelspec": {
   "display_name": "Python 3",
   "language": "python",
   "name": "python3"
  },
  "language_info": {
   "codemirror_mode": {
    "name": "ipython",
    "version": 3
   },
   "file_extension": ".py",
   "mimetype": "text/x-python",
   "name": "python",
   "nbconvert_exporter": "python",
   "pygments_lexer": "ipython3",
   "version": "3.13.3"
  }
 },
 "nbformat": 4,
 "nbformat_minor": 5
}
