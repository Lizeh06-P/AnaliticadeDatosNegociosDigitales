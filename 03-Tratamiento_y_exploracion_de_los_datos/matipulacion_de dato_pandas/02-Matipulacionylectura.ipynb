{
 "cells": [
  {
   "cell_type": "markdown",
   "id": "e9a4b86a",
   "metadata": {},
   "source": [
    "\n",
    "## Manipulacion de lectura \n",
    "¿Qué es la lectura de datos en Pandas?\n",
    "Es el proceso de importar datos externos a un programa de Python usando Pandas.\n",
    "Los datos pueden estar en muchos formatos como:\n",
    "\n",
    ".csv (valores separados por comas)\n",
    "\n",
    ".xlsx (Excel)\n",
    "\n",
    ".json\n",
    "\n",
    ".sql (bases de datos)\n",
    "\n",
    "Archivos de texto (.txt)\n",
    "\n",
    "HTML, entre otros"
   ]
  },
  {
   "cell_type": "code",
   "execution_count": 16,
   "id": "3b5631e4",
   "metadata": {},
   "outputs": [],
   "source": [
    "import pandas as pd\n",
    "\n",
    "df = pd.read_csv('./data st/linkedin-jobs-usa-modificado.csv')\n",
    "\n",
    "# también puede ser\n",
    "# df = pd.read_sql('archivo.sql')\n",
    "# df = pd.read_json('archivojson')\n",
    "# df = pd.read_excel('archivo.xlsx')\n"
   ]
  },
  {
   "cell_type": "markdown",
   "id": "39319c17",
   "metadata": {},
   "source": [
    "EXploracion : comandos o metodos , `heat()`,`info()`,`descrine`,`dtype` y `shepe`"
   ]
  },
  {
   "cell_type": "markdown",
   "id": "c5e66b12",
   "metadata": {},
   "source": [
    "ahora para mostrar los primeros filas de el archivo usamos el comando `head`"
   ]
  },
  {
   "cell_type": "markdown",
   "id": "4507ddc3",
   "metadata": {},
   "source": [
    "| **¿Qué hace?**                                            | **¿Para qué sirve?**                                                                       |\n",
    "| --------------------------------------------------------- | ------------------------------------------------------------------------------------------ |\n",
    "| Muestra las primeras 5 filas del DataFrame (por defecto). | Para visualizar rápidamente cómo lucen los datos y verificar si se cargaron correctamente. |\n"
   ]
  },
  {
   "cell_type": "code",
   "execution_count": 5,
   "id": "ba114f6d",
   "metadata": {},
   "outputs": [
    {
     "data": {
      "text/html": [
       "<div>\n",
       "<style scoped>\n",
       "    .dataframe tbody tr th:only-of-type {\n",
       "        vertical-align: middle;\n",
       "    }\n",
       "\n",
       "    .dataframe tbody tr th {\n",
       "        vertical-align: top;\n",
       "    }\n",
       "\n",
       "    .dataframe thead th {\n",
       "        text-align: right;\n",
       "    }\n",
       "</style>\n",
       "<table border=\"1\" class=\"dataframe\">\n",
       "  <thead>\n",
       "    <tr style=\"text-align: right;\">\n",
       "      <th></th>\n",
       "      <th>title</th>\n",
       "      <th>company</th>\n",
       "      <th>description</th>\n",
       "      <th>onsite_remote</th>\n",
       "      <th>salary_float</th>\n",
       "      <th>location</th>\n",
       "      <th>criteria</th>\n",
       "      <th>posted_date</th>\n",
       "      <th>link</th>\n",
       "    </tr>\n",
       "  </thead>\n",
       "  <tbody>\n",
       "    <tr>\n",
       "      <th>0</th>\n",
       "      <td>Data Analyst - Recent Graduate</td>\n",
       "      <td>PayPal</td>\n",
       "      <td>At PayPal (NASDAQ: PYPL), we believe that ever...</td>\n",
       "      <td>onsite</td>\n",
       "      <td>86658.0</td>\n",
       "      <td>Buffalo-Niagara Falls Area</td>\n",
       "      <td>[{'Seniority level': 'Not Applicable'}, {'Empl...</td>\n",
       "      <td>2022-11-22</td>\n",
       "      <td>https://www.linkedin.com/jobs/view/data-analys...</td>\n",
       "    </tr>\n",
       "    <tr>\n",
       "      <th>1</th>\n",
       "      <td>Data Analyst - Recent Graduate</td>\n",
       "      <td>PayPal</td>\n",
       "      <td>At PayPal (NASDAQ: PYPL), we believe that ever...</td>\n",
       "      <td>onsite</td>\n",
       "      <td>74052.0</td>\n",
       "      <td>San Jose, CA</td>\n",
       "      <td>[{'Seniority level': 'Not Applicable'}, {'Empl...</td>\n",
       "      <td>2022-11-22</td>\n",
       "      <td>https://www.linkedin.com/jobs/view/data-analys...</td>\n",
       "    </tr>\n",
       "    <tr>\n",
       "      <th>2</th>\n",
       "      <td>Data Analyst</td>\n",
       "      <td>PayPal</td>\n",
       "      <td>At PayPal (NASDAQ: PYPL), we believe that ever...</td>\n",
       "      <td>onsite</td>\n",
       "      <td>81425.0</td>\n",
       "      <td>Texas, United States</td>\n",
       "      <td>[{'Seniority level': 'Not Applicable'}, {'Empl...</td>\n",
       "      <td>2022-11-17</td>\n",
       "      <td>https://www.linkedin.com/jobs/view/data-analys...</td>\n",
       "    </tr>\n",
       "    <tr>\n",
       "      <th>3</th>\n",
       "      <td>Data Analyst</td>\n",
       "      <td>PayPal</td>\n",
       "      <td>At PayPal (NASDAQ: PYPL), we believe that ever...</td>\n",
       "      <td>onsite</td>\n",
       "      <td>74828.0</td>\n",
       "      <td>Illinois, United States</td>\n",
       "      <td>[{'Seniority level': 'Not Applicable'}, {'Empl...</td>\n",
       "      <td>2022-11-17</td>\n",
       "      <td>https://www.linkedin.com/jobs/view/data-analys...</td>\n",
       "    </tr>\n",
       "    <tr>\n",
       "      <th>4</th>\n",
       "      <td>Entry-Level Data Analyst</td>\n",
       "      <td>The Federal Savings Bank</td>\n",
       "      <td>The Federal Savings Bank, a national bank and ...</td>\n",
       "      <td>onsite</td>\n",
       "      <td>83737.0</td>\n",
       "      <td>Chicago, IL</td>\n",
       "      <td>[{'Seniority level': 'Entry level'}, {'Employm...</td>\n",
       "      <td>2022-11-17</td>\n",
       "      <td>https://www.linkedin.com/jobs/view/entry-level...</td>\n",
       "    </tr>\n",
       "  </tbody>\n",
       "</table>\n",
       "</div>"
      ],
      "text/plain": [
       "                            title                   company  \\\n",
       "0  Data Analyst - Recent Graduate                    PayPal   \n",
       "1  Data Analyst - Recent Graduate                    PayPal   \n",
       "2                    Data Analyst                    PayPal   \n",
       "3                    Data Analyst                    PayPal   \n",
       "4        Entry-Level Data Analyst  The Federal Savings Bank   \n",
       "\n",
       "                                         description onsite_remote  \\\n",
       "0  At PayPal (NASDAQ: PYPL), we believe that ever...        onsite   \n",
       "1  At PayPal (NASDAQ: PYPL), we believe that ever...        onsite   \n",
       "2  At PayPal (NASDAQ: PYPL), we believe that ever...        onsite   \n",
       "3  At PayPal (NASDAQ: PYPL), we believe that ever...        onsite   \n",
       "4  The Federal Savings Bank, a national bank and ...        onsite   \n",
       "\n",
       "   salary_float                    location  \\\n",
       "0       86658.0  Buffalo-Niagara Falls Area   \n",
       "1       74052.0                San Jose, CA   \n",
       "2       81425.0        Texas, United States   \n",
       "3       74828.0     Illinois, United States   \n",
       "4       83737.0                 Chicago, IL   \n",
       "\n",
       "                                            criteria posted_date  \\\n",
       "0  [{'Seniority level': 'Not Applicable'}, {'Empl...  2022-11-22   \n",
       "1  [{'Seniority level': 'Not Applicable'}, {'Empl...  2022-11-22   \n",
       "2  [{'Seniority level': 'Not Applicable'}, {'Empl...  2022-11-17   \n",
       "3  [{'Seniority level': 'Not Applicable'}, {'Empl...  2022-11-17   \n",
       "4  [{'Seniority level': 'Entry level'}, {'Employm...  2022-11-17   \n",
       "\n",
       "                                                link  \n",
       "0  https://www.linkedin.com/jobs/view/data-analys...  \n",
       "1  https://www.linkedin.com/jobs/view/data-analys...  \n",
       "2  https://www.linkedin.com/jobs/view/data-analys...  \n",
       "3  https://www.linkedin.com/jobs/view/data-analys...  \n",
       "4  https://www.linkedin.com/jobs/view/entry-level...  "
      ]
     },
     "execution_count": 5,
     "metadata": {},
     "output_type": "execute_result"
    }
   ],
   "source": [
    "df.head()  # muestra las primeras filas del DataFrame"
   ]
  },
  {
   "cell_type": "code",
   "execution_count": 6,
   "id": "b7748d05",
   "metadata": {},
   "outputs": [
    {
     "data": {
      "text/html": [
       "<div>\n",
       "<style scoped>\n",
       "    .dataframe tbody tr th:only-of-type {\n",
       "        vertical-align: middle;\n",
       "    }\n",
       "\n",
       "    .dataframe tbody tr th {\n",
       "        vertical-align: top;\n",
       "    }\n",
       "\n",
       "    .dataframe thead th {\n",
       "        text-align: right;\n",
       "    }\n",
       "</style>\n",
       "<table border=\"1\" class=\"dataframe\">\n",
       "  <thead>\n",
       "    <tr style=\"text-align: right;\">\n",
       "      <th></th>\n",
       "      <th>title</th>\n",
       "      <th>company</th>\n",
       "      <th>description</th>\n",
       "      <th>onsite_remote</th>\n",
       "      <th>salary_float</th>\n",
       "      <th>location</th>\n",
       "      <th>criteria</th>\n",
       "      <th>posted_date</th>\n",
       "      <th>link</th>\n",
       "    </tr>\n",
       "  </thead>\n",
       "  <tbody>\n",
       "    <tr>\n",
       "      <th>0</th>\n",
       "      <td>Data Analyst - Recent Graduate</td>\n",
       "      <td>PayPal</td>\n",
       "      <td>At PayPal (NASDAQ: PYPL), we believe that ever...</td>\n",
       "      <td>onsite</td>\n",
       "      <td>86658.0</td>\n",
       "      <td>Buffalo-Niagara Falls Area</td>\n",
       "      <td>[{'Seniority level': 'Not Applicable'}, {'Empl...</td>\n",
       "      <td>2022-11-22</td>\n",
       "      <td>https://www.linkedin.com/jobs/view/data-analys...</td>\n",
       "    </tr>\n",
       "    <tr>\n",
       "      <th>1</th>\n",
       "      <td>Data Analyst - Recent Graduate</td>\n",
       "      <td>PayPal</td>\n",
       "      <td>At PayPal (NASDAQ: PYPL), we believe that ever...</td>\n",
       "      <td>onsite</td>\n",
       "      <td>74052.0</td>\n",
       "      <td>San Jose, CA</td>\n",
       "      <td>[{'Seniority level': 'Not Applicable'}, {'Empl...</td>\n",
       "      <td>2022-11-22</td>\n",
       "      <td>https://www.linkedin.com/jobs/view/data-analys...</td>\n",
       "    </tr>\n",
       "    <tr>\n",
       "      <th>2</th>\n",
       "      <td>Data Analyst</td>\n",
       "      <td>PayPal</td>\n",
       "      <td>At PayPal (NASDAQ: PYPL), we believe that ever...</td>\n",
       "      <td>onsite</td>\n",
       "      <td>81425.0</td>\n",
       "      <td>Texas, United States</td>\n",
       "      <td>[{'Seniority level': 'Not Applicable'}, {'Empl...</td>\n",
       "      <td>2022-11-17</td>\n",
       "      <td>https://www.linkedin.com/jobs/view/data-analys...</td>\n",
       "    </tr>\n",
       "    <tr>\n",
       "      <th>3</th>\n",
       "      <td>Data Analyst</td>\n",
       "      <td>PayPal</td>\n",
       "      <td>At PayPal (NASDAQ: PYPL), we believe that ever...</td>\n",
       "      <td>onsite</td>\n",
       "      <td>74828.0</td>\n",
       "      <td>Illinois, United States</td>\n",
       "      <td>[{'Seniority level': 'Not Applicable'}, {'Empl...</td>\n",
       "      <td>2022-11-17</td>\n",
       "      <td>https://www.linkedin.com/jobs/view/data-analys...</td>\n",
       "    </tr>\n",
       "    <tr>\n",
       "      <th>4</th>\n",
       "      <td>Entry-Level Data Analyst</td>\n",
       "      <td>The Federal Savings Bank</td>\n",
       "      <td>The Federal Savings Bank, a national bank and ...</td>\n",
       "      <td>onsite</td>\n",
       "      <td>83737.0</td>\n",
       "      <td>Chicago, IL</td>\n",
       "      <td>[{'Seniority level': 'Entry level'}, {'Employm...</td>\n",
       "      <td>2022-11-17</td>\n",
       "      <td>https://www.linkedin.com/jobs/view/entry-level...</td>\n",
       "    </tr>\n",
       "    <tr>\n",
       "      <th>5</th>\n",
       "      <td>Data Analyst</td>\n",
       "      <td>PayPal</td>\n",
       "      <td>At PayPal (NASDAQ: PYPL), we believe that ever...</td>\n",
       "      <td>onsite</td>\n",
       "      <td>82802.0</td>\n",
       "      <td>Greater Scranton Area</td>\n",
       "      <td>[{'Seniority level': 'Not Applicable'}, {'Empl...</td>\n",
       "      <td>2022-11-17</td>\n",
       "      <td>https://www.linkedin.com/jobs/view/data-analys...</td>\n",
       "    </tr>\n",
       "    <tr>\n",
       "      <th>6</th>\n",
       "      <td>Data Analyst</td>\n",
       "      <td>PayPal</td>\n",
       "      <td>At PayPal (NASDAQ: PYPL), we believe that ever...</td>\n",
       "      <td>onsite</td>\n",
       "      <td>104876.5</td>\n",
       "      <td>Tennessee, United States</td>\n",
       "      <td>[{'Seniority level': 'Not Applicable'}, {'Empl...</td>\n",
       "      <td>2022-11-17</td>\n",
       "      <td>https://www.linkedin.com/jobs/view/data-analys...</td>\n",
       "    </tr>\n",
       "    <tr>\n",
       "      <th>7</th>\n",
       "      <td>Data Analyst</td>\n",
       "      <td>PayPal</td>\n",
       "      <td>At PayPal (NASDAQ: PYPL), we believe that ever...</td>\n",
       "      <td>onsite</td>\n",
       "      <td>69238.0</td>\n",
       "      <td>Indiana, United States</td>\n",
       "      <td>[{'Seniority level': 'Not Applicable'}, {'Empl...</td>\n",
       "      <td>2022-11-17</td>\n",
       "      <td>https://www.linkedin.com/jobs/view/data-analys...</td>\n",
       "    </tr>\n",
       "    <tr>\n",
       "      <th>8</th>\n",
       "      <td>Data Analyst</td>\n",
       "      <td>London Approach</td>\n",
       "      <td>The ideal candidate for the Data Analyst/Finan...</td>\n",
       "      <td>onsite</td>\n",
       "      <td>110000.0</td>\n",
       "      <td>Franklin, TN</td>\n",
       "      <td>[{'Seniority level': 'Associate'}, {'Employmen...</td>\n",
       "      <td>2022-11-21</td>\n",
       "      <td>https://www.linkedin.com/jobs/view/data-analys...</td>\n",
       "    </tr>\n",
       "    <tr>\n",
       "      <th>9</th>\n",
       "      <td>Data Analyst</td>\n",
       "      <td>PayPal</td>\n",
       "      <td>At PayPal (NASDAQ: PYPL), we believe that ever...</td>\n",
       "      <td>onsite</td>\n",
       "      <td>96382.0</td>\n",
       "      <td>Wisconsin, United States</td>\n",
       "      <td>[{'Seniority level': 'Not Applicable'}, {'Empl...</td>\n",
       "      <td>2022-11-17</td>\n",
       "      <td>https://www.linkedin.com/jobs/view/data-analys...</td>\n",
       "    </tr>\n",
       "  </tbody>\n",
       "</table>\n",
       "</div>"
      ],
      "text/plain": [
       "                            title                   company  \\\n",
       "0  Data Analyst - Recent Graduate                    PayPal   \n",
       "1  Data Analyst - Recent Graduate                    PayPal   \n",
       "2                    Data Analyst                    PayPal   \n",
       "3                    Data Analyst                    PayPal   \n",
       "4        Entry-Level Data Analyst  The Federal Savings Bank   \n",
       "5                    Data Analyst                    PayPal   \n",
       "6                    Data Analyst                    PayPal   \n",
       "7                    Data Analyst                    PayPal   \n",
       "8                    Data Analyst           London Approach   \n",
       "9                    Data Analyst                    PayPal   \n",
       "\n",
       "                                         description onsite_remote  \\\n",
       "0  At PayPal (NASDAQ: PYPL), we believe that ever...        onsite   \n",
       "1  At PayPal (NASDAQ: PYPL), we believe that ever...        onsite   \n",
       "2  At PayPal (NASDAQ: PYPL), we believe that ever...        onsite   \n",
       "3  At PayPal (NASDAQ: PYPL), we believe that ever...        onsite   \n",
       "4  The Federal Savings Bank, a national bank and ...        onsite   \n",
       "5  At PayPal (NASDAQ: PYPL), we believe that ever...        onsite   \n",
       "6  At PayPal (NASDAQ: PYPL), we believe that ever...        onsite   \n",
       "7  At PayPal (NASDAQ: PYPL), we believe that ever...        onsite   \n",
       "8  The ideal candidate for the Data Analyst/Finan...        onsite   \n",
       "9  At PayPal (NASDAQ: PYPL), we believe that ever...        onsite   \n",
       "\n",
       "   salary_float                    location  \\\n",
       "0       86658.0  Buffalo-Niagara Falls Area   \n",
       "1       74052.0                San Jose, CA   \n",
       "2       81425.0        Texas, United States   \n",
       "3       74828.0     Illinois, United States   \n",
       "4       83737.0                 Chicago, IL   \n",
       "5       82802.0       Greater Scranton Area   \n",
       "6      104876.5    Tennessee, United States   \n",
       "7       69238.0      Indiana, United States   \n",
       "8      110000.0                Franklin, TN   \n",
       "9       96382.0    Wisconsin, United States   \n",
       "\n",
       "                                            criteria posted_date  \\\n",
       "0  [{'Seniority level': 'Not Applicable'}, {'Empl...  2022-11-22   \n",
       "1  [{'Seniority level': 'Not Applicable'}, {'Empl...  2022-11-22   \n",
       "2  [{'Seniority level': 'Not Applicable'}, {'Empl...  2022-11-17   \n",
       "3  [{'Seniority level': 'Not Applicable'}, {'Empl...  2022-11-17   \n",
       "4  [{'Seniority level': 'Entry level'}, {'Employm...  2022-11-17   \n",
       "5  [{'Seniority level': 'Not Applicable'}, {'Empl...  2022-11-17   \n",
       "6  [{'Seniority level': 'Not Applicable'}, {'Empl...  2022-11-17   \n",
       "7  [{'Seniority level': 'Not Applicable'}, {'Empl...  2022-11-17   \n",
       "8  [{'Seniority level': 'Associate'}, {'Employmen...  2022-11-21   \n",
       "9  [{'Seniority level': 'Not Applicable'}, {'Empl...  2022-11-17   \n",
       "\n",
       "                                                link  \n",
       "0  https://www.linkedin.com/jobs/view/data-analys...  \n",
       "1  https://www.linkedin.com/jobs/view/data-analys...  \n",
       "2  https://www.linkedin.com/jobs/view/data-analys...  \n",
       "3  https://www.linkedin.com/jobs/view/data-analys...  \n",
       "4  https://www.linkedin.com/jobs/view/entry-level...  \n",
       "5  https://www.linkedin.com/jobs/view/data-analys...  \n",
       "6  https://www.linkedin.com/jobs/view/data-analys...  \n",
       "7  https://www.linkedin.com/jobs/view/data-analys...  \n",
       "8  https://www.linkedin.com/jobs/view/data-analys...  \n",
       "9  https://www.linkedin.com/jobs/view/data-analys...  "
      ]
     },
     "execution_count": 6,
     "metadata": {},
     "output_type": "execute_result"
    }
   ],
   "source": [
    "df.head(10)  # muestra las primeras 10 filas del DataFrame"
   ]
  },
  {
   "cell_type": "code",
   "execution_count": 4,
   "id": "6fa937c5",
   "metadata": {},
   "outputs": [
    {
     "name": "stdout",
     "output_type": "stream",
     "text": [
      "Las Primeras Filas De Este Csv son: \n",
      "                            title                   company  \\\n",
      "0  Data Analyst - Recent Graduate                    PayPal   \n",
      "1  Data Analyst - Recent Graduate                    PayPal   \n",
      "2                    Data Analyst                    PayPal   \n",
      "3                    Data Analyst                    PayPal   \n",
      "4        Entry-Level Data Analyst  The Federal Savings Bank   \n",
      "5                    Data Analyst                    PayPal   \n",
      "6                    Data Analyst                    PayPal   \n",
      "7                    Data Analyst                    PayPal   \n",
      "8                    Data Analyst           London Approach   \n",
      "9                    Data Analyst                    PayPal   \n",
      "\n",
      "                                         description onsite_remote  \\\n",
      "0  At PayPal (NASDAQ: PYPL), we believe that ever...        onsite   \n",
      "1  At PayPal (NASDAQ: PYPL), we believe that ever...        onsite   \n",
      "2  At PayPal (NASDAQ: PYPL), we believe that ever...        onsite   \n",
      "3  At PayPal (NASDAQ: PYPL), we believe that ever...        onsite   \n",
      "4  The Federal Savings Bank, a national bank and ...        onsite   \n",
      "5  At PayPal (NASDAQ: PYPL), we believe that ever...        onsite   \n",
      "6  At PayPal (NASDAQ: PYPL), we believe that ever...        onsite   \n",
      "7  At PayPal (NASDAQ: PYPL), we believe that ever...        onsite   \n",
      "8  The ideal candidate for the Data Analyst/Finan...        onsite   \n",
      "9  At PayPal (NASDAQ: PYPL), we believe that ever...        onsite   \n",
      "\n",
      "   salary_float                    location  \\\n",
      "0       86658.0  Buffalo-Niagara Falls Area   \n",
      "1       74052.0                San Jose, CA   \n",
      "2       81425.0        Texas, United States   \n",
      "3       74828.0     Illinois, United States   \n",
      "4       83737.0                 Chicago, IL   \n",
      "5       82802.0       Greater Scranton Area   \n",
      "6      104876.5    Tennessee, United States   \n",
      "7       69238.0      Indiana, United States   \n",
      "8      110000.0                Franklin, TN   \n",
      "9       96382.0    Wisconsin, United States   \n",
      "\n",
      "                                            criteria posted_date  \\\n",
      "0  [{'Seniority level': 'Not Applicable'}, {'Empl...  2022-11-22   \n",
      "1  [{'Seniority level': 'Not Applicable'}, {'Empl...  2022-11-22   \n",
      "2  [{'Seniority level': 'Not Applicable'}, {'Empl...  2022-11-17   \n",
      "3  [{'Seniority level': 'Not Applicable'}, {'Empl...  2022-11-17   \n",
      "4  [{'Seniority level': 'Entry level'}, {'Employm...  2022-11-17   \n",
      "5  [{'Seniority level': 'Not Applicable'}, {'Empl...  2022-11-17   \n",
      "6  [{'Seniority level': 'Not Applicable'}, {'Empl...  2022-11-17   \n",
      "7  [{'Seniority level': 'Not Applicable'}, {'Empl...  2022-11-17   \n",
      "8  [{'Seniority level': 'Associate'}, {'Employmen...  2022-11-21   \n",
      "9  [{'Seniority level': 'Not Applicable'}, {'Empl...  2022-11-17   \n",
      "\n",
      "                                                link  \n",
      "0  https://www.linkedin.com/jobs/view/data-analys...  \n",
      "1  https://www.linkedin.com/jobs/view/data-analys...  \n",
      "2  https://www.linkedin.com/jobs/view/data-analys...  \n",
      "3  https://www.linkedin.com/jobs/view/data-analys...  \n",
      "4  https://www.linkedin.com/jobs/view/entry-level...  \n",
      "5  https://www.linkedin.com/jobs/view/data-analys...  \n",
      "6  https://www.linkedin.com/jobs/view/data-analys...  \n",
      "7  https://www.linkedin.com/jobs/view/data-analys...  \n",
      "8  https://www.linkedin.com/jobs/view/data-analys...  \n",
      "9  https://www.linkedin.com/jobs/view/data-analys...  \n"
     ]
    }
   ],
   "source": [
    "print('Las Primeras Filas De Este Csv son: ')\n",
    "print(df.head(10))\n"
   ]
  },
  {
   "cell_type": "markdown",
   "id": "f505338b",
   "metadata": {},
   "source": [
    "| **Parte**                        | **¿Qué te dice?**                                                                           |\n",
    "| -------------------------------- | ------------------------------------------------------------------------------------------- |\n",
    "| `RangeIndex: 100 entries`        | El número de filas (100).                                                                   |\n",
    "| `Data columns (total 4 columns)` | El número total de columnas (4).                                                            |\n",
    "| `#`                              | Número de la columna en orden.                                                              |\n",
    "| `Column`                         | Nombre de cada columna.                                                                     |\n",
    "| `Non-Null Count`                 | Cuántos valores **no nulos** hay (útil para ver si hay `NaN`).                              |\n",
    "| `Dtype`                          | Tipo de dato de cada columna (`object` para texto, `float64` para números decimales, etc.). |\n",
    "| `memory usage`                   | Cuánta memoria está usando el DataFrame.                                                    |\n"
   ]
  },
  {
   "cell_type": "markdown",
   "id": "442bf108",
   "metadata": {},
   "source": [
    "ahora iremos con el `describe()`"
   ]
  },
  {
   "cell_type": "markdown",
   "id": "c5b1ba07",
   "metadata": {},
   "source": [
    "| **¿Qué hace?**                                                                                                | **¿Para qué sirve?**                                                                        |\n",
    "| ------------------------------------------------------------------------------------------------------------- | ------------------------------------------------------------------------------------------- |\n",
    "| Genera estadísticas descriptivas (media, desviación estándar, min, max, cuartiles) de las columnas numéricas. | Para entender el comportamiento general de los datos numéricos y detectar valores atípicos. |\n"
   ]
  },
  {
   "cell_type": "code",
   "execution_count": 5,
   "id": "d6ced2df",
   "metadata": {},
   "outputs": [
    {
     "data": {
      "text/html": [
       "<div>\n",
       "<style scoped>\n",
       "    .dataframe tbody tr th:only-of-type {\n",
       "        vertical-align: middle;\n",
       "    }\n",
       "\n",
       "    .dataframe tbody tr th {\n",
       "        vertical-align: top;\n",
       "    }\n",
       "\n",
       "    .dataframe thead th {\n",
       "        text-align: right;\n",
       "    }\n",
       "</style>\n",
       "<table border=\"1\" class=\"dataframe\">\n",
       "  <thead>\n",
       "    <tr style=\"text-align: right;\">\n",
       "      <th></th>\n",
       "      <th>salary_float</th>\n",
       "    </tr>\n",
       "  </thead>\n",
       "  <tbody>\n",
       "    <tr>\n",
       "      <th>count</th>\n",
       "      <td>2845.000000</td>\n",
       "    </tr>\n",
       "    <tr>\n",
       "      <th>mean</th>\n",
       "      <td>75528.560633</td>\n",
       "    </tr>\n",
       "    <tr>\n",
       "      <th>std</th>\n",
       "      <td>34985.578239</td>\n",
       "    </tr>\n",
       "    <tr>\n",
       "      <th>min</th>\n",
       "      <td>23.000000</td>\n",
       "    </tr>\n",
       "    <tr>\n",
       "      <th>25%</th>\n",
       "      <td>71451.500000</td>\n",
       "    </tr>\n",
       "    <tr>\n",
       "      <th>50%</th>\n",
       "      <td>84108.500000</td>\n",
       "    </tr>\n",
       "    <tr>\n",
       "      <th>75%</th>\n",
       "      <td>96004.000000</td>\n",
       "    </tr>\n",
       "    <tr>\n",
       "      <th>max</th>\n",
       "      <td>140000.000000</td>\n",
       "    </tr>\n",
       "  </tbody>\n",
       "</table>\n",
       "</div>"
      ],
      "text/plain": [
       "        salary_float\n",
       "count    2845.000000\n",
       "mean    75528.560633\n",
       "std     34985.578239\n",
       "min        23.000000\n",
       "25%     71451.500000\n",
       "50%     84108.500000\n",
       "75%     96004.000000\n",
       "max    140000.000000"
      ]
     },
     "execution_count": 5,
     "metadata": {},
     "output_type": "execute_result"
    }
   ],
   "source": [
    "df.describe()\n"
   ]
  },
  {
   "cell_type": "code",
   "execution_count": 6,
   "id": "9de32364",
   "metadata": {},
   "outputs": [
    {
     "data": {
      "text/plain": [
       "np.float64(84108.5)"
      ]
     },
     "execution_count": 6,
     "metadata": {},
     "output_type": "execute_result"
    }
   ],
   "source": [
    "df['salary_float'].median()"
   ]
  },
  {
   "cell_type": "markdown",
   "id": "e8066bc1",
   "metadata": {},
   "source": [
    "| **¿Qué hace?**                                                            | **¿Para qué sirve?**                                                                  |\n",
    "| ------------------------------------------------------------------------- | ------------------------------------------------------------------------------------- |\n",
    "| Muestra el tipo de dato de cada columna (`object`, `int`, `float`, etc.). | Para asegurarse de que los datos tienen el tipo correcto y detectar posibles errores. |\n",
    "\n",
    "## permite visualizar los tipos de datos de la columnas "
   ]
  },
  {
   "cell_type": "code",
   "execution_count": 7,
   "id": "8201ed5f",
   "metadata": {},
   "outputs": [
    {
     "data": {
      "text/plain": [
       "title             object\n",
       "company           object\n",
       "description       object\n",
       "onsite_remote     object\n",
       "salary_float     float64\n",
       "location          object\n",
       "criteria          object\n",
       "posted_date       object\n",
       "link              object\n",
       "dtype: object"
      ]
     },
     "execution_count": 7,
     "metadata": {},
     "output_type": "execute_result"
    }
   ],
   "source": [
    "df.dtypes"
   ]
  },
  {
   "cell_type": "markdown",
   "id": "39049b10",
   "metadata": {},
   "source": [
    "| **¿Qué hace?**                                                     | **¿Para qué sirve?**                              |\n",
    "| ------------------------------------------------------------------ | ------------------------------------------------- |\n",
    "| Muestra una tupla con el número de filas y columnas del DataFrame. | Para conocer rápidamente el tamaño del DataFrame. |\n"
   ]
  },
  {
   "cell_type": "code",
   "execution_count": 8,
   "id": "f2767d65",
   "metadata": {},
   "outputs": [
    {
     "data": {
      "text/plain": [
       "(2845, 9)"
      ]
     },
     "execution_count": 8,
     "metadata": {},
     "output_type": "execute_result"
    }
   ],
   "source": [
    "df.shape"
   ]
  },
  {
   "cell_type": "markdown",
   "id": "95747d56",
   "metadata": {},
   "source": [
    "df.shepe al asignar un valos nos mostrara el resultado[0] para el total de las columanas [1] la columnas el total "
   ]
  },
  {
   "cell_type": "code",
   "execution_count": 10,
   "id": "40802e91",
   "metadata": {},
   "outputs": [
    {
     "data": {
      "text/plain": [
       "2845"
      ]
     },
     "execution_count": 10,
     "metadata": {},
     "output_type": "execute_result"
    }
   ],
   "source": [
    "df.shape[0]  # número de filas"
   ]
  },
  {
   "cell_type": "code",
   "execution_count": 11,
   "id": "2ca3e388",
   "metadata": {},
   "outputs": [
    {
     "data": {
      "text/plain": [
       "9"
      ]
     },
     "execution_count": 11,
     "metadata": {},
     "output_type": "execute_result"
    }
   ],
   "source": [
    "df.shape[1]"
   ]
  },
  {
   "cell_type": "markdown",
   "id": "fe4d43a9",
   "metadata": {},
   "source": [
    "## tail \n",
    "| **Comando**  | **¿Qué hace?**                                                              | **¿Para qué sirve?**                                                |\n",
    "| ------------ | --------------------------------------------------------------------------- | ------------------------------------------------------------------- |\n",
    "| `df.tail(n)` | Muestra las últimas *n* filas de un DataFrame o Series. (Por defecto *n=5*) | Para ver rápidamente los últimos registros de un conjunto de datos. |\n",
    "\n",
    "\n",
    " Al igual que head, puedes poner un valor dentro de los paréntesis para ver los últimos datos que tenemos en nuestro archivo."
   ]
  },
  {
   "cell_type": "code",
   "execution_count": 12,
   "id": "6e9a5a5b",
   "metadata": {},
   "outputs": [
    {
     "data": {
      "text/html": [
       "<div>\n",
       "<style scoped>\n",
       "    .dataframe tbody tr th:only-of-type {\n",
       "        vertical-align: middle;\n",
       "    }\n",
       "\n",
       "    .dataframe tbody tr th {\n",
       "        vertical-align: top;\n",
       "    }\n",
       "\n",
       "    .dataframe thead th {\n",
       "        text-align: right;\n",
       "    }\n",
       "</style>\n",
       "<table border=\"1\" class=\"dataframe\">\n",
       "  <thead>\n",
       "    <tr style=\"text-align: right;\">\n",
       "      <th></th>\n",
       "      <th>title</th>\n",
       "      <th>company</th>\n",
       "      <th>description</th>\n",
       "      <th>onsite_remote</th>\n",
       "      <th>salary_float</th>\n",
       "      <th>location</th>\n",
       "      <th>criteria</th>\n",
       "      <th>posted_date</th>\n",
       "      <th>link</th>\n",
       "    </tr>\n",
       "  </thead>\n",
       "  <tbody>\n",
       "    <tr>\n",
       "      <th>2840</th>\n",
       "      <td>Junior Data Analyst</td>\n",
       "      <td>Iris Software Inc.</td>\n",
       "      <td>Iris's client, one of the world's largest fina...</td>\n",
       "      <td>hybrid</td>\n",
       "      <td>93219.5</td>\n",
       "      <td>Texas, United States</td>\n",
       "      <td>[{'Seniority level': 'Mid-Senior level'}, {'Em...</td>\n",
       "      <td>2022-10-21</td>\n",
       "      <td>https://www.linkedin.com/jobs/view/junior-data...</td>\n",
       "    </tr>\n",
       "    <tr>\n",
       "      <th>2841</th>\n",
       "      <td>Data Analyst (SQL)</td>\n",
       "      <td>Marwood Group</td>\n",
       "      <td>The Marwood Group (Marwood) is a leading healt...</td>\n",
       "      <td>hybrid</td>\n",
       "      <td>85000.0</td>\n",
       "      <td>New York City Metropolitan Area</td>\n",
       "      <td>[{'Seniority level': 'Mid-Senior level'}, {'Em...</td>\n",
       "      <td>2022-10-26</td>\n",
       "      <td>https://www.linkedin.com/jobs/view/data-analys...</td>\n",
       "    </tr>\n",
       "    <tr>\n",
       "      <th>2842</th>\n",
       "      <td>Data Analyst</td>\n",
       "      <td>SmartSense by Digi</td>\n",
       "      <td>Join a high-performing, tight-knit team at a f...</td>\n",
       "      <td>hybrid</td>\n",
       "      <td>76407.5</td>\n",
       "      <td>Mishawaka, IN</td>\n",
       "      <td>[{'Seniority level': 'Associate'}, {'Employmen...</td>\n",
       "      <td>2022-11-17</td>\n",
       "      <td>https://www.linkedin.com/jobs/view/data-analys...</td>\n",
       "    </tr>\n",
       "    <tr>\n",
       "      <th>2843</th>\n",
       "      <td>Data Analyst</td>\n",
       "      <td>Synergy Search</td>\n",
       "      <td>Nashville (Berry Hill) based company looking t...</td>\n",
       "      <td>hybrid</td>\n",
       "      <td>90000.0</td>\n",
       "      <td>Nashville Metropolitan Area</td>\n",
       "      <td>[{'Seniority level': 'Not Applicable'}, {'Empl...</td>\n",
       "      <td>2022-11-14</td>\n",
       "      <td>https://www.linkedin.com/jobs/view/data-analys...</td>\n",
       "    </tr>\n",
       "    <tr>\n",
       "      <th>2844</th>\n",
       "      <td>Data Analyst</td>\n",
       "      <td>Insight Global</td>\n",
       "      <td>Overview - Minimum 5 years in a quantitative d...</td>\n",
       "      <td>hybrid</td>\n",
       "      <td>140000.0</td>\n",
       "      <td>Burbank, CA</td>\n",
       "      <td>[{'Seniority level': 'Mid-Senior level'}, {'Em...</td>\n",
       "      <td>2022-11-14</td>\n",
       "      <td>https://www.linkedin.com/jobs/view/data-analys...</td>\n",
       "    </tr>\n",
       "  </tbody>\n",
       "</table>\n",
       "</div>"
      ],
      "text/plain": [
       "                    title             company  \\\n",
       "2840  Junior Data Analyst  Iris Software Inc.   \n",
       "2841   Data Analyst (SQL)       Marwood Group   \n",
       "2842         Data Analyst  SmartSense by Digi   \n",
       "2843         Data Analyst      Synergy Search   \n",
       "2844         Data Analyst      Insight Global   \n",
       "\n",
       "                                            description onsite_remote  \\\n",
       "2840  Iris's client, one of the world's largest fina...        hybrid   \n",
       "2841  The Marwood Group (Marwood) is a leading healt...        hybrid   \n",
       "2842  Join a high-performing, tight-knit team at a f...        hybrid   \n",
       "2843  Nashville (Berry Hill) based company looking t...        hybrid   \n",
       "2844  Overview - Minimum 5 years in a quantitative d...        hybrid   \n",
       "\n",
       "      salary_float                         location  \\\n",
       "2840       93219.5             Texas, United States   \n",
       "2841       85000.0  New York City Metropolitan Area   \n",
       "2842       76407.5                    Mishawaka, IN   \n",
       "2843       90000.0      Nashville Metropolitan Area   \n",
       "2844      140000.0                      Burbank, CA   \n",
       "\n",
       "                                               criteria posted_date  \\\n",
       "2840  [{'Seniority level': 'Mid-Senior level'}, {'Em...  2022-10-21   \n",
       "2841  [{'Seniority level': 'Mid-Senior level'}, {'Em...  2022-10-26   \n",
       "2842  [{'Seniority level': 'Associate'}, {'Employmen...  2022-11-17   \n",
       "2843  [{'Seniority level': 'Not Applicable'}, {'Empl...  2022-11-14   \n",
       "2844  [{'Seniority level': 'Mid-Senior level'}, {'Em...  2022-11-14   \n",
       "\n",
       "                                                   link  \n",
       "2840  https://www.linkedin.com/jobs/view/junior-data...  \n",
       "2841  https://www.linkedin.com/jobs/view/data-analys...  \n",
       "2842  https://www.linkedin.com/jobs/view/data-analys...  \n",
       "2843  https://www.linkedin.com/jobs/view/data-analys...  \n",
       "2844  https://www.linkedin.com/jobs/view/data-analys...  "
      ]
     },
     "execution_count": 12,
     "metadata": {},
     "output_type": "execute_result"
    }
   ],
   "source": [
    "df.tail()  # muestra las últimas filas del DataFrame"
   ]
  },
  {
   "cell_type": "code",
   "execution_count": 15,
   "id": "9ff7ef5c",
   "metadata": {},
   "outputs": [
    {
     "data": {
      "text/plain": [
       "Index(['title', 'company', 'description', 'onsite_remote', 'salary_float',\n",
       "       'location', 'criteria', 'posted_date', 'link'],\n",
       "      dtype='object')"
      ]
     },
     "execution_count": 15,
     "metadata": {},
     "output_type": "execute_result"
    }
   ],
   "source": [
    "df.columns  # muestra los nombres de las columnas"
   ]
  },
  {
   "cell_type": "code",
   "execution_count": 14,
   "id": "13005759",
   "metadata": {},
   "outputs": [
    {
     "data": {
      "text/plain": [
       "RangeIndex(start=0, stop=2845, step=1)"
      ]
     },
     "execution_count": 14,
     "metadata": {},
     "output_type": "execute_result"
    }
   ],
   "source": [
    "df.index  # muestra los nombres de las columnas"
   ]
  },
  {
   "cell_type": "markdown",
   "id": "43987498",
   "metadata": {},
   "source": [
    "##"
   ]
  }
 ],
 "metadata": {
  "kernelspec": {
   "display_name": "Python 3",
   "language": "python",
   "name": "python3"
  },
  "language_info": {
   "codemirror_mode": {
    "name": "ipython",
    "version": 3
   },
   "file_extension": ".py",
   "mimetype": "text/x-python",
   "name": "python",
   "nbconvert_exporter": "python",
   "pygments_lexer": "ipython3",
   "version": "3.13.3"
  }
 },
 "nbformat": 4,
 "nbformat_minor": 5
}
