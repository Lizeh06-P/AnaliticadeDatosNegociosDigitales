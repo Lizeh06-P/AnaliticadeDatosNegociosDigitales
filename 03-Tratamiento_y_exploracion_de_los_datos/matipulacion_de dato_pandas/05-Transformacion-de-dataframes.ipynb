{
 "cells": [
  {
   "cell_type": "markdown",
   "id": "5c912e47",
   "metadata": {},
   "source": [
    "# Transformada de DataFrames"
   ]
  },
  {
   "cell_type": "markdown",
   "id": "fcea4986",
   "metadata": {},
   "source": [
    "## inspeccionar una dataframe "
   ]
  },
  {
   "cell_type": "code",
   "execution_count": 37,
   "id": "b3f49db6",
   "metadata": {},
   "outputs": [],
   "source": [
    "#import la libreria de pandas\n",
    "import pandas as pd \n"
   ]
  },
  {
   "cell_type": "code",
   "execution_count": 36,
   "id": "55d1d29b",
   "metadata": {},
   "outputs": [],
   "source": [
    "homelessness =pd.read_csv('./data st/homelessness.csv ',index_col=0)"
   ]
  },
  {
   "cell_type": "code",
   "execution_count": 16,
   "id": "7b8512b9",
   "metadata": {},
   "outputs": [
    {
     "data": {
      "text/html": [
       "<div>\n",
       "<style scoped>\n",
       "    .dataframe tbody tr th:only-of-type {\n",
       "        vertical-align: middle;\n",
       "    }\n",
       "\n",
       "    .dataframe tbody tr th {\n",
       "        vertical-align: top;\n",
       "    }\n",
       "\n",
       "    .dataframe thead th {\n",
       "        text-align: right;\n",
       "    }\n",
       "</style>\n",
       "<table border=\"1\" class=\"dataframe\">\n",
       "  <thead>\n",
       "    <tr style=\"text-align: right;\">\n",
       "      <th></th>\n",
       "      <th>region</th>\n",
       "      <th>state</th>\n",
       "      <th>individuals</th>\n",
       "      <th>family_members</th>\n",
       "      <th>state_pop</th>\n",
       "      <th>Total</th>\n",
       "    </tr>\n",
       "  </thead>\n",
       "  <tbody>\n",
       "    <tr>\n",
       "      <th>0</th>\n",
       "      <td>East South Central</td>\n",
       "      <td>Alabama</td>\n",
       "      <td>2570.0</td>\n",
       "      <td>864.0</td>\n",
       "      <td>4887681</td>\n",
       "      <td>3434.0</td>\n",
       "    </tr>\n",
       "    <tr>\n",
       "      <th>1</th>\n",
       "      <td>Pacific</td>\n",
       "      <td>Alaska</td>\n",
       "      <td>1434.0</td>\n",
       "      <td>582.0</td>\n",
       "      <td>735139</td>\n",
       "      <td>2016.0</td>\n",
       "    </tr>\n",
       "    <tr>\n",
       "      <th>2</th>\n",
       "      <td>Mountain</td>\n",
       "      <td>Arizona</td>\n",
       "      <td>7259.0</td>\n",
       "      <td>2606.0</td>\n",
       "      <td>7158024</td>\n",
       "      <td>9865.0</td>\n",
       "    </tr>\n",
       "    <tr>\n",
       "      <th>3</th>\n",
       "      <td>West South Central</td>\n",
       "      <td>Arkansas</td>\n",
       "      <td>2280.0</td>\n",
       "      <td>432.0</td>\n",
       "      <td>3009733</td>\n",
       "      <td>2712.0</td>\n",
       "    </tr>\n",
       "    <tr>\n",
       "      <th>4</th>\n",
       "      <td>Pacific</td>\n",
       "      <td>California</td>\n",
       "      <td>109008.0</td>\n",
       "      <td>20964.0</td>\n",
       "      <td>39461588</td>\n",
       "      <td>129972.0</td>\n",
       "    </tr>\n",
       "  </tbody>\n",
       "</table>\n",
       "</div>"
      ],
      "text/plain": [
       "               region       state  individuals  family_members  state_pop  \\\n",
       "0  East South Central     Alabama       2570.0           864.0    4887681   \n",
       "1             Pacific      Alaska       1434.0           582.0     735139   \n",
       "2            Mountain     Arizona       7259.0          2606.0    7158024   \n",
       "3  West South Central    Arkansas       2280.0           432.0    3009733   \n",
       "4             Pacific  California     109008.0         20964.0   39461588   \n",
       "\n",
       "      Total  \n",
       "0    3434.0  \n",
       "1    2016.0  \n",
       "2    9865.0  \n",
       "3    2712.0  \n",
       "4  129972.0  "
      ]
     },
     "execution_count": 16,
     "metadata": {},
     "output_type": "execute_result"
    }
   ],
   "source": [
    "homelessness.head()"
   ]
  },
  {
   "cell_type": "code",
   "execution_count": 17,
   "id": "eab7549b",
   "metadata": {},
   "outputs": [
    {
     "name": "stdout",
     "output_type": "stream",
     "text": [
      "<class 'pandas.core.frame.DataFrame'>\n",
      "Index: 51 entries, 0 to 50\n",
      "Data columns (total 6 columns):\n",
      " #   Column          Non-Null Count  Dtype  \n",
      "---  ------          --------------  -----  \n",
      " 0   region          51 non-null     object \n",
      " 1   state           51 non-null     object \n",
      " 2   individuals     51 non-null     float64\n",
      " 3   family_members  51 non-null     float64\n",
      " 4   state_pop       51 non-null     int64  \n",
      " 5   Total           51 non-null     float64\n",
      "dtypes: float64(3), int64(1), object(2)\n",
      "memory usage: 2.8+ KB\n",
      "None\n"
     ]
    }
   ],
   "source": [
    "print(homelessness.info())"
   ]
  },
  {
   "cell_type": "code",
   "execution_count": 18,
   "id": "e8232617",
   "metadata": {},
   "outputs": [
    {
     "name": "stdout",
     "output_type": "stream",
     "text": [
      "(51, 6)\n"
     ]
    }
   ],
   "source": [
    "#impirmir el tama;o de data \n",
    "\n",
    "print(homelessness.shape)"
   ]
  },
  {
   "cell_type": "code",
   "execution_count": 19,
   "id": "ddcfddc2",
   "metadata": {},
   "outputs": [
    {
     "name": "stdout",
     "output_type": "stream",
     "text": [
      "         individuals  family_members     state_pop          Total\n",
      "count      51.000000       51.000000  5.100000e+01      51.000000\n",
      "mean     7225.784314     3504.882353  6.405637e+06   10730.666667\n",
      "std     15991.025083     7805.411811  7.327258e+06   21777.558637\n",
      "min       434.000000       75.000000  5.776010e+05     542.000000\n",
      "25%      1446.500000      592.000000  1.777414e+06    2318.500000\n",
      "50%      3082.000000     1482.000000  4.461153e+06    4907.000000\n",
      "75%      6781.500000     3196.000000  7.340946e+06    9448.500000\n",
      "max    109008.000000    52070.000000  3.946159e+07  129972.000000\n"
     ]
    }
   ],
   "source": [
    "# pint la descripcion de homelessness\n",
    "print(homelessness.describe())"
   ]
  },
  {
   "cell_type": "markdown",
   "id": "4811284b",
   "metadata": {},
   "source": [
    "## Partes de un DataFrame"
   ]
  },
  {
   "cell_type": "code",
   "execution_count": 20,
   "id": "ac5be6de",
   "metadata": {},
   "outputs": [
    {
     "name": "stdout",
     "output_type": "stream",
     "text": [
      "[['East South Central' 'Alabama' 2570.0 864.0 4887681 3434.0]\n",
      " ['Pacific' 'Alaska' 1434.0 582.0 735139 2016.0]\n",
      " ['Mountain' 'Arizona' 7259.0 2606.0 7158024 9865.0]\n",
      " ['West South Central' 'Arkansas' 2280.0 432.0 3009733 2712.0]\n",
      " ['Pacific' 'California' 109008.0 20964.0 39461588 129972.0]\n",
      " ['Mountain' 'Colorado' 7607.0 3250.0 5691287 10857.0]\n",
      " ['New England' 'Connecticut' 2280.0 1696.0 3571520 3976.0]\n",
      " ['South Atlantic' 'Delaware' 708.0 374.0 965479 1082.0]\n",
      " ['South Atlantic' 'District of Columbia' 3770.0 3134.0 701547 6904.0]\n",
      " ['South Atlantic' 'Florida' 21443.0 9587.0 21244317 31030.0]\n",
      " ['South Atlantic' 'Georgia' 6943.0 2556.0 10511131 9499.0]\n",
      " ['Pacific' 'Hawaii' 4131.0 2399.0 1420593 6530.0]\n",
      " ['Mountain' 'Idaho' 1297.0 715.0 1750536 2012.0]\n",
      " ['East North Central' 'Illinois' 6752.0 3891.0 12723071 10643.0]\n",
      " ['East North Central' 'Indiana' 3776.0 1482.0 6695497 5258.0]\n",
      " ['West North Central' 'Iowa' 1711.0 1038.0 3148618 2749.0]\n",
      " ['West North Central' 'Kansas' 1443.0 773.0 2911359 2216.0]\n",
      " ['East South Central' 'Kentucky' 2735.0 953.0 4461153 3688.0]\n",
      " ['West South Central' 'Louisiana' 2540.0 519.0 4659690 3059.0]\n",
      " ['New England' 'Maine' 1450.0 1066.0 1339057 2516.0]\n",
      " ['South Atlantic' 'Maryland' 4914.0 2230.0 6035802 7144.0]\n",
      " ['New England' 'Massachusetts' 6811.0 13257.0 6882635 20068.0]\n",
      " ['East North Central' 'Michigan' 5209.0 3142.0 9984072 8351.0]\n",
      " ['West North Central' 'Minnesota' 3993.0 3250.0 5606249 7243.0]\n",
      " ['East South Central' 'Mississippi' 1024.0 328.0 2981020 1352.0]\n",
      " ['West North Central' 'Missouri' 3776.0 2107.0 6121623 5883.0]\n",
      " ['Mountain' 'Montana' 983.0 422.0 1060665 1405.0]\n",
      " ['West North Central' 'Nebraska' 1745.0 676.0 1925614 2421.0]\n",
      " ['Mountain' 'Nevada' 7058.0 486.0 3027341 7544.0]\n",
      " ['New England' 'New Hampshire' 835.0 615.0 1353465 1450.0]\n",
      " ['Mid-Atlantic' 'New Jersey' 6048.0 3350.0 8886025 9398.0]\n",
      " ['Mountain' 'New Mexico' 1949.0 602.0 2092741 2551.0]\n",
      " ['Mid-Atlantic' 'New York' 39827.0 52070.0 19530351 91897.0]\n",
      " ['South Atlantic' 'North Carolina' 6451.0 2817.0 10381615 9268.0]\n",
      " ['West North Central' 'North Dakota' 467.0 75.0 758080 542.0]\n",
      " ['East North Central' 'Ohio' 6929.0 3320.0 11676341 10249.0]\n",
      " ['West South Central' 'Oklahoma' 2823.0 1048.0 3940235 3871.0]\n",
      " ['Pacific' 'Oregon' 11139.0 3337.0 4181886 14476.0]\n",
      " ['Mid-Atlantic' 'Pennsylvania' 8163.0 5349.0 12800922 13512.0]\n",
      " ['New England' 'Rhode Island' 747.0 354.0 1058287 1101.0]\n",
      " ['South Atlantic' 'South Carolina' 3082.0 851.0 5084156 3933.0]\n",
      " ['West North Central' 'South Dakota' 836.0 323.0 878698 1159.0]\n",
      " ['East South Central' 'Tennessee' 6139.0 1744.0 6771631 7883.0]\n",
      " ['West South Central' 'Texas' 19199.0 6111.0 28628666 25310.0]\n",
      " ['Mountain' 'Utah' 1904.0 972.0 3153550 2876.0]\n",
      " ['New England' 'Vermont' 780.0 511.0 624358 1291.0]\n",
      " ['South Atlantic' 'Virginia' 3928.0 2047.0 8501286 5975.0]\n",
      " ['Pacific' 'Washington' 16424.0 5880.0 7523869 22304.0]\n",
      " ['South Atlantic' 'West Virginia' 1021.0 222.0 1804291 1243.0]\n",
      " ['East North Central' 'Wisconsin' 2740.0 2167.0 5807406 4907.0]\n",
      " ['Mountain' 'Wyoming' 434.0 205.0 577601 639.0]]\n"
     ]
    }
   ],
   "source": [
    "#imprimir los valores del dataframe \n",
    "print(homelessness.values)"
   ]
  },
  {
   "cell_type": "code",
   "execution_count": 21,
   "id": "3dbaa2b3",
   "metadata": {},
   "outputs": [
    {
     "name": "stdout",
     "output_type": "stream",
     "text": [
      "Index(['region', 'state', 'individuals', 'family_members', 'state_pop',\n",
      "       'Total'],\n",
      "      dtype='object')\n"
     ]
    }
   ],
   "source": [
    "#imprimir las columnas \n",
    "print(homelessness.columns)\n",
    " "
   ]
  },
  {
   "cell_type": "code",
   "execution_count": 22,
   "id": "ecedd986",
   "metadata": {},
   "outputs": [
    {
     "name": "stdout",
     "output_type": "stream",
     "text": [
      "Index([ 0,  1,  2,  3,  4,  5,  6,  7,  8,  9, 10, 11, 12, 13, 14, 15, 16, 17,\n",
      "       18, 19, 20, 21, 22, 23, 24, 25, 26, 27, 28, 29, 30, 31, 32, 33, 34, 35,\n",
      "       36, 37, 38, 39, 40, 41, 42, 43, 44, 45, 46, 47, 48, 49, 50],\n",
      "      dtype='int64')\n"
     ]
    }
   ],
   "source": [
    "#imprimir los indices de las filas \n",
    "print(homelessness.index)"
   ]
  },
  {
   "cell_type": "markdown",
   "id": "b14ee63d",
   "metadata": {},
   "source": [
    "## Ordenar Filas \n",
    "\n",
    "ordenar ee --- | Sintaxis    \n",
    "|--------------|---------------------------|\n",
    "|Una columna   | `df. sort_values(\"bread\")`|\n",
    "|Varias columnas   | `df. sort_values(\"bread\", \"weight_kg\")`|\n",
    "\n",
    "1. Ordenar homelessnes por el numero sin hogar de la columna individuales de menor a mayor y guardarlo como homelessnes_ind\n",
    "\n",
    "2. Ordeas homelenessess por el numero de personas sin hogar family_members en orden y guardarlo como homelessness_fam\n",
    "\n",
    "3. Ordena  homelenessess por region en forma decendente por numero de miembro de la familia de dforma decendente y hay que guardar en homelenessess_reg_fam\n",
    "3. Ordena  "
   ]
  },
  {
   "cell_type": "code",
   "execution_count": 23,
   "id": "99f5df5a",
   "metadata": {},
   "outputs": [
    {
     "name": "stdout",
     "output_type": "stream",
     "text": [
      "                region          state  individuals  family_members  state_pop  \\\n",
      "50            Mountain        Wyoming        434.0           205.0     577601   \n",
      "34  West North Central   North Dakota        467.0            75.0     758080   \n",
      "7       South Atlantic       Delaware        708.0           374.0     965479   \n",
      "39         New England   Rhode Island        747.0           354.0    1058287   \n",
      "45         New England        Vermont        780.0           511.0     624358   \n",
      "29         New England  New Hampshire        835.0           615.0    1353465   \n",
      "41  West North Central   South Dakota        836.0           323.0     878698   \n",
      "26            Mountain        Montana        983.0           422.0    1060665   \n",
      "48      South Atlantic  West Virginia       1021.0           222.0    1804291   \n",
      "24  East South Central    Mississippi       1024.0           328.0    2981020   \n",
      "\n",
      "     Total  \n",
      "50   639.0  \n",
      "34   542.0  \n",
      "7   1082.0  \n",
      "39  1101.0  \n",
      "45  1291.0  \n",
      "29  1450.0  \n",
      "41  1159.0  \n",
      "26  1405.0  \n",
      "48  1243.0  \n",
      "24  1352.0  \n"
     ]
    }
   ],
   "source": [
    "homelessness_ind = homelessness.sort_values(\"individuals\")\n",
    "print(homelessness_ind.head(10))"
   ]
  },
  {
   "cell_type": "code",
   "execution_count": 24,
   "id": "3e498266",
   "metadata": {},
   "outputs": [
    {
     "name": "stdout",
     "output_type": "stream",
     "text": [
      "                region          state  individuals  family_members  state_pop  \\\n",
      "32        Mid-Atlantic       New York      39827.0         52070.0   19530351   \n",
      "4              Pacific     California     109008.0         20964.0   39461588   \n",
      "21         New England  Massachusetts       6811.0         13257.0    6882635   \n",
      "9       South Atlantic        Florida      21443.0          9587.0   21244317   \n",
      "43  West South Central          Texas      19199.0          6111.0   28628666   \n",
      "47             Pacific     Washington      16424.0          5880.0    7523869   \n",
      "38        Mid-Atlantic   Pennsylvania       8163.0          5349.0   12800922   \n",
      "13  East North Central       Illinois       6752.0          3891.0   12723071   \n",
      "30        Mid-Atlantic     New Jersey       6048.0          3350.0    8886025   \n",
      "37             Pacific         Oregon      11139.0          3337.0    4181886   \n",
      "\n",
      "       Total  \n",
      "32   91897.0  \n",
      "4   129972.0  \n",
      "21   20068.0  \n",
      "9    31030.0  \n",
      "43   25310.0  \n",
      "47   22304.0  \n",
      "38   13512.0  \n",
      "13   10643.0  \n",
      "30    9398.0  \n",
      "37   14476.0  \n"
     ]
    }
   ],
   "source": [
    "#ordenar homelessnes por family_members de menor a mayor y guardarlo como homelessness_fam\n",
    "homelessness_fam = homelessness.sort_values('family_members', ascending=False)\n",
    "print(homelessness_fam.head(10))"
   ]
  },
  {
   "cell_type": "code",
   "execution_count": 14,
   "id": "9594b810",
   "metadata": {},
   "outputs": [
    {
     "name": "stdout",
     "output_type": "stream",
     "text": [
      "                region          state  individuals  family_members  state_pop  \\\n",
      "34  West North Central   North Dakota        467.0            75.0     758080   \n",
      "50            Mountain        Wyoming        434.0           205.0     577601   \n",
      "48      South Atlantic  West Virginia       1021.0           222.0    1804291   \n",
      "41  West North Central   South Dakota        836.0           323.0     878698   \n",
      "24  East South Central    Mississippi       1024.0           328.0    2981020   \n",
      "39         New England   Rhode Island        747.0           354.0    1058287   \n",
      "7       South Atlantic       Delaware        708.0           374.0     965479   \n",
      "26            Mountain        Montana        983.0           422.0    1060665   \n",
      "3   West South Central       Arkansas       2280.0           432.0    3009733   \n",
      "28            Mountain         Nevada       7058.0           486.0    3027341   \n",
      "\n",
      "     Total  \n",
      "34   542.0  \n",
      "50   639.0  \n",
      "48  1243.0  \n",
      "41  1159.0  \n",
      "24  1352.0  \n",
      "39  1101.0  \n",
      "7   1082.0  \n",
      "26  1405.0  \n",
      "3   2712.0  \n",
      "28  7544.0  \n"
     ]
    }
   ],
   "source": [
    "homelessness_fam = homelessness.sort_values('family_members', ascending=True)\n",
    "print(homelessness_fam.head(10))\n"
   ]
  },
  {
   "cell_type": "markdown",
   "id": "2e86e30f",
   "metadata": {},
   "source": [
    "## sudconjuntoss de columnas \n",
    "hay muchas formamas de su conjuntar un data frend quisa la mas comun sea utilizar operadores relacionales para devolver true o false para cada fila y despues pasarlo entre corchetes \n",
    "\n",
    "dogs[dogs[\"height_cm\"] > 60]\n",
    "dogs[dogs[\"color\"] == \"tan\"]\n",
    " tambien puedes fitar con varias condiciones el operador amperson  \n",
    "\n",
    " `dogs[ (dogs[height_cm\"] > 60) & (dogs[color'] == 'tan')]`\n",
    "\n",
    " **Instrucciones**\n",
    "\n",
    " 1. Filtra homelessness para los casos en los que el individuals sea superior a diez mil, asignadolasa ind_gt_10k. Visualizar el resultado\n",
    "\n",
    " 2. Filtra hommelessness para los casos que se usa en los que la region es MoUNTAIN ,ASIGNANDO  a mountein_reg.visualiza el resultado \n",
    " 3. filtra homelessness para los casos en los que el numero  de family_members se inferior a mil y la region sea 'pasifico' asisgnadolo a fam_it_1k_pac.visualizar el resultado\n"
   ]
  },
  {
   "cell_type": "code",
   "execution_count": 13,
   "id": "5b4cfa9c",
   "metadata": {},
   "outputs": [
    {
     "name": "stdout",
     "output_type": "stream",
     "text": [
      "ind_gt_10k:\n",
      "                region       state  individuals  family_members  state_pop  \\\n",
      "4              Pacific  California     109008.0         20964.0   39461588   \n",
      "9       South Atlantic     Florida      21443.0          9587.0   21244317   \n",
      "32        Mid-Atlantic    New York      39827.0         52070.0   19530351   \n",
      "37             Pacific      Oregon      11139.0          3337.0    4181886   \n",
      "43  West South Central       Texas      19199.0          6111.0   28628666   \n",
      "47             Pacific  Washington      16424.0          5880.0    7523869   \n",
      "\n",
      "       Total  \n",
      "4   129972.0  \n",
      "9    31030.0  \n",
      "32   91897.0  \n",
      "37   14476.0  \n",
      "43   25310.0  \n",
      "47   22304.0  \n"
     ]
    }
   ],
   "source": [
    "\n",
    "# 1. Filtrar individuals > 10000\n",
    "ind_gt_10k = homelessness[homelessness[\"individuals\"] > 10000]\n",
    "print(\"ind_gt_10k:\")\n",
    "print(ind_gt_10k.head(10))\n",
    "\n",
    "\n"
   ]
  },
  {
   "cell_type": "code",
   "execution_count": 12,
   "id": "39d510af",
   "metadata": {},
   "outputs": [
    {
     "name": "stdout",
     "output_type": "stream",
     "text": [
      "Empty DataFrame\n",
      "Columns: [region, state, individuals, family_members, state_pop, Total]\n",
      "Index: []\n"
     ]
    }
   ],
   "source": [
    "# 2. Filtrar region == 'MOUNTAIN'\n",
    "mountain_reg = homelessness[homelessness[\"region\"] == \"MOUNTAIN\"]\n",
    "mountain_reg.sort_values(\"individuals\", ascending=True)\n",
    "print(mountain_reg.head(10))\n"
   ]
  },
  {
   "cell_type": "code",
   "execution_count": 11,
   "id": "37ef6429",
   "metadata": {},
   "outputs": [
    {
     "name": "stdout",
     "output_type": "stream",
     "text": [
      "\n",
      "fam_lt_1k_pac:\n"
     ]
    }
   ],
   "source": [
    "# 3. Filtrar family_members < 1000 y region == 'PACIFIC'\n",
    "fam_lt_1k_pac = homelessness[\n",
    "    (homelessness[\"family_members\"] < 1000) &\n",
    "    (homelessness[\"region\"] == \"PACIFIC\")\n",
    "]\n",
    "print(\"\\nfam_lt_1k_pac:\")\n"
   ]
  },
  {
   "cell_type": "markdown",
   "id": "f03e607d",
   "metadata": {},
   "source": [
    "# subconjunto de filas por variables categorias \n",
    "\n",
    "utilizando el metodo `.isin()`que permitira abordar el problema escribiendo en una sola condicion en lugar en varias .por que  para segementar variables categoricas se utiliza el operador \n",
    "\n",
    "`colors =['brown','black','tan']`  \n",
    "\n",
    "`condicion = dogs['color'].isin(colors)`   \n",
    "\n",
    "`dogs['condition']`  \n",
    "\n",
    "\n",
    "**Instrucciones**\n",
    "1. filtra homelessness para los caso en los que el censo para los estados california,Arizona,Navada y utha, asignadolo a mojave_homelessness"
   ]
  },
  {
   "cell_type": "code",
   "execution_count": 10,
   "id": "a05159fe",
   "metadata": {},
   "outputs": [
    {
     "name": "stdout",
     "output_type": "stream",
     "text": [
      "      region       state  individuals  family_members  state_pop     Total\n",
      "2   Mountain     Arizona       7259.0          2606.0    7158024    9865.0\n",
      "4    Pacific  California     109008.0         20964.0   39461588  129972.0\n",
      "28  Mountain      Nevada       7058.0           486.0    3027341    7544.0\n",
      "44  Mountain        Utah       1904.0           972.0    3153550    2876.0\n"
     ]
    }
   ],
   "source": [
    "canu = ['California', 'Arizona', 'Nevada', 'Utah']\n",
    "mojave_homelessness = homelessness[homelessness['state'].isin(canu)]\n",
    "\n",
    "print(mojave_homelessness)"
   ]
  },
  {
   "cell_type": "markdown",
   "id": "c0a3812e",
   "metadata": {},
   "source": [
    "## Añadir Nuevas Columnas \n",
    "no te quedes  solo con los datos que te dan . En su lugar se pueden añadir nuevas columnas a un dataFrame.A esto se le llama `Transformacion `, `munatacion `  e `ingeneria de caracteristicas` se pueden crear columnas nuevas desde cero. pero es habitual derivarlas de otras columnas por ejemplo sumando columnas o cambiando sus unidades \n",
    "\n",
    "**Instrucciones**\n",
    "\n",
    "-Añade una nueva columna a homelessness ,denominado `Total`,que cotengan la suma de las columnas individuals y family_members  \n",
    "-Añadir otra columna a homelessness,denominada p_homeless,que contenga la proporcion de la poblacion de personas sin hogar total con respecto a poblacion de cada estado stage_pop\n"
   ]
  },
  {
   "cell_type": "code",
   "execution_count": 38,
   "id": "c460b376",
   "metadata": {},
   "outputs": [
    {
     "name": "stdout",
     "output_type": "stream",
     "text": [
      "               region                 state  individuals  family_members  \\\n",
      "0  East South Central               Alabama       2570.0           864.0   \n",
      "1             Pacific                Alaska       1434.0           582.0   \n",
      "2            Mountain               Arizona       7259.0          2606.0   \n",
      "3  West South Central              Arkansas       2280.0           432.0   \n",
      "4             Pacific            California     109008.0         20964.0   \n",
      "5            Mountain              Colorado       7607.0          3250.0   \n",
      "6         New England           Connecticut       2280.0          1696.0   \n",
      "7      South Atlantic              Delaware        708.0           374.0   \n",
      "8      South Atlantic  District of Columbia       3770.0          3134.0   \n",
      "9      South Atlantic               Florida      21443.0          9587.0   \n",
      "\n",
      "   state_pop     total  p_homeless  \n",
      "0    4887681    3434.0    0.000703  \n",
      "1     735139    2016.0    0.002742  \n",
      "2    7158024    9865.0    0.001378  \n",
      "3    3009733    2712.0    0.000901  \n",
      "4   39461588  129972.0    0.003294  \n",
      "5    5691287   10857.0    0.001908  \n",
      "6    3571520    3976.0    0.001113  \n",
      "7     965479    1082.0    0.001121  \n",
      "8     701547    6904.0    0.009841  \n",
      "9   21244317   31030.0    0.001461  \n"
     ]
    }
   ],
   "source": [
    "# agregar una columna total como la suma de individuals y family members \n",
    "\n",
    "homelessness['total'] = homelessness['individuals'] + homelessness['family_members']\n",
    "\n",
    "# agregar una columna llamada p_homeless como proporcion del total de homelessness \n",
    "# de la poblacion para el estado de la poblacion \n",
    "\n",
    "homelessness['p_homeless'] = homelessness['total'] / homelessness['state_pop']\n",
    "\n",
    "# visualizar el resultado\n",
    "\n",
    "print(homelessness.head(10))"
   ]
  },
  {
   "cell_type": "code",
   "execution_count": 39,
   "id": "70e81cc3",
   "metadata": {},
   "outputs": [
    {
     "ename": "AttributeError",
     "evalue": "'list' object has no attribute 'head'",
     "output_type": "error",
     "traceback": [
      "\u001b[31m---------------------------------------------------------------------------\u001b[39m",
      "\u001b[31mAttributeError\u001b[39m                            Traceback (most recent call last)",
      "\u001b[36mCell\u001b[39m\u001b[36m \u001b[39m\u001b[32mIn[39]\u001b[39m\u001b[32m, line 1\u001b[39m\n\u001b[32m----> \u001b[39m\u001b[32m1\u001b[39m columnas = \u001b[43m[\u001b[49m\u001b[43m[\u001b[49m\u001b[33;43m'\u001b[39;49m\u001b[33;43mstate\u001b[39;49m\u001b[33;43m'\u001b[39;49m\u001b[43m,\u001b[49m\u001b[43m \u001b[49m\u001b[33;43m'\u001b[39;49m\u001b[33;43mindividuals\u001b[39;49m\u001b[33;43m'\u001b[39;49m\u001b[43m,\u001b[49m\u001b[43m \u001b[49m\u001b[33;43m'\u001b[39;49m\u001b[33;43mstate_pop\u001b[39;49m\u001b[33;43m'\u001b[39;49m\u001b[43m,\u001b[49m\u001b[43m \u001b[49m\u001b[33;43m'\u001b[39;49m\u001b[33;43mtotal\u001b[39;49m\u001b[33;43m'\u001b[39;49m\u001b[43m,\u001b[49m\u001b[43m \u001b[49m\u001b[33;43m'\u001b[39;49m\u001b[33;43mp_homeless\u001b[39;49m\u001b[33;43m'\u001b[39;49m\u001b[43m]\u001b[49m\u001b[43m]\u001b[49m\u001b[43m.\u001b[49m\u001b[43mhead\u001b[49m(\u001b[32m10\u001b[39m) \n",
      "\u001b[31mAttributeError\u001b[39m: 'list' object has no attribute 'head'"
     ]
    }
   ],
   "source": [
    "columnas = [['state', 'individuals', 'state_pop', 'total', 'p_homeless']].head(10) "
   ]
  },
  {
   "cell_type": "code",
   "execution_count": 40,
   "id": "aecabd61",
   "metadata": {},
   "outputs": [
    {
     "data": {
      "text/html": [
       "<div>\n",
       "<style scoped>\n",
       "    .dataframe tbody tr th:only-of-type {\n",
       "        vertical-align: middle;\n",
       "    }\n",
       "\n",
       "    .dataframe tbody tr th {\n",
       "        vertical-align: top;\n",
       "    }\n",
       "\n",
       "    .dataframe thead th {\n",
       "        text-align: right;\n",
       "    }\n",
       "</style>\n",
       "<table border=\"1\" class=\"dataframe\">\n",
       "  <thead>\n",
       "    <tr style=\"text-align: right;\">\n",
       "      <th></th>\n",
       "      <th>state</th>\n",
       "      <th>individuals</th>\n",
       "      <th>state_pop</th>\n",
       "      <th>total</th>\n",
       "      <th>p_homeless</th>\n",
       "    </tr>\n",
       "  </thead>\n",
       "  <tbody>\n",
       "    <tr>\n",
       "      <th>0</th>\n",
       "      <td>Alabama</td>\n",
       "      <td>2570.0</td>\n",
       "      <td>4887681</td>\n",
       "      <td>3434.0</td>\n",
       "      <td>0.000703</td>\n",
       "    </tr>\n",
       "    <tr>\n",
       "      <th>1</th>\n",
       "      <td>Alaska</td>\n",
       "      <td>1434.0</td>\n",
       "      <td>735139</td>\n",
       "      <td>2016.0</td>\n",
       "      <td>0.002742</td>\n",
       "    </tr>\n",
       "    <tr>\n",
       "      <th>2</th>\n",
       "      <td>Arizona</td>\n",
       "      <td>7259.0</td>\n",
       "      <td>7158024</td>\n",
       "      <td>9865.0</td>\n",
       "      <td>0.001378</td>\n",
       "    </tr>\n",
       "    <tr>\n",
       "      <th>3</th>\n",
       "      <td>Arkansas</td>\n",
       "      <td>2280.0</td>\n",
       "      <td>3009733</td>\n",
       "      <td>2712.0</td>\n",
       "      <td>0.000901</td>\n",
       "    </tr>\n",
       "    <tr>\n",
       "      <th>4</th>\n",
       "      <td>California</td>\n",
       "      <td>109008.0</td>\n",
       "      <td>39461588</td>\n",
       "      <td>129972.0</td>\n",
       "      <td>0.003294</td>\n",
       "    </tr>\n",
       "    <tr>\n",
       "      <th>5</th>\n",
       "      <td>Colorado</td>\n",
       "      <td>7607.0</td>\n",
       "      <td>5691287</td>\n",
       "      <td>10857.0</td>\n",
       "      <td>0.001908</td>\n",
       "    </tr>\n",
       "    <tr>\n",
       "      <th>6</th>\n",
       "      <td>Connecticut</td>\n",
       "      <td>2280.0</td>\n",
       "      <td>3571520</td>\n",
       "      <td>3976.0</td>\n",
       "      <td>0.001113</td>\n",
       "    </tr>\n",
       "    <tr>\n",
       "      <th>7</th>\n",
       "      <td>Delaware</td>\n",
       "      <td>708.0</td>\n",
       "      <td>965479</td>\n",
       "      <td>1082.0</td>\n",
       "      <td>0.001121</td>\n",
       "    </tr>\n",
       "    <tr>\n",
       "      <th>8</th>\n",
       "      <td>District of Columbia</td>\n",
       "      <td>3770.0</td>\n",
       "      <td>701547</td>\n",
       "      <td>6904.0</td>\n",
       "      <td>0.009841</td>\n",
       "    </tr>\n",
       "    <tr>\n",
       "      <th>9</th>\n",
       "      <td>Florida</td>\n",
       "      <td>21443.0</td>\n",
       "      <td>21244317</td>\n",
       "      <td>31030.0</td>\n",
       "      <td>0.001461</td>\n",
       "    </tr>\n",
       "  </tbody>\n",
       "</table>\n",
       "</div>"
      ],
      "text/plain": [
       "                  state  individuals  state_pop     total  p_homeless\n",
       "0               Alabama       2570.0    4887681    3434.0    0.000703\n",
       "1                Alaska       1434.0     735139    2016.0    0.002742\n",
       "2               Arizona       7259.0    7158024    9865.0    0.001378\n",
       "3              Arkansas       2280.0    3009733    2712.0    0.000901\n",
       "4            California     109008.0   39461588  129972.0    0.003294\n",
       "5              Colorado       7607.0    5691287   10857.0    0.001908\n",
       "6           Connecticut       2280.0    3571520    3976.0    0.001113\n",
       "7              Delaware        708.0     965479    1082.0    0.001121\n",
       "8  District of Columbia       3770.0     701547    6904.0    0.009841\n",
       "9               Florida      21443.0   21244317   31030.0    0.001461"
      ]
     },
     "execution_count": 40,
     "metadata": {},
     "output_type": "execute_result"
    }
   ],
   "source": [
    "columnas = ['state', 'individuals', 'state_pop', 'total', 'p_homeless']\n",
    "homelessness[columnas].head(10)"
   ]
  },
  {
   "cell_type": "markdown",
   "id": "d8111cec",
   "metadata": {},
   "source": [
    "## Practica comboa ataque \n",
    "\n",
    "Hasta ahora se an  vistos los cuatros tipos mas comunes de manipulacion de datos `ordenar filas `,`subconjuntar columnas `,`subconjuntar filas `y `añadir nuevas filas `.\n",
    "en un analisis de la vioda real puedes mesclar y combi nar esta cuatro combinaciones para responder multiples preguntas  en este ejercicio responderas la pregunta `que estado  tiene el mayor numero de personas sin hogar `por cada 10000habitantes combina las nuevas habiidades e pandas para averiguarlo intrucciones \n",
    "\n",
    "- añade una columna que se llame indiv_per_10k que cntenga el nuemero de personas sin hogar por cada diez milen cada estado utilizando state_pop para la poblacion  de cada estado \n",
    "\n",
    "- sudconjuntos las filas en las que indiv_per_10ksea superior a 20 asignadolas a high_homelessness\n",
    "\n",
    "- ordena high homelessnss en el orden indiv_per_10k, asignado a high_homelessness_str.selecionando solo las columnas statee indiv_per_10k de high_homelessness_str y guarda como resultado visualiza resulatado\n",
    "\n",
    "\n"
   ]
  },
  {
   "cell_type": "code",
   "execution_count": 43,
   "id": "f294fbd8",
   "metadata": {},
   "outputs": [
    {
     "name": "stdout",
     "output_type": "stream",
     "text": [
      "                region                 state  individuals  family_members  \\\n",
      "8       South Atlantic  District of Columbia       3770.0          3134.0   \n",
      "11             Pacific                Hawaii       4131.0          2399.0   \n",
      "4              Pacific            California     109008.0         20964.0   \n",
      "37             Pacific                Oregon      11139.0          3337.0   \n",
      "28            Mountain                Nevada       7058.0           486.0   \n",
      "47             Pacific            Washington      16424.0          5880.0   \n",
      "32        Mid-Atlantic              New York      39827.0         52070.0   \n",
      "1              Pacific                Alaska       1434.0           582.0   \n",
      "5             Mountain              Colorado       7607.0          3250.0   \n",
      "45         New England               Vermont        780.0           511.0   \n",
      "19         New England                 Maine       1450.0          1066.0   \n",
      "2             Mountain               Arizona       7259.0          2606.0   \n",
      "9       South Atlantic               Florida      21443.0          9587.0   \n",
      "21         New England         Massachusetts       6811.0         13257.0   \n",
      "41  West North Central          South Dakota        836.0           323.0   \n",
      "31            Mountain            New Mexico       1949.0           602.0   \n",
      "26            Mountain               Montana        983.0           422.0   \n",
      "42  East South Central             Tennessee       6139.0          1744.0   \n",
      "27  West North Central              Nebraska       1745.0           676.0   \n",
      "20      South Atlantic              Maryland       4914.0          2230.0   \n",
      "3   West South Central              Arkansas       2280.0           432.0   \n",
      "50            Mountain               Wyoming        434.0           205.0   \n",
      "12            Mountain                 Idaho       1297.0           715.0   \n",
      "7       South Atlantic              Delaware        708.0           374.0   \n",
      "36  West South Central              Oklahoma       2823.0          1048.0   \n",
      "23  West North Central             Minnesota       3993.0          3250.0   \n",
      "39         New England          Rhode Island        747.0           354.0   \n",
      "30        Mid-Atlantic            New Jersey       6048.0          3350.0   \n",
      "43  West South Central                 Texas      19199.0          6111.0   \n",
      "10      South Atlantic               Georgia       6943.0          2556.0   \n",
      "6          New England           Connecticut       2280.0          1696.0   \n",
      "38        Mid-Atlantic          Pennsylvania       8163.0          5349.0   \n",
      "33      South Atlantic        North Carolina       6451.0          2817.0   \n",
      "29         New England         New Hampshire        835.0           615.0   \n",
      "25  West North Central              Missouri       3776.0          2107.0   \n",
      "34  West North Central          North Dakota        467.0            75.0   \n",
      "17  East South Central              Kentucky       2735.0           953.0   \n",
      "40      South Atlantic        South Carolina       3082.0           851.0   \n",
      "44            Mountain                  Utah       1904.0           972.0   \n",
      "35  East North Central                  Ohio       6929.0          3320.0   \n",
      "48      South Atlantic         West Virginia       1021.0           222.0   \n",
      "14  East North Central               Indiana       3776.0          1482.0   \n",
      "18  West South Central             Louisiana       2540.0           519.0   \n",
      "15  West North Central                  Iowa       1711.0          1038.0   \n",
      "13  East North Central              Illinois       6752.0          3891.0   \n",
      "0   East South Central               Alabama       2570.0           864.0   \n",
      "22  East North Central              Michigan       5209.0          3142.0   \n",
      "16  West North Central                Kansas       1443.0           773.0   \n",
      "49  East North Central             Wisconsin       2740.0          2167.0   \n",
      "46      South Atlantic              Virginia       3928.0          2047.0   \n",
      "24  East South Central           Mississippi       1024.0           328.0   \n",
      "\n",
      "    state_pop     total  p_homeless  indiv_per_10k  \n",
      "8      701547    6904.0    0.009841     537.383810  \n",
      "11    1420593    6530.0    0.004597     290.794056  \n",
      "4    39461588  129972.0    0.003294     276.238250  \n",
      "37    4181886   14476.0    0.003462     266.363072  \n",
      "28    3027341    7544.0    0.002492     233.141889  \n",
      "47    7523869   22304.0    0.002964     218.291945  \n",
      "32   19530351   91897.0    0.004705     203.923626  \n",
      "1      735139    2016.0    0.002742     195.065151  \n",
      "5     5691287   10857.0    0.001908     133.660453  \n",
      "45     624358    1291.0    0.002068     124.928326  \n",
      "19    1339057    2516.0    0.001879     108.285159  \n",
      "2     7158024    9865.0    0.001378     101.410669  \n",
      "9    21244317   31030.0    0.001461     100.935229  \n",
      "21    6882635   20068.0    0.002916      98.959192  \n",
      "41     878698    1159.0    0.001319      95.140765  \n",
      "31    2092741    2551.0    0.001219      93.131448  \n",
      "26    1060665    1405.0    0.001325      92.677707  \n",
      "42    6771631    7883.0    0.001164      90.657627  \n",
      "27    1925614    2421.0    0.001257      90.620446  \n",
      "20    6035802    7144.0    0.001184      81.414201  \n",
      "3     3009733    2712.0    0.000901      75.754228  \n",
      "50     577601     639.0    0.001106      75.138374  \n",
      "12    1750536    2012.0    0.001149      74.091593  \n",
      "7      965479    1082.0    0.001121      73.331476  \n",
      "36    3940235    3871.0    0.000982      71.645473  \n",
      "23    5606249    7243.0    0.001292      71.224093  \n",
      "39    1058287    1101.0    0.001040      70.585767  \n",
      "30    8886025    9398.0    0.001058      68.061929  \n",
      "43   28628666   25310.0    0.000884      67.062154  \n",
      "10   10511131    9499.0    0.000904      66.053786  \n",
      "6     3571520    3976.0    0.001113      63.838366  \n",
      "38   12800922   13512.0    0.001056      63.768844  \n",
      "33   10381615    9268.0    0.000893      62.138694  \n",
      "29    1353465    1450.0    0.001071      61.693505  \n",
      "25    6121623    5883.0    0.000961      61.682988  \n",
      "34     758080     542.0    0.000715      61.602997  \n",
      "17    4461153    3688.0    0.000827      61.307021  \n",
      "40    5084156    3933.0    0.000774      60.619698  \n",
      "44    3153550    2876.0    0.000912      60.376401  \n",
      "35   11676341   10249.0    0.000878      59.342220  \n",
      "48    1804291    1243.0    0.000689      56.587324  \n",
      "14    6695497    5258.0    0.000785      56.396112  \n",
      "18    4659690    3059.0    0.000656      54.510064  \n",
      "15    3148618    2749.0    0.000873      54.341301  \n",
      "13   12723071   10643.0    0.000837      53.068949  \n",
      "0     4887681    3434.0    0.000703      52.581173  \n",
      "22    9984072    8351.0    0.000836      52.173101  \n",
      "16    2911359    2216.0    0.000761      49.564482  \n",
      "49    5807406    4907.0    0.000845      47.181134  \n",
      "46    8501286    5975.0    0.000703      46.204774  \n",
      "24    2981020    1352.0    0.000454      34.350658  \n"
     ]
    }
   ],
   "source": [
    "#crear la columna indiv_per_10k\n",
    "\n",
    "homelessness['indiv_per_10k'] = 100000 * homelessness['individuals'] / homelessness['state_pop'] \n",
    "\n",
    "#subconjutar filas para indiv_per_10k > mayores que 20\n",
    "indiv_per_10k_gt_20 = homelessness[homelessness['indiv_per_10k'] > 20]\n",
    "\n",
    "\n",
    "#ORDENAR hight_homelessness POR indiv per)10k\n",
    "\n",
    "high_homelessness = homelessness.sort_values('indiv_per_10k', ascending=False)\n",
    "\n",
    "#visualizar el resultado\n",
    "print(high_homelessness)"
   ]
  },
  {
   "cell_type": "markdown",
   "id": "3c3f96b8",
   "metadata": {},
   "source": [
    "El district od columbia tiene el mayor numero de individuos sin hogar casi por casa diez mil personas esto es  casi el doble del numero del siguiente estado con mas caso es hawaii "
   ]
  },
  {
   "cell_type": "code",
   "execution_count": null,
   "id": "b652125b",
   "metadata": {},
   "outputs": [],
   "source": []
  }
 ],
 "metadata": {
  "kernelspec": {
   "display_name": "Python 3",
   "language": "python",
   "name": "python3"
  },
  "language_info": {
   "codemirror_mode": {
    "name": "ipython",
    "version": 3
   },
   "file_extension": ".py",
   "mimetype": "text/x-python",
   "name": "python",
   "nbconvert_exporter": "python",
   "pygments_lexer": "ipython3",
   "version": "3.13.3"
  }
 },
 "nbformat": 4,
 "nbformat_minor": 5
}
