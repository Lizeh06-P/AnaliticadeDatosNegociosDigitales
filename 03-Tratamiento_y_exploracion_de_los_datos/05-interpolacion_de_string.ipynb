{
 "cells": [
  {
   "cell_type": "markdown",
   "id": "d38cd07a",
   "metadata": {},
   "source": [
    "## Interpolacion de string\n",
    "\n",
    "### Objectivos:\n",
    "-Aprender a imprimir string\n",
    "-Aprender a interpoar variables dentro de strings\n",
    "\n",
    "---\n",
    "\n",
    "### Desarollo:\n",
    "\n",
    "\n",
    "\n"
   ]
  },
  {
   "cell_type": "markdown",
   "id": "ffaba5eb",
   "metadata": {},
   "source": [
    "podemos hacer anotaciones en los outputs de nuestro codigo de esta manera :"
   ]
  },
  {
   "cell_type": "code",
   "execution_count": 4,
   "id": "d9204e4e",
   "metadata": {},
   "outputs": [
    {
     "name": "stdout",
     "output_type": "stream",
     "text": [
      "suma de var_1 y var_2\n",
      "38.7\n"
     ]
    }
   ],
   "source": [
    "var_1 =15.3\n",
    "var_2= 23.4\n",
    "\n",
    "print(\"suma de var_1 y var_2\")\n",
    "print(var_1 +var_2)"
   ]
  },
  {
   "cell_type": "markdown",
   "id": "bd56c115",
   "metadata": {},
   "source": [
    "pero aveces resulta necesario o deseable interpolar el valor de la variable dentro de dichp string.para esto utilizamos las llamadas ``f-string'. el formato de una f-string` es el siguiente:\n",
    "\n",
    "`f\"esto es u texto {esto_es_una_variable}esto esto es mas texto\"`\n",
    "\n",
    "Escribiendo una `f` antes de las comillas le indicamos a Python que lo que pongamos dentro de las llaves ({})sera codigo de python en este caso una variable asignada previamente.\n",
    "ahora podemos hacer lo siguiente:"
   ]
  },
  {
   "cell_type": "code",
   "execution_count": 5,
   "id": "bfc60b8f",
   "metadata": {},
   "outputs": [
    {
     "name": "stdout",
     "output_type": "stream",
     "text": [
      "La suma67.3\n"
     ]
    }
   ],
   "source": [
    "var_3 =43\n",
    "var_4=24.3\n",
    "\n",
    "suma = var_3 + var_4\n",
    "print(f'La suma{suma }')\n"
   ]
  },
  {
   "cell_type": "code",
   "execution_count": 6,
   "id": "11274edc",
   "metadata": {},
   "outputs": [
    {
     "name": "stdout",
     "output_type": "stream",
     "text": [
      "EL nombre del programa es:y la suma de los valores 5.0+5.0 es:10.0\n"
     ]
    }
   ],
   "source": [
    "nombre_programa  = (input('introduce el nombe del programa '))\n",
    "var_3 =float (input('introduce el primer valor '))\n",
    "var_4 =float (input('introduce el segundo valor '))\n",
    "\n",
    "suma =var_3 +var_4 \n",
    "print(f'EL nombre del programa es:{nombre_programa}y la suma de los valores {var_3}+{var_4} es:{suma}')"
   ]
  },
  {
   "cell_type": "code",
   "execution_count": 7,
   "id": "b1909322",
   "metadata": {},
   "outputs": [],
   "source": [
    "def sumar (numero_1,numero_2):\n",
    "    return numero_1+ numero_2\n"
   ]
  },
  {
   "cell_type": "markdown",
   "id": "0fbcc9b5",
   "metadata": {},
   "source": [
    "funcio que permita introdusca los dos valores "
   ]
  },
  {
   "cell_type": "code",
   "execution_count": 8,
   "id": "2ee7d7e8",
   "metadata": {},
   "outputs": [],
   "source": [
    "def solicitarValor():\n",
    "    return (input('introduce el primer valor '))"
   ]
  },
  {
   "cell_type": "code",
   "execution_count": 9,
   "id": "7fe6578b",
   "metadata": {},
   "outputs": [
    {
     "name": "stdout",
     "output_type": "stream",
     "text": [
      "54\n"
     ]
    }
   ],
   "source": [
    "var_3 = solicitarValor()\n",
    "var_4 =solicitarValor()\n",
    "sumar = sumar(var_3, var_4)\n",
    "print(sumar)"
   ]
  },
  {
   "cell_type": "code",
   "execution_count": 12,
   "id": "78d40f5c",
   "metadata": {},
   "outputs": [
    {
     "ename": "TypeError",
     "evalue": "'str' object is not callable",
     "output_type": "error",
     "traceback": [
      "\u001b[31m---------------------------------------------------------------------------\u001b[39m",
      "\u001b[31mTypeError\u001b[39m                                 Traceback (most recent call last)",
      "\u001b[36mCell\u001b[39m\u001b[36m \u001b[39m\u001b[32mIn[12]\u001b[39m\u001b[32m, line 7\u001b[39m\n\u001b[32m      4\u001b[39m var_3 = solicitarValor()\n\u001b[32m      5\u001b[39m var_4 =solicitarValor()\n\u001b[32m----> \u001b[39m\u001b[32m7\u001b[39m sumar = \u001b[43msumar\u001b[49m\u001b[43m(\u001b[49m\u001b[43mvar_3\u001b[49m\u001b[43m,\u001b[49m\u001b[43m \u001b[49m\u001b[43mvar_4\u001b[49m\u001b[43m)\u001b[49m\n\u001b[32m      9\u001b[39m \u001b[38;5;28mprint\u001b[39m(sumar)\n",
      "\u001b[31mTypeError\u001b[39m: 'str' object is not callable"
     ]
    }
   ],
   "source": [
    "def solicitarValor():\n",
    "    return (input('introduce el primer valor '))\n",
    "\n",
    "var_3 = solicitarValor()\n",
    "var_4 =solicitarValor()\n",
    "\n",
    "sumar = sumar(var_3, var_4)\n",
    "\n",
    "print(sumar)"
   ]
  },
  {
   "cell_type": "code",
   "execution_count": null,
   "id": "1e4072da",
   "metadata": {},
   "outputs": [],
   "source": []
  }
 ],
 "metadata": {
  "kernelspec": {
   "display_name": "Python 3",
   "language": "python",
   "name": "python3"
  },
  "language_info": {
   "codemirror_mode": {
    "name": "ipython",
    "version": 3
   },
   "file_extension": ".py",
   "mimetype": "text/x-python",
   "name": "python",
   "nbconvert_exporter": "python",
   "pygments_lexer": "ipython3",
   "version": "3.13.3"
  }
 },
 "nbformat": 4,
 "nbformat_minor": 5
}
