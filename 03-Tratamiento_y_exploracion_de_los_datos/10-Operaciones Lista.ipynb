{
 "cells": [
  {
   "cell_type": "markdown",
   "id": "4aa3ed66",
   "metadata": {},
   "source": [
    "# Operaciones Con  Listas "
   ]
  },
  {
   "cell_type": "markdown",
   "id": "ce72824d",
   "metadata": {},
   "source": [
    "## copiar una lista a otra"
   ]
  },
  {
   "cell_type": "code",
   "execution_count": null,
   "id": "aecadfcc",
   "metadata": {},
   "outputs": [
    {
     "name": "stdout",
     "output_type": "stream",
     "text": [
      "lista_1:[1] \n",
      " lista_2: [1]\n"
     ]
    }
   ],
   "source": [
    "#forma incorrecta de copiar una lista \n",
    "\n",
    "lista_1=[1]\n",
    "\n",
    "lista_2 = lista_1\n",
    "print(f'lista_1:{lista_1} \\n lista_2: {lista_2}')"
   ]
  },
  {
   "cell_type": "code",
   "execution_count": 10,
   "id": "5d9fe9cf",
   "metadata": {},
   "outputs": [],
   "source": [
    "lista_2.append(10)\n"
   ]
  },
  {
   "cell_type": "code",
   "execution_count": 11,
   "id": "e4953f42",
   "metadata": {},
   "outputs": [
    {
     "name": "stdout",
     "output_type": "stream",
     "text": [
      "[1, 10]\n"
     ]
    }
   ],
   "source": [
    "print(lista_2)"
   ]
  },
  {
   "cell_type": "code",
   "execution_count": 12,
   "id": "73bfc275",
   "metadata": {},
   "outputs": [
    {
     "name": "stdout",
     "output_type": "stream",
     "text": [
      "[1, 10]\n"
     ]
    }
   ],
   "source": [
    "print(lista_1)"
   ]
  },
  {
   "cell_type": "markdown",
   "id": "58c5018d",
   "metadata": {},
   "source": [
    "Slicing o Rebanadas "
   ]
  },
  {
   "cell_type": "code",
   "execution_count": 15,
   "id": "c27a3626",
   "metadata": {},
   "outputs": [
    {
     "data": {
      "text/plain": [
       "[3, 4, 5, 6, 7, 8]"
      ]
     },
     "execution_count": 15,
     "metadata": {},
     "output_type": "execute_result"
    }
   ],
   "source": [
    "list_1 = [3,4,5,6,7,8]\n",
    "list_1[:]"
   ]
  },
  {
   "cell_type": "code",
   "execution_count": 16,
   "id": "28036b70",
   "metadata": {},
   "outputs": [
    {
     "data": {
      "text/plain": [
       "[3, 4, 5, 6, 7, 8, 11]"
      ]
     },
     "execution_count": 16,
     "metadata": {},
     "output_type": "execute_result"
    }
   ],
   "source": [
    "#forma correcta \n",
    "\n",
    "list_2 =list_1[:]\n",
    "list_2.append(11)\n",
    "list_2"
   ]
  },
  {
   "cell_type": "code",
   "execution_count": 17,
   "id": "9657f8f0",
   "metadata": {},
   "outputs": [
    {
     "data": {
      "text/plain": [
       "[3, 4, 5, 6, 7, 8]"
      ]
     },
     "execution_count": 17,
     "metadata": {},
     "output_type": "execute_result"
    }
   ],
   "source": [
    "list_1"
   ]
  },
  {
   "cell_type": "code",
   "execution_count": 18,
   "id": "0267e03c",
   "metadata": {},
   "outputs": [
    {
     "name": "stdout",
     "output_type": "stream",
     "text": [
      "[4, 6, 7, 9, 12]\n"
     ]
    }
   ],
   "source": [
    "x = [4,6,7,9,12]\n",
    "y =[]\n",
    "\n",
    "y=x.copy()\n",
    "\n",
    "print(y)"
   ]
  },
  {
   "cell_type": "markdown",
   "id": "6fded848",
   "metadata": {},
   "source": [
    "### Slicing o Rebaanas - Indices Negativos \n",
    "observa el franmento de codigo a continuacion:\n",
    "\n",
    "`my_list[start:end]`\n",
    "\n",
    "para confrimar:\n",
    "\n",
    "1. **start** es el indice  del primer elemento incluido en la rebanada \n",
    "2. **end** es el indice del primer elemento no incluido en la rebanada "
   ]
  },
  {
   "cell_type": "code",
   "execution_count": 22,
   "id": "430d3db0",
   "metadata": {},
   "outputs": [
    {
     "name": "stdout",
     "output_type": "stream",
     "text": [
      "la lista original es : [10, 8, 6, 4, 2]\n",
      " la nueva lista es : [10, 8, 6]\n"
     ]
    }
   ],
   "source": [
    "my_lista = [10,8,6,4,2]\n",
    "\n",
    "my_lista2 =my_lista[0:3] \n",
    "\n",
    "print(f'la lista original es : {my_lista}\\n la nueva lista es : {my_lista2}')"
   ]
  },
  {
   "cell_type": "code",
   "execution_count": 23,
   "id": "b836fe65",
   "metadata": {},
   "outputs": [
    {
     "data": {
      "text/plain": [
       "[6, 4]"
      ]
     },
     "execution_count": 23,
     "metadata": {},
     "output_type": "execute_result"
    }
   ],
   "source": [
    "my_lista[2:-1]"
   ]
  },
  {
   "cell_type": "code",
   "execution_count": 27,
   "id": "7906bc28",
   "metadata": {},
   "outputs": [
    {
     "data": {
      "text/plain": [
       "[8, 6, 4, 2]"
      ]
     },
     "execution_count": 27,
     "metadata": {},
     "output_type": "execute_result"
    }
   ],
   "source": [
    "my_lista[1:]"
   ]
  },
  {
   "cell_type": "code",
   "execution_count": 24,
   "id": "0dc72d25",
   "metadata": {},
   "outputs": [
    {
     "data": {
      "text/plain": [
       "[10, 8]"
      ]
     },
     "execution_count": 24,
     "metadata": {},
     "output_type": "execute_result"
    }
   ],
   "source": [
    "my_lista[:2]"
   ]
  },
  {
   "cell_type": "code",
   "execution_count": 25,
   "id": "99534f1c",
   "metadata": {},
   "outputs": [
    {
     "data": {
      "text/plain": [
       "[10, 8, 6, 4, 2]"
      ]
     },
     "execution_count": 25,
     "metadata": {},
     "output_type": "execute_result"
    }
   ],
   "source": [
    "my_lista[:]"
   ]
  },
  {
   "cell_type": "code",
   "execution_count": 26,
   "id": "67d9bb6c",
   "metadata": {},
   "outputs": [
    {
     "data": {
      "text/plain": [
       "[6, 4, 2]"
      ]
     },
     "execution_count": 26,
     "metadata": {},
     "output_type": "execute_result"
    }
   ],
   "source": [
    "my_lista[2:]"
   ]
  },
  {
   "cell_type": "code",
   "execution_count": 28,
   "id": "3b04335a",
   "metadata": {},
   "outputs": [
    {
     "data": {
      "text/plain": [
       "[]"
      ]
     },
     "execution_count": 28,
     "metadata": {},
     "output_type": "execute_result"
    }
   ],
   "source": [
    "my_lista[4:-1]"
   ]
  },
  {
   "cell_type": "code",
   "execution_count": null,
   "id": "488d22f0",
   "metadata": {},
   "outputs": [],
   "source": [
    "my_lista[:2]"
   ]
  },
  {
   "cell_type": "code",
   "execution_count": 20,
   "id": "d9dbe206",
   "metadata": {},
   "outputs": [
    {
     "data": {
      "text/plain": [
       "[3, 2, 10]"
      ]
     },
     "execution_count": 20,
     "metadata": {},
     "output_type": "execute_result"
    }
   ],
   "source": [
    "lista = [3,2,10,9,7]\n",
    "lista[0:3] "
   ]
  },
  {
   "cell_type": "markdown",
   "id": "0b13e3fe",
   "metadata": {},
   "source": [
    "dado la lista  10,8,6,4,2 eliminar  los numero del 8 y del 6 "
   ]
  },
  {
   "cell_type": "code",
   "execution_count": 1,
   "id": "91324acc",
   "metadata": {},
   "outputs": [
    {
     "data": {
      "text/plain": [
       "[10, 4, 2]"
      ]
     },
     "execution_count": 1,
     "metadata": {},
     "output_type": "execute_result"
    }
   ],
   "source": [
    "listaN =[10,8,6,4,2]\n",
    "\n",
    "del listaN[1:3]\n",
    "\n",
    "listaN"
   ]
  },
  {
   "cell_type": "markdown",
   "id": "2f42f62e",
   "metadata": {},
   "source": [
    "### `pop`  remueve el ultimo elemento de la lista sin argumentos \n",
    "\n"
   ]
  },
  {
   "cell_type": "code",
   "execution_count": 4,
   "id": "cf702717",
   "metadata": {},
   "outputs": [
    {
     "data": {
      "text/plain": [
       "[10, 4, 2]"
      ]
     },
     "execution_count": 4,
     "metadata": {},
     "output_type": "execute_result"
    }
   ],
   "source": [
    "listaN"
   ]
  },
  {
   "cell_type": "code",
   "execution_count": 5,
   "id": "c0eecf36",
   "metadata": {},
   "outputs": [
    {
     "data": {
      "text/plain": [
       "[10, 4]"
      ]
     },
     "execution_count": 5,
     "metadata": {},
     "output_type": "execute_result"
    }
   ],
   "source": [
    "listaN.pop()\n",
    "listaN"
   ]
  },
  {
   "cell_type": "code",
   "execution_count": 8,
   "id": "4fe66064",
   "metadata": {},
   "outputs": [],
   "source": [
    "listaN =[]\n",
    "listaN.append(7)\n",
    "listaN.append(5)\n",
    "listaN.append(9)\n",
    "listaN.append(11)\n",
    "listaN.append(9)"
   ]
  },
  {
   "cell_type": "code",
   "execution_count": 9,
   "id": "76a3ee2d",
   "metadata": {},
   "outputs": [
    {
     "data": {
      "text/plain": [
       "[7, 5, 9, 11, 9]"
      ]
     },
     "execution_count": 9,
     "metadata": {},
     "output_type": "execute_result"
    }
   ],
   "source": [
    "listaN"
   ]
  },
  {
   "cell_type": "code",
   "execution_count": 10,
   "id": "e5078e65",
   "metadata": {},
   "outputs": [
    {
     "data": {
      "text/plain": [
       "[7, 9, 11, 9]"
      ]
     },
     "execution_count": 10,
     "metadata": {},
     "output_type": "execute_result"
    }
   ],
   "source": [
    "listaN.pop(1)\n",
    "listaN"
   ]
  },
  {
   "cell_type": "code",
   "execution_count": null,
   "id": "c97fc9c0",
   "metadata": {},
   "outputs": [
    {
     "name": "stdout",
     "output_type": "stream",
     "text": [
      "<class 'list'>\n"
     ]
    }
   ],
   "source": [
    "lista_example =[\"a\",12,True]\n",
    "lista_example\n",
    "print(type(lista_example))"
   ]
  },
  {
   "cell_type": "code",
   "execution_count": null,
   "id": "8a8330a7",
   "metadata": {},
   "outputs": [
    {
     "name": "stdout",
     "output_type": "stream",
     "text": [
      "([['hallway', 100]], ['kitchen', 85])\n",
      "<class 'tuple'>\n"
     ]
    }
   ],
   "source": [
    "#lista de listas \n",
    "list_house =[['hallway',100]],['kitchen',85]\n",
    "print(list_house)\n",
    "print(type(list_house))"
   ]
  },
  {
   "cell_type": "code",
   "execution_count": null,
   "id": "9f119f18",
   "metadata": {},
   "outputs": [],
   "source": []
  },
  {
   "cell_type": "code",
   "execution_count": 25,
   "id": "d8a42bec",
   "metadata": {},
   "outputs": [
    {
     "name": "stdout",
     "output_type": "stream",
     "text": [
      "['heydy', 22, 'innes', 54, 'henry', 33, 'oscar', 38]\n"
     ]
    }
   ],
   "source": [
    "list_family =['heydy',22,'innes',54,'henry',33,'oscar',38]\n",
    "\n",
    "print(list_family)"
   ]
  },
  {
   "cell_type": "code",
   "execution_count": 24,
   "id": "dad6b0cd",
   "metadata": {},
   "outputs": [
    {
     "name": "stdout",
     "output_type": "stream",
     "text": [
      "innes\n",
      "innes\n"
     ]
    }
   ],
   "source": [
    "#indexaion \n",
    "print(list_family[2])\n",
    "\n",
    "\n",
    "#inexacion negativa \n",
    "print(list_family[-6])"
   ]
  },
  {
   "cell_type": "code",
   "execution_count": 31,
   "id": "d43da144",
   "metadata": {},
   "outputs": [
    {
     "name": "stdout",
     "output_type": "stream",
     "text": [
      "[54, 'henry']\n"
     ]
    },
    {
     "data": {
      "text/plain": [
       "['heydy', 22, 'innes', 54, 'henry']"
      ]
     },
     "execution_count": 31,
     "metadata": {},
     "output_type": "execute_result"
    }
   ],
   "source": [
    "#slicing[star : end ]\n",
    "#inclusive: exclusive \n",
    "print(list_family[3:5]) #no toma el ultimo dijito \n",
    "list_family[:5] #desde el inicio hata la posicion 4\n"
   ]
  },
  {
   "cell_type": "code",
   "execution_count": 33,
   "id": "27cecde1",
   "metadata": {},
   "outputs": [
    {
     "name": "stdout",
     "output_type": "stream",
     "text": [
      "[33, 'oscar', 38]\n"
     ]
    }
   ],
   "source": [
    "print(list_family[5:])#desde la posicion 5 hasta el final"
   ]
  },
  {
   "cell_type": "markdown",
   "id": "4d86b63d",
   "metadata": {},
   "source": [
    "### **Manipulando listas**"
   ]
  },
  {
   "cell_type": "code",
   "execution_count": 34,
   "id": "eb5e0db1",
   "metadata": {},
   "outputs": [
    {
     "name": "stdout",
     "output_type": "stream",
     "text": [
      "['heydy', 22, 'innes', 54, 'henry', 33, 'oscar', 38]\n"
     ]
    }
   ],
   "source": [
    "print(list_family)"
   ]
  },
  {
   "cell_type": "code",
   "execution_count": null,
   "id": "25b0f79a",
   "metadata": {},
   "outputs": [],
   "source": []
  },
  {
   "cell_type": "code",
   "execution_count": 44,
   "id": "4e57b29b",
   "metadata": {},
   "outputs": [
    {
     "name": "stdout",
     "output_type": "stream",
     "text": [
      "['achuchena', 12, 'Ahuchena', 12]\n"
     ]
    }
   ],
   "source": [
    "#agregar y remover elementos de la lista \n",
    "\n",
    "#agregar \n",
    "fam_Ext = list_family + ['Ahuchena',12]\n",
    "print (fam_Ext)\n"
   ]
  },
  {
   "cell_type": "code",
   "execution_count": 45,
   "id": "55032222",
   "metadata": {},
   "outputs": [
    {
     "name": "stdout",
     "output_type": "stream",
     "text": [
      "['heydy', 22, 'ines', 54, 'henry', 33, 'oscar', 37]\n"
     ]
    }
   ],
   "source": [
    "# Modificar elementos de la lista\n",
    "list_family = ['heydy', 22, 'ines', 54, 'henry', 33, 'oscar', 37]\n",
    "\n",
    "# Cambiar el último elemento por 37\n",
    "list_family[-1] = 37\n",
    "print(list_family)\n",
    "\n",
    "\n"
   ]
  },
  {
   "cell_type": "code",
   "execution_count": 46,
   "id": "810143a5",
   "metadata": {},
   "outputs": [
    {
     "name": "stdout",
     "output_type": "stream",
     "text": [
      "['Mayumy', 24, 'ines', 54, 'henry', 33, 'oscar', 37]\n",
      "['Mayumy', 24, 'ines', 54, 'henry', 33, 'oscar', 37, 'Achuchena', 12]\n"
     ]
    }
   ],
   "source": [
    "# Reemplazar los dos primeros elementos por otros\n",
    "list_family[:2] = ['Mayumy', 24]\n",
    "print(list_family)\n",
    "\n",
    "# Agregar elementos (sin modificar la lista original)\n",
    "fam_Ext = list_family + ['Achuchena', 12]\n",
    "print(fam_Ext)\n",
    "\n",
    "# Aquí puedes seguir con eliminar elementos"
   ]
  },
  {
   "cell_type": "code",
   "execution_count": 47,
   "id": "67e08de9",
   "metadata": {},
   "outputs": [
    {
     "name": "stdout",
     "output_type": "stream",
     "text": [
      "['hallway', 11.25, 'kitchen', 18.0, 'chill zone', 20.0, 'bedroom', 10.75, 'bathroom', 10.5, 'garage', 15.45]\n"
     ]
    }
   ],
   "source": [
    "# Ejercicio - Eliminar 'poolhouse' y 24.5\n",
    "areas = [\"hallway\", 11.25, \"kitchen\", 18.0,\n",
    "         \"chill zone\", 20.0, \"bedroom\", 10.75,\n",
    "         \"bathroom\", 10.50, \"poolhouse\", 24.5,\n",
    "         \"garage\", 15.45]\n",
    "\n",
    "# Eliminar 'poolhouse' y 24.5\n",
    "areas.remove(\"poolhouse\")\n",
    "areas.remove(24.5)\n",
    "\n",
    "print(areas)\n"
   ]
  },
  {
   "cell_type": "code",
   "execution_count": null,
   "id": "307557d4",
   "metadata": {},
   "outputs": [],
   "source": []
  },
  {
   "cell_type": "markdown",
   "id": "4c56ade4",
   "metadata": {},
   "source": [
    "### Funciones y Paquetes \n"
   ]
  },
  {
   "cell_type": "markdown",
   "id": "0e844ba1",
   "metadata": {},
   "source": [
    "## **funcion**\n",
    "\n",
    "es una piexa de codigo reutilizable,destinada a resolver un tare a paricular \n"
   ]
  },
  {
   "cell_type": "code",
   "execution_count": 49,
   "id": "85fe855b",
   "metadata": {},
   "outputs": [
    {
     "ename": "SyntaxError",
     "evalue": "invalid syntax. Perhaps you forgot a comma? (2988494282.py, line 4)",
     "output_type": "error",
     "traceback": [
      "  \u001b[36mCell\u001b[39m\u001b[36m \u001b[39m\u001b[32mIn[49]\u001b[39m\u001b[32m, line 4\u001b[39m\n\u001b[31m    \u001b[39m\u001b[31mprint(f\"el tamaño de la lusta es \"{len((lista_fam))})\u001b[39m\n          ^\n\u001b[31mSyntaxError\u001b[39m\u001b[31m:\u001b[39m invalid syntax. Perhaps you forgot a comma?\n"
     ]
    }
   ],
   "source": [
    "lista_fam = [32,54,33,38,36]\n",
    "\n",
    "print(lista_fam)\n",
    "print(f\"el tamaño de la lusta es \"{len((lista_fam))})\n",
    "print(f\"el valor de la lista maximo es \"{ma((lista_fam))})"
   ]
  },
  {
   "cell_type": "code",
   "execution_count": 52,
   "id": "8ffcb576",
   "metadata": {},
   "outputs": [
    {
     "data": {
      "text/plain": [
       "1.689"
      ]
     },
     "execution_count": 52,
     "metadata": {},
     "output_type": "execute_result"
    }
   ],
   "source": [
    "round(1.689,5)"
   ]
  },
  {
   "cell_type": "code",
   "execution_count": 50,
   "id": "8ad61858",
   "metadata": {},
   "outputs": [
    {
     "name": "stdout",
     "output_type": "stream",
     "text": [
      "Help on built-in function len in module builtins:\n",
      "\n",
      "len(obj, /)\n",
      "    Return the number of items in a container.\n",
      "\n"
     ]
    }
   ],
   "source": [
    "help(len)"
   ]
  },
  {
   "cell_type": "code",
   "execution_count": 51,
   "id": "d74472e5",
   "metadata": {},
   "outputs": [
    {
     "name": "stdout",
     "output_type": "stream",
     "text": [
      "Help on built-in function max in module builtins:\n",
      "\n",
      "max(...)\n",
      "    max(iterable, *[, default=obj, key=func]) -> value\n",
      "    max(arg1, arg2, *args, *[, key=func]) -> value\n",
      "\n",
      "    With a single iterable argument, return its biggest item. The\n",
      "    default keyword-only argument specifies an object to return if\n",
      "    the provided iterable is empty.\n",
      "    With two or more positional arguments, return the largest argument.\n",
      "\n"
     ]
    }
   ],
   "source": [
    "help(max)"
   ]
  },
  {
   "cell_type": "code",
   "execution_count": null,
   "id": "61c35210",
   "metadata": {},
   "outputs": [],
   "source": [
    "help(appen)"
   ]
  },
  {
   "cell_type": "code",
   "execution_count": 53,
   "id": "acae2f5d",
   "metadata": {},
   "outputs": [
    {
     "name": "stdout",
     "output_type": "stream",
     "text": [
      "Help on built-in function round in module builtins:\n",
      "\n",
      "round(number, ndigits=None)\n",
      "    Round a number to a given precision in decimal digits.\n",
      "\n",
      "    The return value is an integer if ndigits is omitted or None.  Otherwise\n",
      "    the return value has the same type as the number.  ndigits may be negative.\n",
      "\n"
     ]
    }
   ],
   "source": [
    "help(round)"
   ]
  },
  {
   "cell_type": "code",
   "execution_count": 56,
   "id": "72bc1f21",
   "metadata": {},
   "outputs": [
    {
     "name": "stdout",
     "output_type": "stream",
     "text": [
      "[18.0, 20.0, 25, 51]\n",
      "[18.0, 20.0, 25, 51]\n",
      "[51, 25, 20.0, 18.0]\n"
     ]
    }
   ],
   "source": [
    "first = [51,25,18.0,20.0]\n",
    "\n",
    "full_sorted = sorted(first)#orden de forma ascendente \n",
    "\n",
    "full_sorted_asc =sorted(first,reverse=False)#ascendente\n",
    "\n",
    "full_sorted_desc =sorted(first,reverse=True)#ascenden\n",
    "print(full_sorted)\n",
    "print(full_sorted_asc)\n",
    "print(full_sorted_desc)\n"
   ]
  },
  {
   "cell_type": "markdown",
   "id": "c14ac73d",
   "metadata": {},
   "source": [
    "### **Metodos**\n",
    "en python es objecto y cada objecto tiene metodos especificos asociados \n",
    "-`objectod con diferengtes tipod pueden tener metodos con el mismo nommbre `"
   ]
  },
  {
   "cell_type": "code",
   "execution_count": 57,
   "id": "0fda5eea",
   "metadata": {},
   "outputs": [
    {
     "name": "stdout",
     "output_type": "stream",
     "text": [
      "4\n"
     ]
    }
   ],
   "source": [
    "lista_fam = ['heydy', 22, 'ines', 54, 'henry', 33, 'oscar', 37]\n",
    "print(lista_fam.index('henry'))"
   ]
  },
  {
   "cell_type": "code",
   "execution_count": 62,
   "id": "bd1f32d1",
   "metadata": {},
   "outputs": [
    {
     "name": "stdout",
     "output_type": "stream",
     "text": [
      "indice :4\n",
      "Contar :3\n"
     ]
    }
   ],
   "source": [
    "lista_fam = ['heydy', 22, 'ines', 54, 'henry', 33, 'oscar', 37]\n",
    "print(f'indice :{lista_fam.index('henry')}')#obtener rl indice de la list \n",
    "print(f'Contar :{lista_fam.index(54)}')#contar cuantas veces aparece algo"
   ]
  },
  {
   "cell_type": "code",
   "execution_count": 64,
   "id": "de7f71df",
   "metadata": {},
   "outputs": [
    {
     "ename": "NameError",
     "evalue": "name 'lis_fam' is not defined",
     "output_type": "error",
     "traceback": [
      "\u001b[31m---------------------------------------------------------------------------\u001b[39m",
      "\u001b[31mNameError\u001b[39m                                 Traceback (most recent call last)",
      "\u001b[36mCell\u001b[39m\u001b[36m \u001b[39m\u001b[32mIn[64]\u001b[39m\u001b[32m, line 1\u001b[39m\n\u001b[32m----> \u001b[39m\u001b[32m1\u001b[39m \u001b[38;5;28;01mdel\u001b[39;00m(\u001b[43mlis_fam\u001b[49m[lista_fam.index(\u001b[33m'\u001b[39m\u001b[33mhenry\u001b[39m\u001b[33m'\u001b[39m)])\n\u001b[32m      2\u001b[39m \u001b[38;5;28mprint\u001b[39m(lista_fam)\n",
      "\u001b[31mNameError\u001b[39m: name 'lis_fam' is not defined"
     ]
    }
   ],
   "source": [
    "del(lis_fam[lista_fam.index('henry')])\n",
    "print(lista_fam)\n"
   ]
  },
  {
   "cell_type": "code",
   "execution_count": 65,
   "id": "1a96214a",
   "metadata": {},
   "outputs": [
    {
     "name": "stdout",
     "output_type": "stream",
     "text": [
      "Mayumi\n"
     ]
    }
   ],
   "source": [
    "name = \"mayumi\"\n",
    "\n",
    "print(name.capitalize())"
   ]
  },
  {
   "cell_type": "code",
   "execution_count": 66,
   "id": "b017992c",
   "metadata": {},
   "outputs": [
    {
     "name": "stdout",
     "output_type": "stream",
     "text": [
      "['susel', 'brandon', 'alegandro', 'gabriel']\n"
     ]
    }
   ],
   "source": [
    "lista_entornos =['susel','brandon','alegandro','gabriel']\n",
    "plista_entornos = lista_entornos[0].capitalize()\n",
    "print(lista_entornos)"
   ]
  },
  {
   "cell_type": "code",
   "execution_count": 67,
   "id": "f33f65c9",
   "metadata": {},
   "outputs": [
    {
     "name": "stdout",
     "output_type": "stream",
     "text": [
      "ma*umi\n"
     ]
    }
   ],
   "source": [
    "print(name.replace(\"y\",'*'))"
   ]
  },
  {
   "cell_type": "code",
   "execution_count": 68,
   "id": "bd29f231",
   "metadata": {},
   "outputs": [
    {
     "data": {
      "text/plain": [
       "'MAYUMI'"
      ]
     },
     "execution_count": 68,
     "metadata": {},
     "output_type": "execute_result"
    }
   ],
   "source": [
    "name.upper()"
   ]
  },
  {
   "cell_type": "code",
   "execution_count": 69,
   "id": "617441d7",
   "metadata": {},
   "outputs": [
    {
     "name": "stdout",
     "output_type": "stream",
     "text": [
      "['heydy', 22, 'ines', 54, 'henry', 33, 'oscar', 37]\n"
     ]
    }
   ],
   "source": [
    "print(lista_fam)"
   ]
  },
  {
   "cell_type": "code",
   "execution_count": 70,
   "id": "ed23fb22",
   "metadata": {},
   "outputs": [
    {
     "name": "stdout",
     "output_type": "stream",
     "text": [
      "['heydy', 22, 'ines', 54, 'henry', 33, 'oscar', 37]\n"
     ]
    },
    {
     "data": {
      "text/plain": [
       "<function list.reverse()>"
      ]
     },
     "execution_count": 70,
     "metadata": {},
     "output_type": "execute_result"
    }
   ],
   "source": [
    "print(lista_fam)\n",
    "lista_fam.reverse"
   ]
  }
 ],
 "metadata": {
  "kernelspec": {
   "display_name": "Python 3",
   "language": "python",
   "name": "python3"
  },
  "language_info": {
   "codemirror_mode": {
    "name": "ipython",
    "version": 3
   },
   "file_extension": ".py",
   "mimetype": "text/x-python",
   "name": "python",
   "nbconvert_exporter": "python",
   "pygments_lexer": "ipython3",
   "version": "3.13.3"
  }
 },
 "nbformat": 4,
 "nbformat_minor": 5
}
