{
 "cells": [
  {
   "cell_type": "markdown",
   "id": "29c3a3ea",
   "metadata": {},
   "source": [
    "## Ejemplo 2 variables \n",
    "\n",
    "### 1 Objectivos:\n",
    "\n",
    "* entender cual es la sintaxix de la accinacion de variables en paython\n",
    "\n",
    "- aprender la convencin de nombramiento de variables "
   ]
  },
  {
   "cell_type": "markdown",
   "id": "c762cdf7",
   "metadata": {},
   "source": [
    "### 2. Desarrollo \n",
    "\n",
    "Los siguentes nombres son nombres posibles de variadles en python:\n",
    "\n",
    "-var_1\n",
    "-variable_2\n",
    "-variable_dos\n",
    "-variable_neva_tres\n",
    "-esta_es _una_variable_nueva"
   ]
  },
  {
   "cell_type": "markdown",
   "id": "57d70d53",
   "metadata": {},
   "source": [
    "los siguientes son nombres invalidos en una variable en python\n",
    "-1_2\n",
    "-1_variable\n",
    "-variableDos\n",
    "-estaEsUnaVariable\n",
    "-Soy una variable "
   ]
  },
  {
   "cell_type": "markdown",
   "id": "5f0df6cc",
   "metadata": {},
   "source": [
    "Asignemos unas cuantas variables:"
   ]
  },
  {
   "cell_type": "code",
   "execution_count": 1,
   "id": "b8062765",
   "metadata": {},
   "outputs": [],
   "source": [
    "var_1 =3\n",
    "var_2 =6\n",
    "variable_3 =10\n",
    "variable_nueva_4 = 20"
   ]
  },
  {
   "cell_type": "markdown",
   "id": "9187ee8b",
   "metadata": {},
   "source": [
    "podemos aceder a su contenido con ta solo escribrir el nombre de la variable  en una celda y correla "
   ]
  },
  {
   "cell_type": "code",
   "execution_count": 3,
   "id": "2310e8ef",
   "metadata": {},
   "outputs": [
    {
     "data": {
      "text/plain": [
       "3"
      ]
     },
     "execution_count": 3,
     "metadata": {},
     "output_type": "execute_result"
    }
   ],
   "source": [
    "var_1 \n"
   ]
  },
  {
   "cell_type": "code",
   "execution_count": 4,
   "id": "eb413151",
   "metadata": {},
   "outputs": [
    {
     "data": {
      "text/plain": [
       "20"
      ]
     },
     "execution_count": 4,
     "metadata": {},
     "output_type": "execute_result"
    }
   ],
   "source": [
    "variable_nueva_4"
   ]
  },
  {
   "cell_type": "markdown",
   "id": "70ef5658",
   "metadata": {},
   "source": [
    "se intento llar una variable que no existe JN va a lanzar un error "
   ]
  },
  {
   "cell_type": "code",
   "execution_count": 5,
   "id": "63621ce0",
   "metadata": {},
   "outputs": [
    {
     "ename": "NameError",
     "evalue": "name 'var_5' is not defined",
     "output_type": "error",
     "traceback": [
      "\u001b[31m---------------------------------------------------------------------------\u001b[39m",
      "\u001b[31mNameError\u001b[39m                                 Traceback (most recent call last)",
      "\u001b[36mCell\u001b[39m\u001b[36m \u001b[39m\u001b[32mIn[5]\u001b[39m\u001b[32m, line 1\u001b[39m\n\u001b[32m----> \u001b[39m\u001b[32m1\u001b[39m \u001b[43mvar_5\u001b[49m\n",
      "\u001b[31mNameError\u001b[39m: name 'var_5' is not defined"
     ]
    }
   ],
   "source": [
    "var_5"
   ]
  },
  {
   "cell_type": "markdown",
   "id": "cf9ce7c0",
   "metadata": {},
   "source": [
    "de igual manera si se escribe una aginacion ,pero no se corre la celda ,esa variable no estara disponible para el notebook mas adelante "
   ]
  },
  {
   "cell_type": "code",
   "execution_count": 9,
   "id": "3c94537d",
   "metadata": {},
   "outputs": [],
   "source": [
    "var_2 = 89"
   ]
  },
  {
   "cell_type": "code",
   "execution_count": 10,
   "id": "1fce0785",
   "metadata": {},
   "outputs": [
    {
     "data": {
      "text/plain": [
       "89"
      ]
     },
     "execution_count": 10,
     "metadata": {},
     "output_type": "execute_result"
    }
   ],
   "source": [
    "var_2\n"
   ]
  },
  {
   "cell_type": "markdown",
   "id": "64d4ce4b",
   "metadata": {},
   "source": [
    "## Reto 1: Variable \n",
    "### 1.objectivos:\n",
    "\n",
    "     -Practicar convencion de nombramiento y asignacion  de variables \n",
    "\n",
    "### 2.Dessarollo \n",
    "\n",
    "realizar la siguente practica \n"
   ]
  },
  {
   "cell_type": "code",
   "execution_count": 11,
   "id": "dba43d2c",
   "metadata": {},
   "outputs": [],
   "source": [
    "#Asiagna el numero  12345 a una variable llamada variable  locochona \n",
    "\n",
    "locochona = 1,2,3,4,5\n",
    "\n",
    "#asigana el numero 14.567 a la variable var decimal \n",
    "var_decimal = 14.567\n",
    "\n",
    "#asigna un numero cualquiera a una variable  que tenga 5 palabras en su nombre\n",
    "cinco = 7\n",
    "\n",
    "#asigana cualquier numero a una variable que invluya palabras y numeros  en su nombre \n",
    "var_6 =5"
   ]
  }
 ],
 "metadata": {
  "kernelspec": {
   "display_name": "Python 3",
   "language": "python",
   "name": "python3"
  },
  "language_info": {
   "codemirror_mode": {
    "name": "ipython",
    "version": 3
   },
   "file_extension": ".py",
   "mimetype": "text/x-python",
   "name": "python",
   "nbconvert_exporter": "python",
   "pygments_lexer": "ipython3",
   "version": "3.13.3"
  }
 },
 "nbformat": 4,
 "nbformat_minor": 5
}
