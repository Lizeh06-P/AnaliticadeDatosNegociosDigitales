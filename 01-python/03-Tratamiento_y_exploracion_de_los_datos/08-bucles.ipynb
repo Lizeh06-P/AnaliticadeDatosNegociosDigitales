{
 "cells": [
  {
   "cell_type": "markdown",
   "id": "3f3e555c",
   "metadata": {},
   "source": [
    "# bucles o loops o ciclos \n",
    "\n"
   ]
  },
  {
   "cell_type": "markdown",
   "id": "a7fea3c8",
   "metadata": {},
   "source": [
    "## Bucles con while"
   ]
  },
  {
   "cell_type": "code",
   "execution_count": null,
   "id": "661d8307",
   "metadata": {},
   "outputs": [
    {
     "ename": "KeyboardInterrupt",
     "evalue": "",
     "output_type": "error",
     "traceback": [
      "\u001b[31m---------------------------------------------------------------------------\u001b[39m",
      "\u001b[31mKeyboardInterrupt\u001b[39m                         Traceback (most recent call last)",
      "\u001b[36mCell\u001b[39m\u001b[36m \u001b[39m\u001b[32mIn[3]\u001b[39m\u001b[32m, line 1\u001b[39m\n\u001b[32m----> \u001b[39m\u001b[32m1\u001b[39m \u001b[38;5;28;01mwhile\u001b[39;00m(\u001b[38;5;28;01mTrue\u001b[39;00m):\n\u001b[32m      2\u001b[39m    \u001b[38;5;28;01mpass\u001b[39;00m\n\u001b[32m      3\u001b[39m \u001b[38;5;28mprint\u001b[39m(\u001b[33m'\u001b[39m\u001b[33mEstoy dentro del bucle  y no puedo salir \u001b[39m\u001b[33m'\u001b[39m)\n",
      "\u001b[31mKeyboardInterrupt\u001b[39m: "
     ]
    }
   ],
   "source": [
    "while(True):\n",
    "   print('Estoy dentro del bucle  y no puedo salir ')"
   ]
  },
  {
   "cell_type": "code",
   "execution_count": 2,
   "id": "b4414271",
   "metadata": {},
   "outputs": [
    {
     "name": "stdout",
     "output_type": "stream",
     "text": [
      "el numero mas grande es :-999999999\n"
     ]
    }
   ],
   "source": [
    "numero_grande = -999999999\n",
    "\n",
    "#ingresa el primer valor\n",
    "\n",
    "number = int(input('introduce un numero o escribe -1 para terminar '))\n",
    "\n",
    "while number!= -1:\n",
    "    #es el numero mas grande que el valor numero?\n",
    "\n",
    "    if number >numero_grande:\n",
    "        numero_grande = number\n",
    "\n",
    "    number = int(input('introduce un numero o escribe -1 para terminar '))  \n",
    "print(f'el numero mas grande es :{numero_grande}') "
   ]
  },
  {
   "cell_type": "code",
   "execution_count": null,
   "id": "380f7b8f",
   "metadata": {},
   "outputs": [
    {
     "name": "stdout",
     "output_type": "stream",
     "text": [
      "soy el numero1\n",
      "fin del programa \n",
      "soy el numero2\n",
      "fin del programa \n",
      "soy el numero3\n",
      "fin del programa \n",
      "soy el numero4\n",
      "fin del programa \n"
     ]
    }
   ],
   "source": [
    "#imprimir todos los numeros del 1 a N \n",
    "\n",
    "numero = int(input('introduce el numero'))\n",
    "i = 1\n",
    "while i<=numero:\n",
    "    print(f'soy el numero{i}')\n",
    "\n",
    "    i =i + 1\n",
    "    print('fin del programa ')"
   ]
  },
  {
   "cell_type": "markdown",
   "id": "3c2309d0",
   "metadata": {},
   "source": [
    "**realizar un programa que calcule el promedio de calificacions n**"
   ]
  },
  {
   "cell_type": "code",
   "execution_count": 19,
   "id": "e145d023",
   "metadata": {},
   "outputs": [
    {
     "ename": "SyntaxError",
     "evalue": "cannot assign to expression here. Maybe you meant '==' instead of '='? (3289846239.py, line 9)",
     "output_type": "error",
     "traceback": [
      "  \u001b[36mCell\u001b[39m\u001b[36m \u001b[39m\u001b[32mIn[19]\u001b[39m\u001b[32m, line 9\u001b[39m\n\u001b[31m    \u001b[39m\u001b[31mreprobado + reprobado= calificacion\u001b[39m\n    ^\n\u001b[31mSyntaxError\u001b[39m\u001b[31m:\u001b[39m cannot assign to expression here. Maybe you meant '==' instead of '='?\n"
     ]
    }
   ],
   "source": [
    "\n",
    "aprovado = 10\n",
    "reprobado = 0\n",
    "while (True):\n",
    "    calificacion= float (input('calificacion:'))\n",
    "\n",
    "    if(note == -1):\n",
    "      break\n",
    "    aprovado = 1\n",
    "    reprobado + reprobado= calificacion\n",
    "\n",
    "    promedio = reprobado / aprovado\n",
    "\n",
    "    print('el promedio ' )"
   ]
  },
  {
   "cell_type": "code",
   "execution_count": null,
   "id": "10815af0",
   "metadata": {},
   "outputs": [],
   "source": [
    "n = float(input('introduce el numero de calificaciones '))\n",
    "i =1\n",
    "sumaC =0.0\n",
    "calif = 0.0\n",
    "\n",
    "while (i<n):\n",
    "    sumaC+=float (input(f'introduce la calificacion {i}'))\n",
    "    i= i+1\n",
    "print (f'el promedio de calificacionee {sumaC/n} ' )\n"
   ]
  },
  {
   "cell_type": "markdown",
   "id": "b5b1cfd8",
   "metadata": {},
   "source": [
    "realizar un programa que solicite n calificaciones hasta que el usuario de -1\n",
    "y debe de imprimir cuales son aprovatorias y cuales no "
   ]
  },
  {
   "cell_type": "code",
   "execution_count": 3,
   "id": "ac7736ab",
   "metadata": {},
   "outputs": [
    {
     "name": "stdout",
     "output_type": "stream",
     "text": [
      "\n",
      "Calificaciones Aprobatorias:\n",
      "8.0\n",
      "9.0\n",
      "7.0\n",
      "10.0\n",
      "9.0\n",
      "\n",
      "Calificaciones Reprobatorias:\n",
      "6.0\n"
     ]
    }
   ],
   "source": [
    "aprobadas = []\n",
    "reprobadas = []\n",
    "\n",
    "while True:\n",
    "    entrada = input(\"Ingresa una calificación (o -1 para terminar): \")\n",
    "    try:\n",
    "        calificacion = float(entrada)\n",
    "        if calificacion == -1:\n",
    "            break\n",
    "        elif calificacion >= 0 and calificacion <= 10:\n",
    "            if calificacion >= 7:\n",
    "                aprobadas.append(calificacion)\n",
    "            else:\n",
    "                reprobadas.append(calificacion)\n",
    "        else:\n",
    "            print(\"Ingresa una calificación válida entre 0 y 10.\")\n",
    "    except ValueError:\n",
    "        print(\"Por favor, ingresa un número válido.\")\n",
    "\n",
    "# Mostrar resultados\n",
    "print(\"\\nCalificaciones Aprobatorias:\")\n",
    "for cal in aprobadas:\n",
    "    print(cal)\n",
    "\n",
    "print(\"\\nCalificaciones Reprobatorias:\")\n",
    "for cal in reprobadas:\n",
    "    print(cal)\n"
   ]
  },
  {
   "cell_type": "code",
   "execution_count": 12,
   "id": "16d77c02",
   "metadata": {},
   "outputs": [
    {
     "name": "stdout",
     "output_type": "stream",
     "text": [
      "El número de aprobados es 3\n",
      "El número de reprobados es: 1\n"
     ]
    }
   ],
   "source": [
    "cal = int(input('Introduce la calificación: '))\n",
    "califAprob = 0\n",
    "califRepro = 0\n",
    "\n",
    "while cal != -1:\n",
    "    if cal >= 7.0 and cal <= 10.0:\n",
    "        califAprob = califAprob + 1\n",
    "    elif cal < 7.0 and cal >= 0:\n",
    "        califRepro += 1\n",
    "    \n",
    "    cal = int(input('Introduce la calificación: '))\n",
    "\n",
    "print(f'El número de aprobados es {califAprob}\\nEl número de reprobados es: {califRepro}')\n"
   ]
  },
  {
   "cell_type": "markdown",
   "id": "6fe139e2",
   "metadata": {},
   "source": [
    "## Bucle con for \n",
    "\n",
    "otro tipo de bucle disponible en ` python ` proviene de la observacion de que a veces es mas importante contar los `giros o vueltas` del bucle que verificar las condiciones \n",
    "\n",
    "```python\n",
    "for i in range (100):\n",
    "    #do_something()\n",
    "    pass\n",
    "```"
   ]
  },
  {
   "cell_type": "code",
   "execution_count": 4,
   "id": "aba0e624",
   "metadata": {},
   "outputs": [
    {
     "name": "stdout",
     "output_type": "stream",
     "text": [
      "el valor de i es 0\n",
      "el valor de i es 1\n",
      "el valor de i es 2\n",
      "el valor de i es 3\n",
      "el valor de i es 4\n",
      "el valor de i es 5\n",
      "el valor de i es 6\n",
      "el valor de i es 7\n",
      "el valor de i es 8\n",
      "el valor de i es 9\n",
      "el valor de i es 10\n",
      "el valor de i es 11\n",
      "el valor de i es 12\n",
      "el valor de i es 13\n",
      "el valor de i es 14\n",
      "el valor de i es 15\n",
      "el valor de i es 16\n",
      "el valor de i es 17\n",
      "el valor de i es 18\n",
      "el valor de i es 19\n"
     ]
    }
   ],
   "source": [
    "for i in range(20):\n",
    "  print(f'el valor de i es {i}')"
   ]
  },
  {
   "cell_type": "code",
   "execution_count": 3,
   "id": "b22437c7",
   "metadata": {},
   "outputs": [
    {
     "name": "stdout",
     "output_type": "stream",
     "text": [
      "el valor de i es 1\n",
      "el valor de i es 2\n",
      "el valor de i es 3\n",
      "el valor de i es 4\n",
      "el valor de i es 5\n",
      "el valor de i es 6\n",
      "el valor de i es 7\n",
      "el valor de i es 8\n",
      "el valor de i es 9\n",
      "el valor de i es 10\n",
      "el valor de i es 11\n",
      "el valor de i es 12\n",
      "el valor de i es 13\n",
      "el valor de i es 14\n",
      "el valor de i es 15\n",
      "el valor de i es 16\n",
      "el valor de i es 17\n",
      "el valor de i es 18\n",
      "el valor de i es 19\n",
      "el valor de i es 20\n"
     ]
    }
   ],
   "source": [
    "for i in range(20):\n",
    "  print(f'el valor de i es {i + 1}')"
   ]
  },
  {
   "cell_type": "code",
   "execution_count": 6,
   "id": "83f0d079",
   "metadata": {},
   "outputs": [
    {
     "name": "stdout",
     "output_type": "stream",
     "text": [
      "2\n",
      "3\n",
      "4\n",
      "5\n",
      "6\n",
      "7\n",
      "10\n"
     ]
    }
   ],
   "source": [
    "lista = [2,3,4,5,6,7,10]\n",
    "\n",
    "for li in lista :\n",
    "    print(li)"
   ]
  },
  {
   "cell_type": "code",
   "execution_count": 7,
   "id": "eb1f940d",
   "metadata": {},
   "outputs": [
    {
     "name": "stdout",
     "output_type": "stream",
     "text": [
      "2\n",
      "3\n",
      "4\n",
      "5\n",
      "6\n",
      "7\n",
      "10\n",
      "[2, 3, 5, 6]\n"
     ]
    }
   ],
   "source": [
    "lista = [2,3,4,5,6,7,10,[2,3,5,6]]\n",
    "\n",
    "for li in lista :\n",
    "    print(li)"
   ]
  },
  {
   "cell_type": "markdown",
   "id": "c4fbf042",
   "metadata": {},
   "source": [
    "nota : \n",
    "\n",
    "el bucle se ha ejecutado n veces (es el argumento de a funcion range()) el valor de la ultima variable del control es 9(no 10, ya que comienza desde 0,no desde 1)"
   ]
  },
  {
   "cell_type": "code",
   "execution_count": 8,
   "id": "d979f770",
   "metadata": {},
   "outputs": [
    {
     "name": "stdout",
     "output_type": "stream",
     "text": [
      "el valor de la i 2\n",
      "el valor de la i 3\n",
      "el valor de la i 4\n",
      "el valor de la i 5\n",
      "el valor de la i 6\n",
      "el valor de la i 7\n"
     ]
    }
   ],
   "source": [
    "for i in range (2,8):\n",
    "    print(f'el valor de la i {i}')"
   ]
  },
  {
   "cell_type": "code",
   "execution_count": 9,
   "id": "a430793f",
   "metadata": {},
   "outputs": [
    {
     "name": "stdout",
     "output_type": "stream",
     "text": [
      "el valor de i es 2\n",
      "el valor de i es 3\n",
      "el valor de i es 4\n",
      "el valor de i es 5\n",
      "el valor de i es 6\n",
      "el valor de i es 7\n"
     ]
    }
   ],
   "source": [
    "i = 2 \n",
    "while i <8:\n",
    "    print(f'el valor de i es {i}')\n",
    "    i+=1"
   ]
  },
  {
   "cell_type": "markdown",
   "id": "9c488b95",
   "metadata": {},
   "source": [
    "la funcion range tambien puede aceptar  3 argumentos  "
   ]
  },
  {
   "cell_type": "code",
   "execution_count": 11,
   "id": "c320d189",
   "metadata": {},
   "outputs": [
    {
     "name": "stdout",
     "output_type": "stream",
     "text": [
      "el valor de i es 2\n",
      "el valor de i es 5\n"
     ]
    }
   ],
   "source": [
    "for i in range (2,7,3):\n",
    "    print(f'el valor de i es {i}')"
   ]
  },
  {
   "cell_type": "code",
   "execution_count": 16,
   "id": "e6959d84",
   "metadata": {},
   "outputs": [
    {
     "name": "stdout",
     "output_type": "stream",
     "text": [
      "el valor de i es 2\n",
      "el valor de i es 5\n"
     ]
    }
   ],
   "source": [
    "i =  2\n",
    "while i<8:\n",
    "  print(f'el valor de i es {i}')\n",
    "  i+=3"
   ]
  },
  {
   "cell_type": "markdown",
   "id": "98d92f2d",
   "metadata": {},
   "source": [
    "Las sentencias break y continue \n",
    "\n",
    "`break` sale del bucle imediatamete , e incondicionalmente termina la operacion del bucle, \n",
    "el programa empieza a ejecutar la intruccion mas cercana despues del cuerpo del bucle  \n",
    "`continue`- Se comporta como si el programa hubiera legado reprentinamente al final del cuerpo; el siguiente turno se inicia la exprecion de condicion se prueba de inmediato"
   ]
  },
  {
   "cell_type": "code",
   "execution_count": 17,
   "id": "052ee18e",
   "metadata": {},
   "outputs": [
    {
     "name": "stdout",
     "output_type": "stream",
     "text": [
      "La instrucion break \n",
      "dentro del bucle \n",
      "dentro del bucle \n",
      "fuera del bucle\n"
     ]
    }
   ],
   "source": [
    "#break -ejemplo\n",
    "print(\"La instrucion break \")\n",
    "\n",
    "for i in range (1,6):\n",
    "    if i  ==3:\n",
    "        break \n",
    "    print ('dentro del bucle ')\n",
    "print('fuera del bucle')"
   ]
  },
  {
   "cell_type": "code",
   "execution_count": 18,
   "id": "296533b5",
   "metadata": {},
   "outputs": [
    {
     "name": "stdout",
     "output_type": "stream",
     "text": [
      "\n",
      " la instruccion continue\n",
      "Dentro del bucle.1\n",
      "Dentro del bucle.2\n",
      "Dentro del bucle.4\n",
      "Dentro del bucle.5\n",
      "Fuera del bucle \n"
     ]
    }
   ],
   "source": [
    "#continue \n",
    "\n",
    "print('\\n la instruccion continue')\n",
    "for i in range(1,6):\n",
    "    if i == 3:\n",
    "        continue\n",
    "    print(f'Dentro del bucle.{i}')\n",
    "print('Fuera del bucle ')"
   ]
  }
 ],
 "metadata": {
  "kernelspec": {
   "display_name": "Python 3",
   "language": "python",
   "name": "python3"
  },
  "language_info": {
   "codemirror_mode": {
    "name": "ipython",
    "version": 3
   },
   "file_extension": ".py",
   "mimetype": "text/x-python",
   "name": "python",
   "nbconvert_exporter": "python",
   "pygments_lexer": "ipython3",
   "version": "3.13.3"
  }
 },
 "nbformat": 4,
 "nbformat_minor": 5
}
