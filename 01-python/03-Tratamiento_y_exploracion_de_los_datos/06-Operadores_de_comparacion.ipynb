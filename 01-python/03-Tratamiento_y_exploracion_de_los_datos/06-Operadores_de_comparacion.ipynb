{
 "cells": [
  {
   "cell_type": "markdown",
   "id": "736423fa",
   "metadata": {},
   "source": [
    "## operadores de comparacion\n",
    "\n",
    "### Objectivos\n",
    "\n",
    " -conocer el funcionamiento de los operadores de comparacion usando int,floats ystrings\n",
    "\n",
    "---\n",
    "\n",
    "### Desarollo"
   ]
  },
  {
   "cell_type": "markdown",
   "id": "7a5767a9",
   "metadata": {},
   "source": [
    "asignar algunas valores a algunas variables para despues utilizar comparaciones \n"
   ]
  },
  {
   "cell_type": "code",
   "execution_count": 2,
   "id": "744399e6",
   "metadata": {},
   "outputs": [],
   "source": [
    "var_1 =34\n",
    "var_2 =12\n",
    "var_3 =23.24\n",
    "var_4 =23.56\n",
    "var_5 =\"ok\"\n",
    "var_6 =\"error\"\n",
    "var_7 = True\n",
    "var_8 = False"
   ]
  },
  {
   "cell_type": "markdown",
   "id": "df28523e",
   "metadata": {},
   "source": [
    "ahora vamos a realizar algunas comparaciones para ver como funcionan algunos operadores relacionales "
   ]
  },
  {
   "cell_type": "code",
   "execution_count": 3,
   "id": "97b8c441",
   "metadata": {},
   "outputs": [
    {
     "data": {
      "text/plain": [
       "True"
      ]
     },
     "execution_count": 3,
     "metadata": {},
     "output_type": "execute_result"
    }
   ],
   "source": [
    "var_1 >var_2"
   ]
  },
  {
   "cell_type": "code",
   "execution_count": 4,
   "id": "22f2d58b",
   "metadata": {},
   "outputs": [
    {
     "data": {
      "text/plain": [
       "False"
      ]
     },
     "execution_count": 4,
     "metadata": {},
     "output_type": "execute_result"
    }
   ],
   "source": [
    "var_1 < var_2"
   ]
  },
  {
   "cell_type": "code",
   "execution_count": 6,
   "id": "788bf1ca",
   "metadata": {},
   "outputs": [
    {
     "data": {
      "text/plain": [
       "True"
      ]
     },
     "execution_count": 6,
     "metadata": {},
     "output_type": "execute_result"
    }
   ],
   "source": [
    "var_3 < var_4"
   ]
  },
  {
   "cell_type": "code",
   "execution_count": 8,
   "id": "284fa1be",
   "metadata": {},
   "outputs": [
    {
     "data": {
      "text/plain": [
       "True"
      ]
     },
     "execution_count": 8,
     "metadata": {},
     "output_type": "execute_result"
    }
   ],
   "source": [
    "var_3 <= var_4"
   ]
  },
  {
   "cell_type": "code",
   "execution_count": 9,
   "id": "3611c448",
   "metadata": {},
   "outputs": [
    {
     "data": {
      "text/plain": [
       "False"
      ]
     },
     "execution_count": 9,
     "metadata": {},
     "output_type": "execute_result"
    }
   ],
   "source": [
    "var_1 <=  var_4"
   ]
  },
  {
   "cell_type": "code",
   "execution_count": 10,
   "id": "68eabc9a",
   "metadata": {},
   "outputs": [
    {
     "data": {
      "text/plain": [
       "False"
      ]
     },
     "execution_count": 10,
     "metadata": {},
     "output_type": "execute_result"
    }
   ],
   "source": [
    "var_5 == var_6"
   ]
  },
  {
   "cell_type": "code",
   "execution_count": 12,
   "id": "6a032d7d",
   "metadata": {},
   "outputs": [
    {
     "data": {
      "text/plain": [
       "True"
      ]
     },
     "execution_count": 12,
     "metadata": {},
     "output_type": "execute_result"
    }
   ],
   "source": [
    "var_5 <= var_6"
   ]
  },
  {
   "cell_type": "code",
   "execution_count": 14,
   "id": "cb4356c0",
   "metadata": {},
   "outputs": [
    {
     "data": {
      "text/plain": [
       "True"
      ]
     },
     "execution_count": 14,
     "metadata": {},
     "output_type": "execute_result"
    }
   ],
   "source": [
    "var_7 == var_7"
   ]
  },
  {
   "cell_type": "code",
   "execution_count": 15,
   "id": "edea4425",
   "metadata": {},
   "outputs": [
    {
     "data": {
      "text/plain": [
       "False"
      ]
     },
     "execution_count": 15,
     "metadata": {},
     "output_type": "execute_result"
    }
   ],
   "source": [
    "True == False"
   ]
  },
  {
   "cell_type": "code",
   "execution_count": 16,
   "id": "2a749f0a",
   "metadata": {},
   "outputs": [
    {
     "data": {
      "text/plain": [
       "True"
      ]
     },
     "execution_count": 16,
     "metadata": {},
     "output_type": "execute_result"
    }
   ],
   "source": [
    "True > False"
   ]
  },
  {
   "cell_type": "code",
   "execution_count": 17,
   "id": "c357fb33",
   "metadata": {},
   "outputs": [
    {
     "data": {
      "text/plain": [
       "False"
      ]
     },
     "execution_count": 17,
     "metadata": {},
     "output_type": "execute_result"
    }
   ],
   "source": [
    "True < False"
   ]
  }
 ],
 "metadata": {
  "kernelspec": {
   "display_name": "Python 3",
   "language": "python",
   "name": "python3"
  },
  "language_info": {
   "codemirror_mode": {
    "name": "ipython",
    "version": 3
   },
   "file_extension": ".py",
   "mimetype": "text/x-python",
   "name": "python",
   "nbconvert_exporter": "python",
   "pygments_lexer": "ipython3",
   "version": "3.13.3"
  }
 },
 "nbformat": 4,
 "nbformat_minor": 5
}
