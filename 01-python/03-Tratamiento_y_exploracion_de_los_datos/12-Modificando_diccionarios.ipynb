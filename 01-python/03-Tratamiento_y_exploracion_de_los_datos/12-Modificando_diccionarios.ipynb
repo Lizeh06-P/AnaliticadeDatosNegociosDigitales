{
 "cells": [
  {
   "cell_type": "markdown",
   "id": "2febf8c9",
   "metadata": {},
   "source": [
    "#   Modificando Diccionarios "
   ]
  },
  {
   "cell_type": "markdown",
   "id": "51260fd2",
   "metadata": {},
   "source": [
    "## 1. Objectivos\n",
    "-Practicar los tres metodos basicos de modificacion de diccionarios:**Agregar datos,modificar datos y borrar llaves**"
   ]
  },
  {
   "cell_type": "markdown",
   "id": "a1980e19",
   "metadata": {},
   "source": [
    "## desarollo \n",
    "Tenemos 3 maneras basicas de modificar los diccionarios\n",
    "\n",
    "---"
   ]
  },
  {
   "cell_type": "markdown",
   "id": "c34378b4",
   "metadata": {},
   "source": [
    "### Agregar Datos \n",
    "Para agrgar un dato a un diccionario ya existente ,basta con llamar la llave que queremos agregar y asignar un valor "
   ]
  },
  {
   "cell_type": "code",
   "execution_count": null,
   "id": "6a2e1a60",
   "metadata": {},
   "outputs": [],
   "source": [
    "from pprint import pprint "
   ]
  },
  {
   "cell_type": "code",
   "execution_count": 3,
   "id": "78fd6ba9",
   "metadata": {},
   "outputs": [
    {
     "name": "stdout",
     "output_type": "stream",
     "text": [
      "{'Nombre': 'Maluma', 'tel': 5546352431, 'dir': {'colonia': 'el 61', 'calle': 'pirineo', 'num': 69, 'cp': 42830}}\n"
     ]
    }
   ],
   "source": [
    "info_de_contacto ={\n",
    "\n",
    "    'Nombre':'Maluma',\n",
    "    'tel':5546352431,\n",
    "    'dir':{\n",
    "    'colonia':'el 61',\n",
    "    'calle':'pirineo',\n",
    "    'num':69,\n",
    "    'cp':42830\n",
    "    }\n",
    "}\n",
    "\n",
    "print(info_de_contacto)"
   ]
  },
  {
   "cell_type": "code",
   "execution_count": 4,
   "id": "a9f82377",
   "metadata": {},
   "outputs": [
    {
     "name": "stdout",
     "output_type": "stream",
     "text": [
      "{'Nombre': 'Maluma',\n",
      " 'dir': {'calle': 'pirineo', 'colonia': 'el 61', 'cp': 42830, 'num': 69},\n",
      " 'tel': 5546352431}\n"
     ]
    }
   ],
   "source": [
    "pprint(info_de_contacto)"
   ]
  },
  {
   "cell_type": "code",
   "execution_count": 5,
   "id": "59b8530b",
   "metadata": {},
   "outputs": [],
   "source": [
    "info_de_contacto ['email'] ='Maluma_ddbc_@gmail.com'"
   ]
  },
  {
   "cell_type": "code",
   "execution_count": 6,
   "id": "0ce3ef64",
   "metadata": {},
   "outputs": [
    {
     "name": "stdout",
     "output_type": "stream",
     "text": [
      "{'Nombre': 'Maluma',\n",
      " 'dir': {'calle': 'pirineo', 'colonia': 'el 61', 'cp': 42830, 'num': 69},\n",
      " 'email': 'Maluma_ddbc_@gmail.com',\n",
      " 'tel': 5546352431}\n"
     ]
    }
   ],
   "source": [
    "pprint(info_de_contacto)"
   ]
  },
  {
   "cell_type": "markdown",
   "id": "c596de81",
   "metadata": {},
   "source": [
    "## Modificar pares llave-valor existentes \n",
    "\n",
    "para modificar un par  llave-valor  ya existente,basta con reasignar a una nueva llave de nuestro diccionario el nuevo valor que querems agregar por ejemplo imaginemos que esta persona cambio de dirreccion "
   ]
  },
  {
   "cell_type": "code",
   "execution_count": 9,
   "id": "13afa809",
   "metadata": {},
   "outputs": [
    {
     "name": "stdout",
     "output_type": "stream",
     "text": [
      "{'Nombre': 'Maluma', 'tel': 5546352431, 'dir': {'colonia': 'escandalo', 'calle': 'Progreso', 'num': 189, 'cp': '1180'}, 'email': 'Maluma_ddbc_@gmail.com'}\n"
     ]
    }
   ],
   "source": [
    "info_de_contacto['dir']= {\n",
    "    'colonia':'escandalo',\n",
    "    'calle':'Progreso',\n",
    "    'num':189,\n",
    "     'cp':'1180'\n",
    "}\n",
    "print(info_de_contacto)"
   ]
  },
  {
   "cell_type": "code",
   "execution_count": 12,
   "id": "6fde2e2a",
   "metadata": {},
   "outputs": [
    {
     "name": "stdout",
     "output_type": "stream",
     "text": [
      "{'Nombre': 'Maluma',\n",
      " 'dir': {'calle': 'Progreso',\n",
      "         'colonia': 'Saltesipuedes',\n",
      "         'cp': '1180',\n",
      "         'num': 189},\n",
      " 'email': 'Maluma_ddbc_@gmail.com',\n",
      " 'tel': 5546352431}\n"
     ]
    }
   ],
   "source": [
    "info_de_contacto ['dir']['colonia']='Saltesipuedes'\n",
    "pprint(info_de_contacto)"
   ]
  },
  {
   "cell_type": "markdown",
   "id": "25b3012b",
   "metadata": {},
   "source": [
    "podemos inclusso modificar estructuras de datos detro de nuestros diccionarios que tal si hubo un error al agregar la nuev direccion y ahora tenemos que cambiar solamente el numero :"
   ]
  },
  {
   "cell_type": "code",
   "execution_count": 14,
   "id": "6e36e499",
   "metadata": {},
   "outputs": [
    {
     "name": "stdout",
     "output_type": "stream",
     "text": [
      "{'Nombre': 'Maluma',\n",
      " 'dir': {'calle': 'Progreso',\n",
      "         'colonia': 'Saltesipuedes',\n",
      "         'cp': '1180',\n",
      "         'num': 666},\n",
      " 'email': 'Maluma_ddbc_@gmail.com',\n",
      " 'tel': 5546352431}\n"
     ]
    }
   ],
   "source": [
    "info_de_contacto['dir'][\"num\"] = 666\n",
    "pprint(info_de_contacto)\n"
   ]
  },
  {
   "cell_type": "markdown",
   "id": "8d44b4fb",
   "metadata": {},
   "source": [
    "## Eliminado datos \n",
    "\n",
    "para eliminar datos,se puede usar el metodo ``pop``.Como se recordara, el nombre de este metodo ess identico al metodo para eliminar los elementos de una lista .La diferrenci que el metodo `pop`de las listas reciben indiuce como argumentod el metodo pop de diccionario recibe llaves como argumento:"
   ]
  },
  {
   "cell_type": "code",
   "execution_count": 15,
   "id": "6521c3b1",
   "metadata": {},
   "outputs": [
    {
     "name": "stdout",
     "output_type": "stream",
     "text": [
      "{'Nombre': 'Maluma',\n",
      " 'dir': {'calle': 'Progreso',\n",
      "         'colonia': 'Saltesipuedes',\n",
      "         'cp': '1180',\n",
      "         'num': 666},\n",
      " 'email': 'Maluma_ddbc_@gmail.com'}\n"
     ]
    }
   ],
   "source": [
    "info_de_contacto.pop(\"tel\")\n",
    "pprint(info_de_contacto)"
   ]
  }
 ],
 "metadata": {
  "kernelspec": {
   "display_name": "Python 3",
   "language": "python",
   "name": "python3"
  },
  "language_info": {
   "codemirror_mode": {
    "name": "ipython",
    "version": 3
   },
   "file_extension": ".py",
   "mimetype": "text/x-python",
   "name": "python",
   "nbconvert_exporter": "python",
   "pygments_lexer": "ipython3",
   "version": "3.13.3"
  }
 },
 "nbformat": 4,
 "nbformat_minor": 5
}
