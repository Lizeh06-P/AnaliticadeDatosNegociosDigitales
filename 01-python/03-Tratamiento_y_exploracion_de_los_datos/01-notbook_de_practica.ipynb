{
 "cells": [
  {
   "cell_type": "markdown",
   "id": "bca6941e",
   "metadata": {},
   "source": [
    "# Ejemplo 1: esto es un notebook de practica \n",
    "\n",
    "---\n",
    "\n",
    "### 1. objectivos \n",
    "     *repasar rapidamente como funciona un yupiter notebook \n",
    "\n",
    "### 2. requisitos \n",
    "    *Jupyter Notebook instalado\n",
    "\n",
    "---\n",
    "En jn tenemos un  `modo comando `  y `modo edicion`.\n",
    "\n",
    "* EL `MODO EDICION ` SIRVE PARA EDITAR CELDAS \n",
    "\n",
    "*El `modo comando` sirve para usar comandos en el jn \n",
    "\n",
    "\n",
    "\n",
    "\n"
   ]
  },
  {
   "cell_type": "markdown",
   "id": "d4568eb6",
   "metadata": {},
   "source": [
    "Esto es una celda `Markdown`"
   ]
  },
  {
   "cell_type": "code",
   "execution_count": 1,
   "id": "3a411fe7",
   "metadata": {},
   "outputs": [],
   "source": [
    "# esto es una celda de codigo \n",
    "\n",
    "#y yo soy un comentario "
   ]
  },
  {
   "cell_type": "markdown",
   "id": "3ac57e47",
   "metadata": {},
   "source": [
    "Escribimos algo de codigo para recordar:"
   ]
  },
  {
   "cell_type": "code",
   "execution_count": 2,
   "id": "ecaa7616",
   "metadata": {},
   "outputs": [
    {
     "data": {
      "text/plain": [
       "9"
      ]
     },
     "execution_count": 2,
     "metadata": {},
     "output_type": "execute_result"
    }
   ],
   "source": [
    "var_1 = 4 \n",
    "var_2 =5\n",
    "\n",
    "var_1+var_2"
   ]
  },
  {
   "cell_type": "code",
   "execution_count": 3,
   "id": "c6c7519d",
   "metadata": {},
   "outputs": [
    {
     "name": "stdout",
     "output_type": "stream",
     "text": [
      "4 5\n"
     ]
    }
   ],
   "source": [
    "print(var_1,var_2)"
   ]
  },
  {
   "cell_type": "code",
   "execution_count": 4,
   "id": "2434c217",
   "metadata": {},
   "outputs": [
    {
     "name": "stdout",
     "output_type": "stream",
     "text": [
      "4,5\n"
     ]
    }
   ],
   "source": [
    "print(str(var_1) + ',' + str (var_2))"
   ]
  },
  {
   "cell_type": "code",
   "execution_count": 5,
   "id": "3c2f25f0",
   "metadata": {},
   "outputs": [
    {
     "name": "stdout",
     "output_type": "stream",
     "text": [
      "9\n"
     ]
    }
   ],
   "source": [
    "print(var_1 + var_2)"
   ]
  },
  {
   "cell_type": "code",
   "execution_count": 7,
   "id": "e234cb3c",
   "metadata": {},
   "outputs": [
    {
     "data": {
      "text/plain": [
       "15"
      ]
     },
     "execution_count": 7,
     "metadata": {},
     "output_type": "execute_result"
    }
   ],
   "source": [
    "var_1 = 10\n",
    "var_1+ var_2"
   ]
  }
 ],
 "metadata": {
  "kernelspec": {
   "display_name": "Python 3",
   "language": "python",
   "name": "python3"
  },
  "language_info": {
   "codemirror_mode": {
    "name": "ipython",
    "version": 3
   },
   "file_extension": ".py",
   "mimetype": "text/x-python",
   "name": "python",
   "nbconvert_exporter": "python",
   "pygments_lexer": "ipython3",
   "version": "3.13.3"
  }
 },
 "nbformat": 4,
 "nbformat_minor": 5
}
