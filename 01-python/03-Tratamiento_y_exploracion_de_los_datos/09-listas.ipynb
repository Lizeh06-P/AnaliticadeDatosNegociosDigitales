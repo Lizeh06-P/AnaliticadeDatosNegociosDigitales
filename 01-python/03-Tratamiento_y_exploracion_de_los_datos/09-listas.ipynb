{
 "cells": [
  {
   "cell_type": "markdown",
   "id": "c5f1b07b",
   "metadata": {},
   "source": [
    "# Listas \n",
    "1. objectivos \n",
    "\n",
    "- entender la sintaxix en las listas en python\n",
    "\n",
    "- aprender a creal listas y accesarlas\n",
    "\n",
    "---\n",
    "\n",
    "2.Desarollo \n"
   ]
  },
  {
   "cell_type": "markdown",
   "id": "92f221d5",
   "metadata": {},
   "source": [
    "## Creando listas y accediendo a ellas \n",
    "\n",
    "Las listas son secuenciaS ordenadas.El orde de las listas es el mismo orden que\n",
    "tiene los datos al a hora de ser asigados.una lista se asi:"
   ]
  },
  {
   "cell_type": "code",
   "execution_count": 2,
   "id": "8a657db9",
   "metadata": {},
   "outputs": [
    {
     "data": {
      "text/plain": [
       "[1, 4, 6, 2, 4]"
      ]
     },
     "execution_count": 2,
     "metadata": {},
     "output_type": "execute_result"
    }
   ],
   "source": [
    "lista_1 = [1,4,6,2,4]\n",
    "lista_1"
   ]
  },
  {
   "cell_type": "code",
   "execution_count": 3,
   "id": "b1f15c17",
   "metadata": {},
   "outputs": [
    {
     "data": {
      "text/plain": [
       "list"
      ]
     },
     "execution_count": 3,
     "metadata": {},
     "output_type": "execute_result"
    }
   ],
   "source": [
    "type (lista_1)"
   ]
  },
  {
   "cell_type": "markdown",
   "id": "4af90228",
   "metadata": {},
   "source": [
    "Cada elemento de la lista tiene un indice que se utiliza para acceder a edicho elemetos.Dado que las listas son ordenes,los indices se van asignado secuencialmente desde el primer elemento hasta el ultimo el primer indice es siempre `0`,y por lo tanto el ultimo es siempre \n",
    "`n-1`, donde `n` es el numero  total de  elementos en la lista."
   ]
  },
  {
   "cell_type": "code",
   "execution_count": 4,
   "id": "1708770c",
   "metadata": {},
   "outputs": [
    {
     "name": "stdout",
     "output_type": "stream",
     "text": [
      "primer elemento de la lista:1\n",
      "El ultimo de la elemento de la lista :4\n"
     ]
    }
   ],
   "source": [
    "#imprimir el primer elemento de la lista \n",
    "print(f'primer elemento de la lista:{lista_1[0]}')\n",
    "print(f'El ultimo de la elemento de la lista :{lista_1[4]}')"
   ]
  },
  {
   "cell_type": "code",
   "execution_count": 5,
   "id": "17aa87a0",
   "metadata": {},
   "outputs": [
    {
     "ename": "IndexError",
     "evalue": "list index out of range",
     "output_type": "error",
     "traceback": [
      "\u001b[31m---------------------------------------------------------------------------\u001b[39m",
      "\u001b[31mIndexError\u001b[39m                                Traceback (most recent call last)",
      "\u001b[36mCell\u001b[39m\u001b[36m \u001b[39m\u001b[32mIn[5]\u001b[39m\u001b[32m, line 1\u001b[39m\n\u001b[32m----> \u001b[39m\u001b[32m1\u001b[39m \u001b[43mlista_1\u001b[49m\u001b[43m[\u001b[49m\u001b[32;43m5\u001b[39;49m\u001b[43m]\u001b[49m\n",
      "\u001b[31mIndexError\u001b[39m: list index out of range"
     ]
    }
   ],
   "source": [
    "lista_1[5]"
   ]
  },
  {
   "cell_type": "code",
   "execution_count": null,
   "id": "1051b3c0",
   "metadata": {},
   "outputs": [],
   "source": []
  }
 ],
 "metadata": {
  "kernelspec": {
   "display_name": "Python 3",
   "language": "python",
   "name": "python3"
  },
  "language_info": {
   "codemirror_mode": {
    "name": "ipython",
    "version": 3
   },
   "file_extension": ".py",
   "mimetype": "text/x-python",
   "name": "python",
   "nbconvert_exporter": "python",
   "pygments_lexer": "ipython3",
   "version": "3.13.3"
  }
 },
 "nbformat": 4,
 "nbformat_minor": 5
}
