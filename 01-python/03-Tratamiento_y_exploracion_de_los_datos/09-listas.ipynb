{
 "cells": [
  {
   "cell_type": "markdown",
   "id": "c5f1b07b",
   "metadata": {},
   "source": [
    "# Listas \n",
    "1. objectivos \n",
    "\n",
    "- entender la sintaxix en las listas en python\n",
    "\n",
    "- aprender a creal listas y accesarlas\n",
    "\n",
    "---\n",
    "\n",
    "2.Desarollo \n"
   ]
  },
  {
   "cell_type": "markdown",
   "id": "92f221d5",
   "metadata": {},
   "source": [
    "## Creando listas y accediendo a ellas \n",
    "\n",
    "Las listas son secuenciaS ordenadas.El orde de las listas es el mismo orden que\n",
    "tiene los datos al a hora de ser asigados.una lista se asi:"
   ]
  },
  {
   "cell_type": "code",
   "execution_count": 2,
   "id": "8a657db9",
   "metadata": {},
   "outputs": [
    {
     "data": {
      "text/plain": [
       "[1, 4, 6, 2, 4]"
      ]
     },
     "execution_count": 2,
     "metadata": {},
     "output_type": "execute_result"
    }
   ],
   "source": [
    "lista_1 = [1,4,6,2,4]\n",
    "lista_1"
   ]
  },
  {
   "cell_type": "code",
   "execution_count": 3,
   "id": "b1f15c17",
   "metadata": {},
   "outputs": [
    {
     "data": {
      "text/plain": [
       "list"
      ]
     },
     "execution_count": 3,
     "metadata": {},
     "output_type": "execute_result"
    }
   ],
   "source": [
    "type (lista_1)"
   ]
  },
  {
   "cell_type": "markdown",
   "id": "4af90228",
   "metadata": {},
   "source": [
    "Cada elemento de la lista tiene un indice que se utiliza para acceder a edicho elemetos.Dado que las listas son ordenes,los indices se van asignado secuencialmente desde el primer elemento hasta el ultimo el primer indice es siempre `0`,y por lo tanto el ultimo es siempre \n",
    "`n-1`, donde `n` es el numero  total de  elementos en la lista."
   ]
  },
  {
   "cell_type": "code",
   "execution_count": 4,
   "id": "1708770c",
   "metadata": {},
   "outputs": [
    {
     "name": "stdout",
     "output_type": "stream",
     "text": [
      "primer elemento de la lista:1\n",
      "El ultimo de la elemento de la lista :4\n"
     ]
    }
   ],
   "source": [
    "#imprimir el primer elemento de la lista \n",
    "print(f'primer elemento de la lista:{lista_1[0]}')\n",
    "print(f'El ultimo de la elemento de la lista :{lista_1[4]}')"
   ]
  },
  {
   "cell_type": "code",
   "execution_count": 5,
   "id": "17aa87a0",
   "metadata": {},
   "outputs": [
    {
     "ename": "IndexError",
     "evalue": "list index out of range",
     "output_type": "error",
     "traceback": [
      "\u001b[31m---------------------------------------------------------------------------\u001b[39m",
      "\u001b[31mIndexError\u001b[39m                                Traceback (most recent call last)",
      "\u001b[36mCell\u001b[39m\u001b[36m \u001b[39m\u001b[32mIn[5]\u001b[39m\u001b[32m, line 1\u001b[39m\n\u001b[32m----> \u001b[39m\u001b[32m1\u001b[39m \u001b[43mlista_1\u001b[49m\u001b[43m[\u001b[49m\u001b[32;43m5\u001b[39;49m\u001b[43m]\u001b[49m\n",
      "\u001b[31mIndexError\u001b[39m: list index out of range"
     ]
    }
   ],
   "source": [
    "lista_1[5]"
   ]
  },
  {
   "cell_type": "code",
   "execution_count": 4,
   "id": "1051b3c0",
   "metadata": {},
   "outputs": [
    {
     "name": "stdout",
     "output_type": "stream",
     "text": [
      "contenido de la lista :[10, 5, 7, 2, 1]\n",
      "<class 'list'>\n"
     ]
    }
   ],
   "source": [
    "numbers = [10,5,7,2,1]\n",
    "#IMPRIMIR EL CONTEDIDO DE LA LISTA \n",
    "\n",
    "print (f'contenido de la lista :{numbers}')\n",
    "print(type(numbers))"
   ]
  },
  {
   "cell_type": "code",
   "execution_count": 5,
   "id": "8d0a8b77",
   "metadata": {},
   "outputs": [
    {
     "data": {
      "text/plain": [
       "2"
      ]
     },
     "execution_count": 5,
     "metadata": {},
     "output_type": "execute_result"
    }
   ],
   "source": [
    "#permite accesar al valor que se encuentra en la posicion \n",
    "numbers[3]"
   ]
  },
  {
   "cell_type": "markdown",
   "id": "720aca94",
   "metadata": {},
   "source": [
    "vamos agregar un nuevo valor 11 al primer elemento de la lista \n",
    "lo hacemos de la siguiente manera:"
   ]
  },
  {
   "cell_type": "code",
   "execution_count": 6,
   "id": "d1ab9e42",
   "metadata": {},
   "outputs": [
    {
     "name": "stdout",
     "output_type": "stream",
     "text": [
      "[111, 5, 7, 2, 1]\n"
     ]
    }
   ],
   "source": [
    "numbers[0]= 111\n",
    "print(numbers)"
   ]
  },
  {
   "cell_type": "code",
   "execution_count": 7,
   "id": "0e28c532",
   "metadata": {},
   "outputs": [
    {
     "name": "stdout",
     "output_type": "stream",
     "text": [
      "[111, 1, 7, 2, 1]\n"
     ]
    }
   ],
   "source": [
    "#copiar el valor del quinto elemento al segundo \n",
    "numbers[1] = numbers[4]\n",
    "\n",
    "print (numbers)"
   ]
  },
  {
   "cell_type": "code",
   "execution_count": 10,
   "id": "40e049e1",
   "metadata": {},
   "outputs": [
    {
     "name": "stdout",
     "output_type": "stream",
     "text": [
      "2\n"
     ]
    }
   ],
   "source": [
    "print(numbers[-2])"
   ]
  },
  {
   "cell_type": "code",
   "execution_count": 9,
   "id": "8f08b40f",
   "metadata": {},
   "outputs": [
    {
     "name": "stdout",
     "output_type": "stream",
     "text": [
      "111\n"
     ]
    }
   ],
   "source": [
    "print(numbers[-5])"
   ]
  },
  {
   "cell_type": "markdown",
   "id": "5f18881c",
   "metadata": {},
   "source": [
    "## Eliminando Elementos de la lista \n",
    "Cualquier elemento de la lista puede ser eliminado en cualquier momento - esto se hace con una instrucción llamada del (eliminar). Nota: es una instrucción, no una función.\n",
    "Tienes que apuntar al elemento que quieres eliminar - desaparecerá de la lista y la longitud de la lista se reducirá en uno."
   ]
  },
  {
   "cell_type": "code",
   "execution_count": 11,
   "id": "004094c5",
   "metadata": {},
   "outputs": [
    {
     "name": "stdout",
     "output_type": "stream",
     "text": [
      "la lista actual es:[111, 1, 7, 2, 1]\n"
     ]
    }
   ],
   "source": [
    "print(f'la lista actual es:{numbers}')\n",
    "del numbers[2]"
   ]
  },
  {
   "cell_type": "code",
   "execution_count": 12,
   "id": "1ccce612",
   "metadata": {},
   "outputs": [
    {
     "name": "stdout",
     "output_type": "stream",
     "text": [
      "La lista actual es: [111, 1, 2, 1]\n",
      "El tamaño de la lista es 4\n"
     ]
    }
   ],
   "source": [
    "print(f'La lista actual es: {numbers}')\n",
    "print(f'El tamaño de la lista es {len(numbers)}')\n"
   ]
  },
  {
   "cell_type": "code",
   "execution_count": 13,
   "id": "99c4520d",
   "metadata": {},
   "outputs": [
    {
     "name": "stdout",
     "output_type": "stream",
     "text": [
      "La lista actual es: [111, 1, 2, 1]\n",
      "El tamaño de la lista es 4\n"
     ]
    }
   ],
   "source": [
    "numbers = [111, 1, 2, 1]\n",
    "print(f'La lista actual es: {numbers}')\n",
    "print(f'El tamaño de la lista es {len(numbers)}')\n"
   ]
  },
  {
   "cell_type": "code",
   "execution_count": 16,
   "id": "365feef8",
   "metadata": {},
   "outputs": [],
   "source": [
    "lista_prueba = [1, 2, 4, 6, 2, 11]\n",
    "\n",
    "# Remove -> Elimina o remueve la primera coincidencia de un valor que se le indica\n",
    "lista_prueba.remove(2)"
   ]
  },
  {
   "cell_type": "code",
   "execution_count": 17,
   "id": "52e92363",
   "metadata": {},
   "outputs": [
    {
     "name": "stdout",
     "output_type": "stream",
     "text": [
      "La lista actual es: [1, 4, 6, 2, 11]\n",
      "El tamaño de la lista es 5\n"
     ]
    }
   ],
   "source": [
    "print(f'La lista actual es: {lista_prueba}')\n",
    "print(f'El tamaño de la lista es {len(lista_prueba)}')"
   ]
  },
  {
   "cell_type": "code",
   "execution_count": 25,
   "id": "80172fac",
   "metadata": {},
   "outputs": [],
   "source": [
    "lista_prueba = [1,2,4,6,2,11,2]"
   ]
  },
  {
   "cell_type": "code",
   "execution_count": 23,
   "id": "c0473a13",
   "metadata": {},
   "outputs": [],
   "source": [
    "def eliminar(valor):\n",
    "       #print(f'Indice: {indice}, Elemento: {elemento} ')\n",
    "    for indice, elemento in enumerate(lista_prueba):\n",
    "     if elemento == valor:\n",
    "        del lista_prueba[indice]\n"
   ]
  },
  {
   "cell_type": "code",
   "execution_count": 26,
   "id": "d182b590",
   "metadata": {},
   "outputs": [
    {
     "name": "stdout",
     "output_type": "stream",
     "text": [
      "lista actual[1, 2, 4, 6, 2, 11, 2]\n",
      "lista despues de eliminar [1, 4, 6, 11]\n"
     ]
    }
   ],
   "source": [
    "print(f'lista actual{lista_prueba}')\n",
    "eliminar(2)\n",
    "print(f\"lista despues de eliminar {lista_prueba}\")"
   ]
  },
  {
   "cell_type": "markdown",
   "id": "0f109f07",
   "metadata": {},
   "source": [
    "### Los indices negativos son legales \n",
    "\n",
    "`un elemento con indice iguala -1 es e ultimo en la lista `"
   ]
  },
  {
   "cell_type": "code",
   "execution_count": 27,
   "id": "2b31caec",
   "metadata": {},
   "outputs": [
    {
     "name": "stdout",
     "output_type": "stream",
     "text": [
      "El último valor de la lista es: 1\n"
     ]
    }
   ],
   "source": [
    "numbers_2 =[111,7,2,1]\n",
    "print(f'El último valor de la lista es: {numbers_2[3]}')\n"
   ]
  },
  {
   "cell_type": "code",
   "execution_count": null,
   "id": "97cc979e",
   "metadata": {},
   "outputs": [],
   "source": [
    "hat_list = [1, 2, 3, 4, 5]  # Esta es una lista existente de números ocultos en el sombrero.\n",
    "\n",
    "# Paso 1: escribe una línea de código que solicite al usuario\n",
    "# reemplazar el número de en medio con un número entero ingresado por el usuario.\n",
    "\n",
    "# Paso 2: escribe aquí una línea de código que elimine el último elemento de la lista.\n",
    "\n",
    "# Paso 3: escribe aquí una línea de código que imprima la longitud de la lista existente.\n",
    "\n",
    "print(hat_list)\n"
   ]
  },
  {
   "cell_type": "markdown",
   "id": "c98960b1",
   "metadata": {},
   "source": [
    "\n",
    "\n",
    "## Agregando elementos a una lista: `append()` e `insert()`\n",
    "\n",
    "Un nuevo elemento puede ser añadido al final de la lista existente:\n",
    "\n",
    "`list.append(value)`\n",
    "\n",
    "El método `insert()` es un poco más inteligente – puede agregar un nuevo elemento en cualquier lugar de la lista,no solo al final.\n",
    "\n",
    "`lista.insert(location,values )`\n",
    "\n",
    "Toma dos argumentos \n",
    "\n",
    "- el primero muestra la ubicación requerida del elemento a insertar; nota: todos los elementos existentes que ocupan ubicaciones a la derecha del nuevo elemento (incluido el que está en la posición indicada) se desplazan a la derecha, para hacer espacio para el nuevo elemento;\n",
    "-  el segundo es el elemento a insertar.\n",
    "Observa el código en el editor. Ve como usamos los métodos append() e insert(). Presta atención a lo que sucede después de usar insert\n",
    "\n"
   ]
  },
  {
   "cell_type": "code",
   "execution_count": 31,
   "id": "566a3214",
   "metadata": {},
   "outputs": [
    {
     "name": "stdout",
     "output_type": "stream",
     "text": [
      "La lista original es: [123, 8, 4, 1]\n",
      "El tamaño de la lista es: 4\n",
      "La lista despues agregar al final es : [123, 8, 4, 1, 10]\n",
      "El tamaño de la lista es: 5\n"
     ]
    }
   ],
   "source": [
    "numbers_3 = [123, 8, 4, 1]\n",
    "print(f'La lista original es: {numbers_3}')\n",
    "print(f'El tamaño de la lista es: {len(numbers_3)}')\n",
    "\n",
    "# Agregar un valor al final de la lista con el método append\n",
    "\n",
    "numbers_3.append(10)\n",
    "print(f'La lista despues agregar al final es : {numbers_3}')\n",
    "print(f'El tamaño de la lista es: {len(numbers_3)}')\n",
    "\n"
   ]
  },
  {
   "cell_type": "code",
   "execution_count": 32,
   "id": "65c47672",
   "metadata": {},
   "outputs": [],
   "source": [
    "def agregaralfinal (valor):\n",
    "    numbers_3[-1]=valor"
   ]
  },
  {
   "cell_type": "code",
   "execution_count": 33,
   "id": "15d15c07",
   "metadata": {},
   "outputs": [
    {
     "name": "stdout",
     "output_type": "stream",
     "text": [
      "La lista despues agregar al final es : [123, 8, 4, 1, 11]\n",
      "El tamaño de la lista es: 5\n"
     ]
    }
   ],
   "source": [
    "agregaralfinal(11)\n",
    "print(f'La lista despues agregar al final es : {numbers_3}')\n",
    "print(f'El tamaño de la lista es: {len(numbers_3)}')"
   ]
  },
  {
   "cell_type": "code",
   "execution_count": 34,
   "id": "0baec940",
   "metadata": {},
   "outputs": [
    {
     "name": "stdout",
     "output_type": "stream",
     "text": [
      "La lista actual es: [222, 123, 8, 4, 1, 11]\n",
      "El tamaño de la lista es: 6\n"
     ]
    }
   ],
   "source": [
    "## metodo insert \n",
    "numbers_3.insert(0, 222)\n",
    "print(f'La lista actual es: {numbers_3}')\n",
    "print(f'El tamaño de la lista es: {len(numbers_3)}')\n"
   ]
  },
  {
   "cell_type": "code",
   "execution_count": 42,
   "id": "2d6ef01c",
   "metadata": {},
   "outputs": [],
   "source": [
    "def llenar_lista_append(valor):\n",
    "    my_list = []  # Crea una lista vacía\n",
    "\n",
    "    for i in range(valor):\n",
    "        my_list.append(i + 1)\n",
    "        \n",
    "        return my_list\n"
   ]
  },
  {
   "cell_type": "code",
   "execution_count": 40,
   "id": "5a2b0374",
   "metadata": {},
   "outputs": [],
   "source": [
    "def imprimir_lista(lista):\n",
    "    print(f'la lista es:{lista}')"
   ]
  },
  {
   "cell_type": "code",
   "execution_count": 43,
   "id": "880075ac",
   "metadata": {},
   "outputs": [
    {
     "name": "stdout",
     "output_type": "stream",
     "text": [
      "la lista es:[1]\n"
     ]
    }
   ],
   "source": [
    "lista=llenar_lista_append(10)\n",
    "imprimir_lista(lista)"
   ]
  },
  {
   "cell_type": "code",
   "execution_count": 44,
   "id": "ccd0b14e",
   "metadata": {},
   "outputs": [
    {
     "name": "stdout",
     "output_type": "stream",
     "text": [
      "[5, 4, 3, 2, 1]\n"
     ]
    }
   ],
   "source": [
    "my_list = []\n",
    "\n",
    "for i in range(5):\n",
    "    my_list.insert(0, i + 1)\n",
    "\n",
    "print(my_list)\n"
   ]
  },
  {
   "cell_type": "code",
   "execution_count": 45,
   "id": "3312c192",
   "metadata": {},
   "outputs": [
    {
     "name": "stdout",
     "output_type": "stream",
     "text": [
      "10\n",
      "1\n",
      "8\n",
      "3\n",
      "5\n"
     ]
    }
   ],
   "source": [
    "# Recorrer la lista con un ciclo\n",
    "mi_lista = [10, 1, 8, 3, 5]\n",
    "\n",
    "for i in mi_lista:\n",
    "    print(i)\n",
    "\n"
   ]
  },
  {
   "cell_type": "code",
   "execution_count": 46,
   "id": "dea390f9",
   "metadata": {},
   "outputs": [
    {
     "name": "stdout",
     "output_type": "stream",
     "text": [
      "La suma de los valores de la lista es 27\n"
     ]
    }
   ],
   "source": [
    "# Sumar los valores de la lista\n",
    "total = 0\n",
    "\n",
    "for i in mi_lista:\n",
    "    total += i\n",
    "\n",
    "print(f'La suma de los valores de la lista es {total}')\n"
   ]
  },
  {
   "cell_type": "markdown",
   "id": "6020a640",
   "metadata": {},
   "source": [
    "dd"
   ]
  },
  {
   "cell_type": "code",
   "execution_count": 1,
   "id": "2a390caa",
   "metadata": {},
   "outputs": [],
   "source": [
    "# Versión con while\n",
    "def guardar_calificaciones(numero):\n",
    "    lista_calificaciones = []\n",
    "    i = 1\n",
    "\n",
    "    while i <= numero:\n",
    "        calificacion = float(input(f'Solicita la calificación {i} !'))\n",
    "        lista_calificaciones.append(calificacion)\n",
    "        i += 1\n",
    "\n",
    "    return lista_calificaciones\n",
    "\n",
    "\n",
    "\n"
   ]
  },
  {
   "cell_type": "code",
   "execution_count": 2,
   "id": "af5783db",
   "metadata": {},
   "outputs": [],
   "source": [
    "# Versión con for\n",
    "def guardar_calificaciones_2(numero):\n",
    "    lista_calificaciones = []\n",
    "\n",
    "    for i in range(numero):\n",
    "        calificacion = float(input(f'Solicita la calificación {i + 1} !'))\n",
    "        lista_calificaciones.append(calificacion)\n",
    "\n",
    "    return lista_calificaciones\n"
   ]
  },
  {
   "cell_type": "code",
   "execution_count": null,
   "id": "6e403db1",
   "metadata": {},
   "outputs": [],
   "source": [
    "\n",
    "# Llamada a la función\n",
    "lista = guardar_calificaciones_2(3)\n",
    "print(lista)"
   ]
  },
  {
   "cell_type": "markdown",
   "id": "4f2f1171",
   "metadata": {},
   "source": [
    "## lista en accion \n",
    "\n",
    "imagina que necesitas reorganizar los elementos de una lista ,es decir, revertir el  orden de los elementos: el primero y el quinto,asi como el segundo y el cuarto ser INTERCAMBIADOS , El tercero permanecera intacto \n",
    "pregunta:¿Como se puede intercambiar los valores de dos variables?"
   ]
  },
  {
   "cell_type": "code",
   "execution_count": null,
   "id": "85486aeb",
   "metadata": {},
   "outputs": [],
   "source": [
    "variable_1 =1\n",
    "variable_2 =2\n",
    "variable_2 =variable_1\n",
    "variable_1=variable_2"
   ]
  },
  {
   "cell_type": "code",
   "execution_count": null,
   "id": "d158d8e0",
   "metadata": {},
   "outputs": [],
   "source": [
    "variable_1 =1\n",
    "variable_2 =2\n",
    "aux = variable_1\n",
    "variable_1 =variable_2\n",
    "variable_2 = aux"
   ]
  },
  {
   "cell_type": "code",
   "execution_count": 2,
   "id": "823293a3",
   "metadata": {},
   "outputs": [
    {
     "name": "stdout",
     "output_type": "stream",
     "text": [
      "El valor de la variable_1 es: 2\n",
      " El valor de la variable_2 es : 1\n"
     ]
    }
   ],
   "source": [
    "variable_1 =1\n",
    "variable_2 =2\n",
    "\n",
    "variable_1,variable_2 =variable_2,variable_1\n",
    "\n",
    "print(f'El valor de la variable_1 es: {variable_1}\\n El valor de la variable_2 es : {variable_2}')"
   ]
  },
  {
   "cell_type": "markdown",
   "id": "b56670d7",
   "metadata": {},
   "source": [
    "Teniendo una lista llamada  mi_lista con valores 10,1,8,3,5 intercambiar 10 por el 5 y viceversa"
   ]
  },
  {
   "cell_type": "code",
   "execution_count": 6,
   "id": "3e4ed924",
   "metadata": {},
   "outputs": [
    {
     "name": "stdout",
     "output_type": "stream",
     "text": [
      "valor 10 :  5  valor 5:10 \n"
     ]
    }
   ],
   "source": [
    "mi_lista =[10,1,8,3,5]\n",
    "\n",
    "n = 10\n",
    "nu = 5\n",
    "\n",
    "n,nu = nu,n\n",
    "\n",
    "print(f'valor 10 :  {n}  valor 5:{nu} ')"
   ]
  },
  {
   "cell_type": "code",
   "execution_count": 8,
   "id": "660a0ff8",
   "metadata": {},
   "outputs": [
    {
     "name": "stdout",
     "output_type": "stream",
     "text": [
      "[5, 3, 8, 1, 10]\n"
     ]
    }
   ],
   "source": [
    "mi_lista =[10,1,8,3,5]\n",
    "\n",
    "mi_lista[0],mi_lista[4]= mi_lista[4],mi_lista [0]\n",
    "mi_lista[1],mi_lista[-2]= mi_lista[-2],mi_lista [1]\n",
    "print(mi_lista)"
   ]
  }
 ],
 "metadata": {
  "kernelspec": {
   "display_name": "Python 3",
   "language": "python",
   "name": "python3"
  },
  "language_info": {
   "codemirror_mode": {
    "name": "ipython",
    "version": 3
   },
   "file_extension": ".py",
   "mimetype": "text/x-python",
   "name": "python",
   "nbconvert_exporter": "python",
   "pygments_lexer": "ipython3",
   "version": "3.13.3"
  }
 },
 "nbformat": 4,
 "nbformat_minor": 5
}
