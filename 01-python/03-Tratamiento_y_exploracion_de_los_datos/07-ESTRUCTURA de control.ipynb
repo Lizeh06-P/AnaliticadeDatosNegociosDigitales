{
 "cells": [
  {
   "cell_type": "markdown",
   "id": "82d71cbf",
   "metadata": {},
   "source": [
    "## Estructura de control\n",
    "\n",
    "\n",
    "### Objectivo:\n",
    "\n",
    " -Conocer las estructuras de contol como funcionan y para que sirve \n",
    "\n",
    " ---\n",
    " ### Desarollo"
   ]
  },
  {
   "cell_type": "markdown",
   "id": "a8fbae2c",
   "metadata": {},
   "source": [
    "Queremos darle a nuestro programa la capacidad de tomar decisiones .esto puede hacer utilizado una 'sentencia if ' utiliza una comparacion para obtener un boolean.Si el booleano es 'True', el bloque de la sentencia se ojecuta . si \n",
    "el Booleano es 'false 'nos saltamos a lo que sigue despues del bloqe "
   ]
  },
  {
   "cell_type": "code",
   "execution_count": 1,
   "id": "70510e62",
   "metadata": {},
   "outputs": [],
   "source": [
    "var_1 =4\n",
    "var_2 = 5"
   ]
  },
  {
   "cell_type": "code",
   "execution_count": 2,
   "id": "595a52f0",
   "metadata": {},
   "outputs": [
    {
     "name": "stdout",
     "output_type": "stream",
     "text": [
      "EL BLOQUE SE HA EJECUTADO\n"
     ]
    }
   ],
   "source": [
    "if var_1< var_2:\n",
    "    print(\"EL BLOQUE SE HA EJECUTADO\")"
   ]
  },
  {
   "cell_type": "code",
   "execution_count": 3,
   "id": "84f724a5",
   "metadata": {},
   "outputs": [],
   "source": [
    "var_1 = int(input(\"intoduce el valor\"))\n",
    "var_2 =int(input(\"intoduce el valor\"))\n",
    "\n",
    "if var_1 < var_2:\n",
    "\n",
    "    print (f\"el numero {var_1} es menor que el numero {var_2}\")"
   ]
  },
  {
   "cell_type": "code",
   "execution_count": 4,
   "id": "8e781660",
   "metadata": {},
   "outputs": [],
   "source": [
    "#funcion que solicita un valor \n",
    "\n",
    "def soliciar ():\n",
    "    return (input(\"intoduce el valor\"))\n"
   ]
  },
  {
   "cell_type": "code",
   "execution_count": 5,
   "id": "56bbc6ee",
   "metadata": {},
   "outputs": [],
   "source": [
    "#funcion que hace la comparacion \n",
    "def comparacion (valor_uno, valor_dos):\n",
    "    if valor_uno <valor_dos:\n",
    "        print (f\"el numero {var_1}es menor que el numero {var_2}\")"
   ]
  },
  {
   "cell_type": "code",
   "execution_count": 6,
   "id": "951ea287",
   "metadata": {},
   "outputs": [],
   "source": [
    "#ejecucion de las unciones "
   ]
  },
  {
   "cell_type": "code",
   "execution_count": 7,
   "id": "7e1b0dd3",
   "metadata": {},
   "outputs": [
    {
     "name": "stdout",
     "output_type": "stream",
     "text": [
      "el numero 5es menor que el numero 6\n"
     ]
    }
   ],
   "source": [
    "var_1 =soliciar()\n",
    "var_2 =soliciar()\n",
    "\n",
    "comparacion(var_1,var_2)"
   ]
  },
  {
   "cell_type": "markdown",
   "id": "480e209e",
   "metadata": {},
   "source": [
    "1. **Desarollar un programa que determine si un numero es positivo**\n",
    "2. **Desarollar un programa que determine si puede votar,la edad minima es 18**\n",
    "3. **Verificar si el numero es par**\n",
    "4. **Realizar a similacion de un login, en el cual se debe verificsar si la contrase;a es correcto**\n",
    "5. **Realizae un programa si un alumno esta aprobado la calficacion es minima de 7**\n",
    "\n",
    "todos los datos deben ser solicitados "
   ]
  },
  {
   "cell_type": "code",
   "execution_count": 11,
   "id": "0a103835",
   "metadata": {},
   "outputs": [
    {
     "name": "stdout",
     "output_type": "stream",
     "text": [
      "El número 5 es positivo\n",
      "fin de programa\n"
     ]
    }
   ],
   "source": [
    "#1. **Desarollar un programa que determine si un numero es positivo**\n",
    "# Programa para determinar si un número es mayor que otro\n",
    "\n",
    "numero = int(input(\"Introduce el primer valor: \"))\n",
    "\n",
    "\n",
    "if (numero > 0):\n",
    "    print(f\"El número {numero} es positivo\")\n",
    "    \n",
    "print(\"fin de programa\")\n"
   ]
  },
  {
   "cell_type": "code",
   "execution_count": 19,
   "id": "1d42f1c4",
   "metadata": {},
   "outputs": [
    {
     "name": "stdout",
     "output_type": "stream",
     "text": [
      "si puede votar  \n"
     ]
    }
   ],
   "source": [
    "#2. **Desarollar un programa que determine si puede votar,la edad minima es 18**\n",
    "def solicitar():\n",
    " return int(input(\"Ingrese su edad: \"))\n",
    "\n",
    "edad = solicitar()\n",
    "if( edad) >=18:\n",
    "    \n",
    "     print (f\"si puede votar  \")"
   ]
  },
  {
   "cell_type": "code",
   "execution_count": 24,
   "id": "39779841",
   "metadata": {},
   "outputs": [
    {
     "name": "stdout",
     "output_type": "stream",
     "text": [
      "El número 5 es impar\n"
     ]
    }
   ],
   "source": [
    "#3. **Verificar si el numero es par**\n",
    "# Versión corregida\n",
    "numero_1 = int(input(\"Ingrese un número: \"))  # Usa input() y convierte a entero\n",
    "\n",
    "if numero_1 % 2 == 0:\n",
    "    print(f'El número {numero_1} es par')  # F-string correcto\n",
    "else:\n",
    "    print(f'El número {numero_1} es impar')\n"
   ]
  },
  {
   "cell_type": "code",
   "execution_count": null,
   "id": "7f06e962",
   "metadata": {},
   "outputs": [
    {
     "name": "stdout",
     "output_type": "stream",
     "text": [
      "tienes acces\n"
     ]
    }
   ],
   "source": [
    "#4. **Realizar a similacion de un login, en el cual se debe verificsar si la contrase;a es correcto**\n",
    "\n",
    "contraseña = 12345\n",
    "\n",
    "password = int (input('introduce la contraseña'))\n",
    "\n",
    "if password == contraseña:\n",
    "    \n",
    " print (f\"tienes acces\")\n",
    "\n",
    "\n"
   ]
  },
  {
   "cell_type": "code",
   "execution_count": 29,
   "id": "99d8936a",
   "metadata": {},
   "outputs": [
    {
     "ename": "TypeError",
     "evalue": "'<=' not supported between instances of 'str' and 'int'",
     "output_type": "error",
     "traceback": [
      "\u001b[31m---------------------------------------------------------------------------\u001b[39m",
      "\u001b[31mTypeError\u001b[39m                                 Traceback (most recent call last)",
      "\u001b[36mCell\u001b[39m\u001b[36m \u001b[39m\u001b[32mIn[29]\u001b[39m\u001b[32m, line 4\u001b[39m\n\u001b[32m      1\u001b[39m \u001b[38;5;66;03m#5. **Realizae un programa si un alumno esta aprobado la calficacion es minima de 7**\u001b[39;00m\n\u001b[32m      2\u001b[39m calif = soliciar ()\n\u001b[32m----> \u001b[39m\u001b[32m4\u001b[39m \u001b[38;5;28;01mif\u001b[39;00m (\u001b[43mcalif\u001b[49m\u001b[43m<\u001b[49m\u001b[43m=\u001b[49m\u001b[32;43m7\u001b[39;49m): \n\u001b[32m      6\u001b[39m     \u001b[38;5;28mprint\u001b[39m(\u001b[33m'\u001b[39m\u001b[33mestas aprobado\u001b[39m\u001b[33m'\u001b[39m)\n",
      "\u001b[31mTypeError\u001b[39m: '<=' not supported between instances of 'str' and 'int'"
     ]
    }
   ],
   "source": [
    "#5. **Realizae un programa si un alumno esta aprobado la calficacion es minima de 7**\n",
    "calif = soliciar ()\n",
    "\n",
    "if (calif<=7): \n",
    "    \n",
    "    print('estas aprobado')"
   ]
  },
  {
   "cell_type": "code",
   "execution_count": 23,
   "id": "0f24f505",
   "metadata": {},
   "outputs": [
    {
     "data": {
      "text/plain": [
       "True"
      ]
     },
     "execution_count": 23,
     "metadata": {},
     "output_type": "execute_result"
    }
   ],
   "source": [
    "resultado = 4>5 or 5==5\n",
    "resultado "
   ]
  },
  {
   "cell_type": "markdown",
   "id": "c0efd2b2",
   "metadata": {},
   "source": [
    "\n",
    "## Operadores logicos \n",
    "\n",
    "---\n",
    "### Operador or\n",
    "\n",
    "| A   | B   | A or B |\n",
    "|-----|-----|--------|\n",
    "| F   | F   | F      |\n",
    "| T   | F   | T      |\n",
    "| F   | T   | T      |\n",
    "| T   | T   | T      |\n",
    "\n",
    "### Operador and\n",
    "\n",
    "| A   | B   | A and B |\n",
    "|-----|-----|---------|\n",
    "| F   | F   | F       |\n",
    "| T   | F   | F       |\n",
    "| F   | T   | F       |\n",
    "| T   | T   | T       |\n",
    "\n",
    "### Operador not\n",
    "\n",
    "| A   | not A |\n",
    "|-----|--------|\n",
    "| F   | T      |\n",
    "| T   | F      |\n",
    "\n",
    "### Operador nor (equivale a not (A or B))\n",
    "\n",
    "| A   | B   | A or B | not (A or B) = NOR |\n",
    "|-----|-----|--------|--------------------|\n",
    "| F   | F   | F      | T                  |\n",
    "| T   | F   | T      | F                  |\n",
    "| F   | T   | T      | F                  |\n",
    "| T   | T   | T      | F                  |"
   ]
  },
  {
   "cell_type": "code",
   "execution_count": 27,
   "id": "8fde33aa",
   "metadata": {},
   "outputs": [
    {
     "data": {
      "text/plain": [
       "False"
      ]
     },
     "execution_count": 27,
     "metadata": {},
     "output_type": "execute_result"
    }
   ],
   "source": [
    "resultado = 4>5 and 5==5\n",
    "resultado"
   ]
  },
  {
   "cell_type": "code",
   "execution_count": 28,
   "id": "4d721ba3",
   "metadata": {},
   "outputs": [
    {
     "data": {
      "text/plain": [
       "True"
      ]
     },
     "execution_count": 28,
     "metadata": {},
     "output_type": "execute_result"
    }
   ],
   "source": [
    "resultado =not (4>4 and 5==5)\n",
    "resultado"
   ]
  },
  {
   "cell_type": "code",
   "execution_count": 33,
   "id": "c0f461b3",
   "metadata": {},
   "outputs": [
    {
     "data": {
      "text/plain": [
       "True"
      ]
     },
     "execution_count": 33,
     "metadata": {},
     "output_type": "execute_result"
    }
   ],
   "source": [
    "resultado = not 4>5 or 5==5 \n",
    "resultado"
   ]
  },
  {
   "cell_type": "code",
   "execution_count": 32,
   "id": "e1e064bd",
   "metadata": {},
   "outputs": [
    {
     "data": {
      "text/plain": [
       "False"
      ]
     },
     "execution_count": 32,
     "metadata": {},
     "output_type": "execute_result"
    }
   ],
   "source": [
    "resultado = not (4>5 or 5==5 )\n",
    "resultado"
   ]
  },
  {
   "cell_type": "code",
   "execution_count": 31,
   "id": "afcbe9d3",
   "metadata": {},
   "outputs": [
    {
     "data": {
      "text/plain": [
       "False"
      ]
     },
     "execution_count": 31,
     "metadata": {},
     "output_type": "execute_result"
    }
   ],
   "source": [
    "resultado = not 4<5 or 5!=5 \n",
    "resultado"
   ]
  },
  {
   "cell_type": "code",
   "execution_count": 34,
   "id": "4ab75084",
   "metadata": {},
   "outputs": [],
   "source": [
    "x=5\n",
    "y=10\n",
    "resultado = x>5 and y <=x"
   ]
  },
  {
   "cell_type": "markdown",
   "id": "a5ecb6b2",
   "metadata": {},
   "source": [
    "1. verificar  si un numero esta en el rango de 10 y 20\n",
    "2. verificar si un usuario tiene acceso al charlis si tiene minimo 18 años o tiene permiso especial \n",
    "3. verificar si un numero no es igual a cero\n",
    "4. verificar si un valor esta fuera del rango de 0 y 30 \n"
   ]
  },
  {
   "cell_type": "code",
   "execution_count": null,
   "id": "0c2baa53",
   "metadata": {},
   "outputs": [],
   "source": [
    "#1. verificar  si un numero esta en el rango de 10 y 20\n",
    "numero = int(input(\"Introduce el primer valor: \"))\n",
    "\n",
    "\n",
    "if (numero > 1):\n",
    "\n",
    "    print(f\"El número {numero} esta en el rango\")\n",
    "    \n",
    "print(\"fin de programa\")\n",
    "\n"
   ]
  },
  {
   "cell_type": "code",
   "execution_count": null,
   "id": "3bfa7958",
   "metadata": {},
   "outputs": [],
   "source": [
    "#2. verificar si un usuario tiene acceso al charlis si tiene minimo 18 años o tiene permiso especial\n",
    "\n",
    "def solicitar():\n",
    " return int(input(\"Ingrese su edad: \"))\n",
    "\n",
    "edad = solicitar()\n",
    "if( edad) >=18:\n",
    "    \n",
    "     print (f\"puedess pasar  \")"
   ]
  },
  {
   "cell_type": "code",
   "execution_count": null,
   "id": "f4892f85",
   "metadata": {},
   "outputs": [],
   "source": []
  },
  {
   "cell_type": "code",
   "execution_count": null,
   "id": "4f3228a8",
   "metadata": {},
   "outputs": [],
   "source": []
  },
  {
   "cell_type": "markdown",
   "id": "ffd767a6",
   "metadata": {},
   "source": [
    "hay veces que queremos tener una accion`default`,que queremos que suceda en caso que la comparacion sea `false `.Para esto podemos usar una sentencia `else `.Piensalo como preguntarse a si mismo  \"si meto mi mano  y resulta que encuentro un billete de 50 pesos me compro unos nachos ;y sino hay nada vere una pelicula con mi novio llorando de tristeza por que no esta el otro\""
   ]
  },
  {
   "cell_type": "code",
   "execution_count": null,
   "id": "7a7fe112",
   "metadata": {},
   "outputs": [
    {
     "name": "stdout",
     "output_type": "stream",
     "text": [
      "la condicion no se cumple, y por lo tantp yo me imprimo \n"
     ]
    }
   ],
   "source": [
    "var_1 =4 \n",
    "var_2 =5 \n",
    "\n",
    "if var_1 > var_2:\n",
    "    print('la condicion se cumple')\n",
    "\n",
    "else: \n",
    "    print('la condicion no se cumple, y por lo tanto yo me imprimo ')\n"
   ]
  },
  {
   "cell_type": "code",
   "execution_count": 48,
   "id": "f3f87d81",
   "metadata": {},
   "outputs": [
    {
     "name": "stdout",
     "output_type": "stream",
     "text": [
      "el numero 6 es mayor que el numero 3\n"
     ]
    }
   ],
   "source": [
    "#encontrar  el numero mas grande de dos numeros \n",
    "number_1 =int(input('introduce el numero 1'))\n",
    "number_2 =int(input('introduce el numero 2'))\n",
    "#elegir el numero mas grande \n",
    "if number_1 > number_2 :\n",
    "    print(f'el numero {number_1} es mayor que el numero {number_2}')\n",
    "else:\n",
    "    print (f'el numero {number_2}  mayor al numero {number_1}')"
   ]
  },
  {
   "cell_type": "code",
   "execution_count": 47,
   "id": "57fdf27e",
   "metadata": {},
   "outputs": [
    {
     "name": "stdout",
     "output_type": "stream",
     "text": [
      "el numero mayor es: 8\n"
     ]
    }
   ],
   "source": [
    "number_1 =int(input('introduce el numero 1'))\n",
    "number_2 =int(input('introduce el numero 2'))\n",
    "\n",
    "if number_1 > number_2: \n",
    "    numero_mayor =numero_1\n",
    "else :\n",
    "    numero_mayor = number_2\n",
    "\n",
    "    print(f'el numero mayor es: {numero_mayor}')"
   ]
  },
  {
   "cell_type": "markdown",
   "id": "a5be8f4b",
   "metadata": {},
   "source": [
    "si queremos que tenga mas de dos opciones podemos agregar opciones utilizando la sentencia 'elif'"
   ]
  },
  {
   "cell_type": "code",
   "execution_count": 52,
   "id": "4fd6f954",
   "metadata": {},
   "outputs": [
    {
     "name": "stdout",
     "output_type": "stream",
     "text": [
      "El 14 es mayor que 12\n"
     ]
    }
   ],
   "source": [
    "var_1 = 12 \n",
    "var_2 = 14\n",
    "\n",
    "if var_1 > var_2:\n",
    "    print(f'El{var_1} es mayor a {var_2}')\n",
    "elif var_2 > var_1:\n",
    "    print(f'El {var_2} es mayor que {var_1}')\n",
    "else:\n",
    "    print(f'El {var_1} es igual al {var_2}')"
   ]
  },
  {
   "cell_type": "markdown",
   "id": "388bccc4",
   "metadata": {},
   "source": [
    "#### 1. Comparaciones numéricas\n",
    "\n",
    "Vamos a imaginar que estamos analizando un conjunto de datos que contiene las ventas anuales en pesos de unos vendedores que trabajan en nuestra empresa. Obtenemos el total de ventas anuales en pesos y lo tenemos asignado a la variable `ventas_anuales_totales`. Escribe una estructura de control que nos diga de cuánto va a ser el bono de nuestro empleado.\n",
    "\n",
    "Si las ventas son mayores a `$`1,000,000 el bono será de 20% del sueldo; si son entre `$`700,000 y `$`1,000,000 el bono será de 15% del sueldo; entre `$`400,000 y `$`700,000 el bono será de 10% del sueldo; entre `$`100,00 y 400,000 el bono será de 5% del sueldo; y debajo de `$`100,000 el bono será del 1% del sueldo.\n",
    "\n",
    "Escribe tu estructura de control y, por ahora (más adelante tendremos más herramientas para hacer esto más interesante) imprime una string que diga de cuánto va a ser el bono.\n",
    "\n",
    "> Reto opcional: Agrega una variable `sueldo` que sea el sueldo de tu empleado y agrégale el porcentaje de bono a esa variable dependiendo de la condición que se cumpla. Después hasta el final imprime una string interpolada que diga algo como \"Felicidades, tu sueldo es x; tu bono es de x; y el total de sueldo con el bono incluido es de x\". ¡Para que esto funcione también debes de agregar una variable donde guardes la cantidad del bono!"
   ]
  },
  {
   "cell_type": "code",
   "execution_count": null,
   "id": "8e708420",
   "metadata": {},
   "outputs": [
    {
     "name": "stdout",
     "output_type": "stream",
     "text": [
      "Felicidades, tu sueldo es $50000; tu bono es de $7500.0; y el total de sueldo con el bono incluido es de $57500.0.\n"
     ]
    }
   ],
   "source": [
    "\n",
    "ventas_anuales_totales = 850000 \n",
    "sueldo = 50000 \n",
    "\n",
    "if ventas_anuales_totales > 1000000:\n",
    "    porcentaje_bono = 0.20\n",
    "elif ventas_anuales_totales >= 700000:\n",
    "    porcentaje_bono = 0.15\n",
    "elif ventas_anuales_totales >= 400000:\n",
    "    porcentaje_bono = 0.10\n",
    "elif ventas_anuales_totales >= 100000:\n",
    "    porcentaje_bono = 0.05\n",
    "else:\n",
    "    porcentaje_bono = 0.01\n",
    "\n",
    "# Calcular el bono\n",
    "bono = sueldo * porcentaje_bono\n",
    "sueldo_total = sueldo + bono\n",
    "\n",
    "# Imprimir resultado\n",
    "print(f\"Felicidades, tu sueldo es ${sueldo}; tu bono es de ${bono}; y el total de sueldo con el bono incluido es de ${sueldo_total}.\")"
   ]
  },
  {
   "cell_type": "code",
   "execution_count": null,
   "id": "5187ceee",
   "metadata": {},
   "outputs": [],
   "source": [
    "# solucion de la clase \n",
    "\n",
    "ventas =int (input('introduce la ventas '))\n",
    "\n",
    "if ventas_anuales_totales > 1000000:\n",
    "    bono = ventas_anuales_totales  *0.20\n",
    "elif ventas_anuales_totales > 700000 and ventas_anuales_totales <=1000000:\n",
    "    bono = ventas_anuales_totales *0.15\n",
    "elif ventas_anuales_totales > 40000 and  ventas_anuales_totales <=700000:\n",
    "    bono = ventas_anuales_totales  * 0.10\n",
    "elif ventas_anuales_totales >10000 and  ventas_anuales_totales <=40000:\n",
    "    bono = ventas_anuales_totales * 0.05\n",
    "else:\n",
    "    bono = ventas_anuales_totales * 0.01\n",
    "\n",
    "  print(f'el bono es {bono}')  "
   ]
  }
 ],
 "metadata": {
  "kernelspec": {
   "display_name": "Python 3",
   "language": "python",
   "name": "python3"
  },
  "language_info": {
   "codemirror_mode": {
    "name": "ipython",
    "version": 3
   },
   "file_extension": ".py",
   "mimetype": "text/x-python",
   "name": "python",
   "nbconvert_exporter": "python",
   "pygments_lexer": "ipython3",
   "version": "3.13.3"
  }
 },
 "nbformat": 4,
 "nbformat_minor": 5
}
