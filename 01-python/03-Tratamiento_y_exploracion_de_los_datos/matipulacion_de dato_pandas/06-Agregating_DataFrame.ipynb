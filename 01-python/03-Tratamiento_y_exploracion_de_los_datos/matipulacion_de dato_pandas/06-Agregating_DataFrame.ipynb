{
 "cells": [
  {
   "cell_type": "markdown",
   "id": "4d1ee460",
   "metadata": {},
   "source": [
    "## Agregating DataFrame \n",
    " \n",
    " en este notebook,se calculara estadisticas de resumen del dataframe y dominaras las estadisticas agrupadas y tablas (pibot table)"
   ]
  },
  {
   "cell_type": "markdown",
   "id": "062a6932",
   "metadata": {},
   "source": [
    "## estadistica  de resumen \n",
    "\n",
    "**Media y Mediana**\n",
    "\n",
    "\n",
    "las estaqdisticas resumudas son exactamente lo que parecen resumen muchos numeros en un solo sola estadistica por ejemplo la media la mediana el minimo y la desviacion tipica(Deviacion estandar ) son estadistica de resumen  calcular estadistica de resumen te permite hacerte  una mejor idea de tus datos aunque sean muchos ."
   ]
  },
  {
   "cell_type": "markdown",
   "id": "4a23ba59",
   "metadata": {},
   "source": [
    "**instrucuines**\n",
    "\n",
    " - estplorar el nuevo dataframe imprimiendo las primeras filas del data frame walmart_sales\n",
    "\n",
    " - imprimir informacion sobre las columnas \n",
    "\n",
    " - imprimir la media de la columna weekly_sales\n",
    "\n",
    " - imprimir la media de la columna weekly_sales "
   ]
  },
  {
   "cell_type": "code",
   "execution_count": 145,
   "id": "98f9332c",
   "metadata": {},
   "outputs": [],
   "source": [
    "#import la libreria de pandas\n",
    "import pandas as pd \n"
   ]
  },
  {
   "cell_type": "code",
   "execution_count": 146,
   "id": "c9c03523",
   "metadata": {},
   "outputs": [
    {
     "data": {
      "text/html": [
       "<div>\n",
       "<style scoped>\n",
       "    .dataframe tbody tr th:only-of-type {\n",
       "        vertical-align: middle;\n",
       "    }\n",
       "\n",
       "    .dataframe tbody tr th {\n",
       "        vertical-align: top;\n",
       "    }\n",
       "\n",
       "    .dataframe thead th {\n",
       "        text-align: right;\n",
       "    }\n",
       "</style>\n",
       "<table border=\"1\" class=\"dataframe\">\n",
       "  <thead>\n",
       "    <tr style=\"text-align: right;\">\n",
       "      <th></th>\n",
       "      <th>Store</th>\n",
       "      <th>Date</th>\n",
       "      <th>Weekly_Sales</th>\n",
       "      <th>Holiday_Flag</th>\n",
       "      <th>Temperature</th>\n",
       "      <th>Fuel_Price</th>\n",
       "      <th>CPI</th>\n",
       "      <th>Unemployment</th>\n",
       "    </tr>\n",
       "  </thead>\n",
       "  <tbody>\n",
       "    <tr>\n",
       "      <th>0</th>\n",
       "      <td>1</td>\n",
       "      <td>05-02-2010</td>\n",
       "      <td>1643690.90</td>\n",
       "      <td>0</td>\n",
       "      <td>42.31</td>\n",
       "      <td>2.572</td>\n",
       "      <td>211.096358</td>\n",
       "      <td>8.106</td>\n",
       "    </tr>\n",
       "    <tr>\n",
       "      <th>1</th>\n",
       "      <td>1</td>\n",
       "      <td>12-02-2010</td>\n",
       "      <td>1641957.44</td>\n",
       "      <td>1</td>\n",
       "      <td>38.51</td>\n",
       "      <td>2.548</td>\n",
       "      <td>211.242170</td>\n",
       "      <td>8.106</td>\n",
       "    </tr>\n",
       "    <tr>\n",
       "      <th>2</th>\n",
       "      <td>1</td>\n",
       "      <td>19-02-2010</td>\n",
       "      <td>1611968.17</td>\n",
       "      <td>0</td>\n",
       "      <td>39.93</td>\n",
       "      <td>2.514</td>\n",
       "      <td>211.289143</td>\n",
       "      <td>8.106</td>\n",
       "    </tr>\n",
       "    <tr>\n",
       "      <th>3</th>\n",
       "      <td>1</td>\n",
       "      <td>26-02-2010</td>\n",
       "      <td>1409727.59</td>\n",
       "      <td>0</td>\n",
       "      <td>46.63</td>\n",
       "      <td>2.561</td>\n",
       "      <td>211.319643</td>\n",
       "      <td>8.106</td>\n",
       "    </tr>\n",
       "    <tr>\n",
       "      <th>4</th>\n",
       "      <td>1</td>\n",
       "      <td>05-03-2010</td>\n",
       "      <td>1554806.68</td>\n",
       "      <td>0</td>\n",
       "      <td>46.50</td>\n",
       "      <td>2.625</td>\n",
       "      <td>211.350143</td>\n",
       "      <td>8.106</td>\n",
       "    </tr>\n",
       "  </tbody>\n",
       "</table>\n",
       "</div>"
      ],
      "text/plain": [
       "   Store        Date  Weekly_Sales  Holiday_Flag  Temperature  Fuel_Price  \\\n",
       "0      1  05-02-2010    1643690.90             0        42.31       2.572   \n",
       "1      1  12-02-2010    1641957.44             1        38.51       2.548   \n",
       "2      1  19-02-2010    1611968.17             0        39.93       2.514   \n",
       "3      1  26-02-2010    1409727.59             0        46.63       2.561   \n",
       "4      1  05-03-2010    1554806.68             0        46.50       2.625   \n",
       "\n",
       "          CPI  Unemployment  \n",
       "0  211.096358         8.106  \n",
       "1  211.242170         8.106  \n",
       "2  211.289143         8.106  \n",
       "3  211.319643         8.106  \n",
       "4  211.350143         8.106  "
      ]
     },
     "execution_count": 146,
     "metadata": {},
     "output_type": "execute_result"
    }
   ],
   "source": [
    "sales = pd.read_csv('./data st/walmart_sales.csv')\n",
    "sales.head()"
   ]
  },
  {
   "cell_type": "code",
   "execution_count": 119,
   "id": "8dd0de8e",
   "metadata": {},
   "outputs": [
    {
     "data": {
      "text/html": [
       "<div>\n",
       "<style scoped>\n",
       "    .dataframe tbody tr th:only-of-type {\n",
       "        vertical-align: middle;\n",
       "    }\n",
       "\n",
       "    .dataframe tbody tr th {\n",
       "        vertical-align: top;\n",
       "    }\n",
       "\n",
       "    .dataframe thead th {\n",
       "        text-align: right;\n",
       "    }\n",
       "</style>\n",
       "<table border=\"1\" class=\"dataframe\">\n",
       "  <thead>\n",
       "    <tr style=\"text-align: right;\">\n",
       "      <th></th>\n",
       "      <th>Store</th>\n",
       "      <th>Weekly_Sales</th>\n",
       "      <th>Holiday_Flag</th>\n",
       "      <th>Temperature</th>\n",
       "      <th>Fuel_Price</th>\n",
       "      <th>CPI</th>\n",
       "      <th>Unemployment</th>\n",
       "    </tr>\n",
       "  </thead>\n",
       "  <tbody>\n",
       "    <tr>\n",
       "      <th>count</th>\n",
       "      <td>6435.000000</td>\n",
       "      <td>6.435000e+03</td>\n",
       "      <td>6435.000000</td>\n",
       "      <td>6435.000000</td>\n",
       "      <td>6435.000000</td>\n",
       "      <td>6435.000000</td>\n",
       "      <td>6435.000000</td>\n",
       "    </tr>\n",
       "    <tr>\n",
       "      <th>mean</th>\n",
       "      <td>23.000000</td>\n",
       "      <td>1.046965e+06</td>\n",
       "      <td>0.069930</td>\n",
       "      <td>60.663782</td>\n",
       "      <td>3.358607</td>\n",
       "      <td>171.578394</td>\n",
       "      <td>7.999151</td>\n",
       "    </tr>\n",
       "    <tr>\n",
       "      <th>std</th>\n",
       "      <td>12.988182</td>\n",
       "      <td>5.643666e+05</td>\n",
       "      <td>0.255049</td>\n",
       "      <td>18.444933</td>\n",
       "      <td>0.459020</td>\n",
       "      <td>39.356712</td>\n",
       "      <td>1.875885</td>\n",
       "    </tr>\n",
       "    <tr>\n",
       "      <th>min</th>\n",
       "      <td>1.000000</td>\n",
       "      <td>2.099862e+05</td>\n",
       "      <td>0.000000</td>\n",
       "      <td>-2.060000</td>\n",
       "      <td>2.472000</td>\n",
       "      <td>126.064000</td>\n",
       "      <td>3.879000</td>\n",
       "    </tr>\n",
       "    <tr>\n",
       "      <th>25%</th>\n",
       "      <td>12.000000</td>\n",
       "      <td>5.533501e+05</td>\n",
       "      <td>0.000000</td>\n",
       "      <td>47.460000</td>\n",
       "      <td>2.933000</td>\n",
       "      <td>131.735000</td>\n",
       "      <td>6.891000</td>\n",
       "    </tr>\n",
       "    <tr>\n",
       "      <th>50%</th>\n",
       "      <td>23.000000</td>\n",
       "      <td>9.607460e+05</td>\n",
       "      <td>0.000000</td>\n",
       "      <td>62.670000</td>\n",
       "      <td>3.445000</td>\n",
       "      <td>182.616521</td>\n",
       "      <td>7.874000</td>\n",
       "    </tr>\n",
       "    <tr>\n",
       "      <th>75%</th>\n",
       "      <td>34.000000</td>\n",
       "      <td>1.420159e+06</td>\n",
       "      <td>0.000000</td>\n",
       "      <td>74.940000</td>\n",
       "      <td>3.735000</td>\n",
       "      <td>212.743293</td>\n",
       "      <td>8.622000</td>\n",
       "    </tr>\n",
       "    <tr>\n",
       "      <th>max</th>\n",
       "      <td>45.000000</td>\n",
       "      <td>3.818686e+06</td>\n",
       "      <td>1.000000</td>\n",
       "      <td>100.140000</td>\n",
       "      <td>4.468000</td>\n",
       "      <td>227.232807</td>\n",
       "      <td>14.313000</td>\n",
       "    </tr>\n",
       "  </tbody>\n",
       "</table>\n",
       "</div>"
      ],
      "text/plain": [
       "             Store  Weekly_Sales  Holiday_Flag  Temperature   Fuel_Price  \\\n",
       "count  6435.000000  6.435000e+03   6435.000000  6435.000000  6435.000000   \n",
       "mean     23.000000  1.046965e+06      0.069930    60.663782     3.358607   \n",
       "std      12.988182  5.643666e+05      0.255049    18.444933     0.459020   \n",
       "min       1.000000  2.099862e+05      0.000000    -2.060000     2.472000   \n",
       "25%      12.000000  5.533501e+05      0.000000    47.460000     2.933000   \n",
       "50%      23.000000  9.607460e+05      0.000000    62.670000     3.445000   \n",
       "75%      34.000000  1.420159e+06      0.000000    74.940000     3.735000   \n",
       "max      45.000000  3.818686e+06      1.000000   100.140000     4.468000   \n",
       "\n",
       "               CPI  Unemployment  \n",
       "count  6435.000000   6435.000000  \n",
       "mean    171.578394      7.999151  \n",
       "std      39.356712      1.875885  \n",
       "min     126.064000      3.879000  \n",
       "25%     131.735000      6.891000  \n",
       "50%     182.616521      7.874000  \n",
       "75%     212.743293      8.622000  \n",
       "max     227.232807     14.313000  "
      ]
     },
     "execution_count": 119,
     "metadata": {},
     "output_type": "execute_result"
    }
   ],
   "source": [
    "sales.describe()"
   ]
  },
  {
   "cell_type": "code",
   "execution_count": 120,
   "id": "61158b26",
   "metadata": {},
   "outputs": [
    {
     "data": {
      "text/plain": [
       "(6435, 8)"
      ]
     },
     "execution_count": 120,
     "metadata": {},
     "output_type": "execute_result"
    }
   ],
   "source": [
    "sales.shape"
   ]
  },
  {
   "cell_type": "code",
   "execution_count": 121,
   "id": "5fccdd72",
   "metadata": {},
   "outputs": [
    {
     "name": "stdout",
     "output_type": "stream",
     "text": [
      "<class 'pandas.core.frame.DataFrame'>\n",
      "RangeIndex: 6435 entries, 0 to 6434\n",
      "Data columns (total 8 columns):\n",
      " #   Column        Non-Null Count  Dtype  \n",
      "---  ------        --------------  -----  \n",
      " 0   Store         6435 non-null   int64  \n",
      " 1   Date          6435 non-null   object \n",
      " 2   Weekly_Sales  6435 non-null   float64\n",
      " 3   Holiday_Flag  6435 non-null   int64  \n",
      " 4   Temperature   6435 non-null   float64\n",
      " 5   Fuel_Price    6435 non-null   float64\n",
      " 6   CPI           6435 non-null   float64\n",
      " 7   Unemployment  6435 non-null   float64\n",
      "dtypes: float64(5), int64(2), object(1)\n",
      "memory usage: 402.3+ KB\n"
     ]
    }
   ],
   "source": [
    "sales.info()"
   ]
  },
  {
   "cell_type": "code",
   "execution_count": 122,
   "id": "5931338d",
   "metadata": {},
   "outputs": [
    {
     "data": {
      "text/plain": [
       "<bound method NDFrame.describe of       Store        Date  Weekly_Sales  Holiday_Flag  Temperature  Fuel_Price  \\\n",
       "0         1  05-02-2010    1643690.90             0        42.31       2.572   \n",
       "1         1  12-02-2010    1641957.44             1        38.51       2.548   \n",
       "2         1  19-02-2010    1611968.17             0        39.93       2.514   \n",
       "3         1  26-02-2010    1409727.59             0        46.63       2.561   \n",
       "4         1  05-03-2010    1554806.68             0        46.50       2.625   \n",
       "...     ...         ...           ...           ...          ...         ...   \n",
       "6430     45  28-09-2012     713173.95             0        64.88       3.997   \n",
       "6431     45  05-10-2012     733455.07             0        64.89       3.985   \n",
       "6432     45  12-10-2012     734464.36             0        54.47       4.000   \n",
       "6433     45  19-10-2012     718125.53             0        56.47       3.969   \n",
       "6434     45  26-10-2012     760281.43             0        58.85       3.882   \n",
       "\n",
       "             CPI  Unemployment  \n",
       "0     211.096358         8.106  \n",
       "1     211.242170         8.106  \n",
       "2     211.289143         8.106  \n",
       "3     211.319643         8.106  \n",
       "4     211.350143         8.106  \n",
       "...          ...           ...  \n",
       "6430  192.013558         8.684  \n",
       "6431  192.170412         8.667  \n",
       "6432  192.327265         8.667  \n",
       "6433  192.330854         8.667  \n",
       "6434  192.308899         8.667  \n",
       "\n",
       "[6435 rows x 8 columns]>"
      ]
     },
     "execution_count": 122,
     "metadata": {},
     "output_type": "execute_result"
    }
   ],
   "source": [
    "sales.describe"
   ]
  },
  {
   "cell_type": "code",
   "execution_count": 123,
   "id": "7a0dad8d",
   "metadata": {},
   "outputs": [
    {
     "data": {
      "text/plain": [
       "np.float64(1046964.88)"
      ]
     },
     "execution_count": 123,
     "metadata": {},
     "output_type": "execute_result"
    }
   ],
   "source": [
    "# media de la colmna weekly_sales\n",
    "round(sales['Weekly_Sales'].mean(), 2)"
   ]
  },
  {
   "cell_type": "code",
   "execution_count": 124,
   "id": "8b190567",
   "metadata": {},
   "outputs": [
    {
     "data": {
      "text/plain": [
       "np.float64(960746.04)"
      ]
     },
     "execution_count": 124,
     "metadata": {},
     "output_type": "execute_result"
    }
   ],
   "source": [
    "# medianade la columna Weekly_Sales\n",
    "\n",
    "sales['Weekly_Sales'].median()"
   ]
  },
  {
   "cell_type": "markdown",
   "id": "3dadd7e3",
   "metadata": {},
   "source": [
    "# Resumir fechas\n",
    "\n",
    "Las estadisticas sumarias tambien puden calcularse sobre las columnas de fecha que tengan valores con el tipo de datos datetime64. Algunas estadisticas de resumen como la media no tiene mucho sentido en las fechas, pero otras son extermadamente utiles como por ejemplo: el minimo y el maximo que te permiten ver intervalo de tiempo de tiempo abarcan tus datos\n",
    "\n",
    "**intruciones**\n",
    "\n",
    "- imprimir el maximo de la columna \n",
    "- imprimir el minimo de la columna date "
   ]
  },
  {
   "cell_type": "code",
   "execution_count": 125,
   "id": "b4853c60",
   "metadata": {},
   "outputs": [],
   "source": [
    "sales[\"Date2\"] = sales[\"Date\"].astype(\"datetime64[ns]\")"
   ]
  },
  {
   "cell_type": "code",
   "execution_count": 126,
   "id": "bee120a7",
   "metadata": {},
   "outputs": [
    {
     "data": {
      "text/plain": [
       "'31-12-2010'"
      ]
     },
     "execution_count": 126,
     "metadata": {},
     "output_type": "execute_result"
    }
   ],
   "source": [
    "sales['Date'].max()"
   ]
  },
  {
   "cell_type": "code",
   "execution_count": 127,
   "id": "914e46c4",
   "metadata": {},
   "outputs": [
    {
     "data": {
      "text/plain": [
       "'01-04-2011'"
      ]
     },
     "execution_count": 127,
     "metadata": {},
     "output_type": "execute_result"
    }
   ],
   "source": [
    "sales['Date'].min()"
   ]
  },
  {
   "cell_type": "code",
   "execution_count": 128,
   "id": "8859c4b1",
   "metadata": {},
   "outputs": [
    {
     "data": {
      "text/plain": [
       "Timestamp('2010-01-10 00:00:00')"
      ]
     },
     "execution_count": 128,
     "metadata": {},
     "output_type": "execute_result"
    }
   ],
   "source": [
    "sales['Date2'].min()"
   ]
  },
  {
   "cell_type": "code",
   "execution_count": 129,
   "id": "a357c739",
   "metadata": {},
   "outputs": [
    {
     "data": {
      "text/plain": [
       "Timestamp('2012-12-10 00:00:00')"
      ]
     },
     "execution_count": 129,
     "metadata": {},
     "output_type": "execute_result"
    }
   ],
   "source": [
    "sales['Date2'].max()"
   ]
  },
  {
   "cell_type": "markdown",
   "id": "b152ab67",
   "metadata": {},
   "source": [
    "##  FUNCION AGG\n",
    "Aunque  pandas tenga muchas funciones a veces puedes necesitar una funcion diferencial para resumir los datos .\n",
    "\n",
    "El metodo .agg() permite  aplicar tus propias funciones a un Dataframe asi como aplicar funciones a mas de una columna a mas data ala vez haciendo que tus agregacones sean eficientes \n",
    "\n",
    "`df['column']. agg(funcion)`\n",
    "\n",
    "En la funcion personalizada para ejecicio \"IQR\" es la abreviatura del rango intercuartilico, que es el percentil 75 menos el percentil 25. Es una alternativa a la desviacion tipica(estandar )que resulta util si tus datos contienen valores atipicos.\n",
    "\n",
    "**Instrucciones**\n",
    "\n",
    "1. Utiliza  la  funcion personal iqr definida pr ti junto con el metodo .agg() para imprimir la IQR de la columna temperature_c de sales\n",
    "\n",
    "2. Actualiza la selecion dee columanas para utilizar la funcion personalizada iqr con agg() para imprimir los iqr de las columnas  temperature, fuel_price,unemployment, en orden.\n",
    "\n",
    "3. Actualiza las llamada a la funcion del metodo para octener el rango iqr y la media en ese orden "
   ]
  },
  {
   "cell_type": "code",
   "execution_count": 130,
   "id": "a2d0bdb6",
   "metadata": {},
   "outputs": [],
   "source": [
    "import numpy as np\n",
    "\n",
    "def  iqr (column):\n",
    "    return column.quantile(0.75) - column.quantile(0.25)\n"
   ]
  },
  {
   "cell_type": "code",
   "execution_count": 131,
   "id": "aa5e3962",
   "metadata": {},
   "outputs": [
    {
     "name": "stdout",
     "output_type": "stream",
     "text": [
      "El iqr de Temperature 27.479999999999997\n",
      "Temperature     27.480\n",
      "Fuel_Price       0.802\n",
      "Unemployment     1.731\n",
      "dtype: float64\n"
     ]
    }
   ],
   "source": [
    "#imprimir iqr de la columna  temperature\n",
    "print(f'El iqr de Temperature {sales['Temperature'].agg(iqr)}')\n",
    "\n",
    "#Actualizar la imprecion del iqr de temperature fuel_price, unemployment\n",
    "print(sales[['Temperature','Fuel_Price','Unemployment']].agg(iqr))"
   ]
  },
  {
   "cell_type": "code",
   "execution_count": 132,
   "id": "28953f4e",
   "metadata": {},
   "outputs": [
    {
     "name": "stdout",
     "output_type": "stream",
     "text": [
      "        Temperature  Fuel_Price  Unemployment\n",
      "iqr           27.48       0.802         1.731\n",
      "median        62.67       3.445         7.874\n"
     ]
    },
    {
     "name": "stderr",
     "output_type": "stream",
     "text": [
      "C:\\Users\\lizet\\AppData\\Local\\Temp\\ipykernel_4032\\183761147.py:1: FutureWarning: The provided callable <function median at 0x000001F7FFC9F1A0> is currently using Series.median. In a future version of pandas, the provided callable will be used directly. To keep current behavior pass the string \"median\" instead.\n",
      "  print(sales[['Temperature','Fuel_Price','Unemployment']].agg([iqr,np.median ]))\n",
      "C:\\Users\\lizet\\AppData\\Local\\Temp\\ipykernel_4032\\183761147.py:1: FutureWarning: The provided callable <function median at 0x000001F7FFC9F1A0> is currently using Series.median. In a future version of pandas, the provided callable will be used directly. To keep current behavior pass the string \"median\" instead.\n",
      "  print(sales[['Temperature','Fuel_Price','Unemployment']].agg([iqr,np.median ]))\n",
      "C:\\Users\\lizet\\AppData\\Local\\Temp\\ipykernel_4032\\183761147.py:1: FutureWarning: The provided callable <function median at 0x000001F7FFC9F1A0> is currently using Series.median. In a future version of pandas, the provided callable will be used directly. To keep current behavior pass the string \"median\" instead.\n",
      "  print(sales[['Temperature','Fuel_Price','Unemployment']].agg([iqr,np.median ]))\n"
     ]
    }
   ],
   "source": [
    "print(sales[['Temperature','Fuel_Price','Unemployment']].agg([iqr,np.median ]))"
   ]
  },
  {
   "cell_type": "code",
   "execution_count": 133,
   "id": "c8e25b65",
   "metadata": {},
   "outputs": [
    {
     "name": "stdout",
     "output_type": "stream",
     "text": [
      "        Temperature  Fuel_Price  Unemployment\n",
      "iqr           27.48       0.802         1.731\n",
      "median        62.67       3.445         7.874\n"
     ]
    }
   ],
   "source": [
    "print(sales[['Temperature','Fuel_Price','Unemployment']].agg([iqr,'median']))"
   ]
  },
  {
   "cell_type": "code",
   "execution_count": 134,
   "id": "e80dc14c",
   "metadata": {},
   "outputs": [
    {
     "name": "stdout",
     "output_type": "stream",
     "text": [
      "        Temperature  Fuel_Price  Unemployment\n",
      "iqr       27.480000    0.802000      1.731000\n",
      "median    62.670000    3.445000      7.874000\n",
      "mean      60.663782    3.358607      7.999151\n",
      "max      100.140000    4.468000     14.313000\n",
      "min       -2.060000    2.472000      3.879000\n"
     ]
    }
   ],
   "source": [
    "print(sales[['Temperature','Fuel_Price','Unemployment']].agg([iqr,'median','mean','max','min']))"
   ]
  },
  {
   "cell_type": "code",
   "execution_count": 135,
   "id": "e94c137f",
   "metadata": {},
   "outputs": [],
   "source": [
    "def convertirACentigrados (farenheit):\n",
    "    return farenheit - 32 /1.8"
   ]
  },
  {
   "cell_type": "code",
   "execution_count": 136,
   "id": "632ab03c",
   "metadata": {},
   "outputs": [],
   "source": [
    "temp_min = sales ['Temperature'].min()\n",
    "temp_max = sales ['Temperature'].max()\n"
   ]
  },
  {
   "cell_type": "code",
   "execution_count": 137,
   "id": "6cb0627b",
   "metadata": {},
   "outputs": [
    {
     "name": "stdout",
     "output_type": "stream",
     "text": [
      "La tempertura -2.06 en Centigrados es -19.837777777777777\n",
      "La tempertura 100.14 en Centigrados es 82.36222222222221\n"
     ]
    }
   ],
   "source": [
    "print(f'La tempertura {temp_min} en Centigrados es {convertirACentigrados(temp_min)}')\n",
    "print(f'La tempertura {temp_max} en Centigrados es {convertirACentigrados(temp_max)}')"
   ]
  },
  {
   "cell_type": "code",
   "execution_count": 138,
   "id": "f2ddb9f4",
   "metadata": {},
   "outputs": [
    {
     "name": "stdout",
     "output_type": "stream",
     "text": [
      "      Temperature\n",
      "0       24.532222\n",
      "1       20.732222\n",
      "2       22.152222\n",
      "3       28.852222\n",
      "4       28.722222\n",
      "...           ...\n",
      "6430    47.102222\n",
      "6431    47.112222\n",
      "6432    36.692222\n",
      "6433    38.692222\n",
      "6434    41.072222\n",
      "\n",
      "[6435 rows x 1 columns]\n"
     ]
    }
   ],
   "source": [
    "print(sales[['Temperature']].agg(convertirACentigrados))"
   ]
  },
  {
   "cell_type": "code",
   "execution_count": 139,
   "id": "8897e193",
   "metadata": {},
   "outputs": [],
   "source": [
    "sales ['Temperatura_Celcious']= sales[['Temperature']].agg(convertirACentigrados)"
   ]
  },
  {
   "cell_type": "code",
   "execution_count": 140,
   "id": "7e630950",
   "metadata": {},
   "outputs": [],
   "source": [
    "\n",
    "sales_sort = sales.sort_values(['Temperature','Temperatura_Celcious'], ascending=[True, False])"
   ]
  },
  {
   "cell_type": "code",
   "execution_count": 141,
   "id": "a09faf6a",
   "metadata": {},
   "outputs": [
    {
     "data": {
      "text/html": [
       "<div>\n",
       "<style scoped>\n",
       "    .dataframe tbody tr th:only-of-type {\n",
       "        vertical-align: middle;\n",
       "    }\n",
       "\n",
       "    .dataframe tbody tr th {\n",
       "        vertical-align: top;\n",
       "    }\n",
       "\n",
       "    .dataframe thead th {\n",
       "        text-align: right;\n",
       "    }\n",
       "</style>\n",
       "<table border=\"1\" class=\"dataframe\">\n",
       "  <thead>\n",
       "    <tr style=\"text-align: right;\">\n",
       "      <th></th>\n",
       "      <th>Temperature</th>\n",
       "      <th>Temperatura_Celcious</th>\n",
       "    </tr>\n",
       "  </thead>\n",
       "  <tbody>\n",
       "    <tr>\n",
       "      <th>910</th>\n",
       "      <td>-2.06</td>\n",
       "      <td>-19.837778</td>\n",
       "    </tr>\n",
       "    <tr>\n",
       "      <th>3626</th>\n",
       "      <td>5.54</td>\n",
       "      <td>-12.237778</td>\n",
       "    </tr>\n",
       "    <tr>\n",
       "      <th>2336</th>\n",
       "      <td>6.23</td>\n",
       "      <td>-11.547778</td>\n",
       "    </tr>\n",
       "    <tr>\n",
       "      <th>959</th>\n",
       "      <td>7.46</td>\n",
       "      <td>-10.317778</td>\n",
       "    </tr>\n",
       "    <tr>\n",
       "      <th>5628</th>\n",
       "      <td>9.51</td>\n",
       "      <td>-8.267778</td>\n",
       "    </tr>\n",
       "    <tr>\n",
       "      <th>...</th>\n",
       "      <td>...</td>\n",
       "      <td>...</td>\n",
       "    </tr>\n",
       "    <tr>\n",
       "      <th>3885</th>\n",
       "      <td>99.22</td>\n",
       "      <td>81.442222</td>\n",
       "    </tr>\n",
       "    <tr>\n",
       "      <th>5315</th>\n",
       "      <td>99.22</td>\n",
       "      <td>81.442222</td>\n",
       "    </tr>\n",
       "    <tr>\n",
       "      <th>4657</th>\n",
       "      <td>99.66</td>\n",
       "      <td>81.882222</td>\n",
       "    </tr>\n",
       "    <tr>\n",
       "      <th>4707</th>\n",
       "      <td>100.07</td>\n",
       "      <td>82.292222</td>\n",
       "    </tr>\n",
       "    <tr>\n",
       "      <th>4599</th>\n",
       "      <td>100.14</td>\n",
       "      <td>82.362222</td>\n",
       "    </tr>\n",
       "  </tbody>\n",
       "</table>\n",
       "<p>6435 rows × 2 columns</p>\n",
       "</div>"
      ],
      "text/plain": [
       "      Temperature  Temperatura_Celcious\n",
       "910         -2.06            -19.837778\n",
       "3626         5.54            -12.237778\n",
       "2336         6.23            -11.547778\n",
       "959          7.46            -10.317778\n",
       "5628         9.51             -8.267778\n",
       "...           ...                   ...\n",
       "3885        99.22             81.442222\n",
       "5315        99.22             81.442222\n",
       "4657        99.66             81.882222\n",
       "4707       100.07             82.292222\n",
       "4599       100.14             82.362222\n",
       "\n",
       "[6435 rows x 2 columns]"
      ]
     },
     "execution_count": 141,
     "metadata": {},
     "output_type": "execute_result"
    }
   ],
   "source": [
    "sales_sort[['Temperature','Temperatura_Celcious']]"
   ]
  },
  {
   "cell_type": "code",
   "execution_count": 142,
   "id": "f1a132bd",
   "metadata": {},
   "outputs": [],
   "source": [
    "import numpy as np"
   ]
  },
  {
   "cell_type": "code",
   "execution_count": 147,
   "id": "d69cbe16",
   "metadata": {},
   "outputs": [
    {
     "name": "stdout",
     "output_type": "stream",
     "text": [
      "74.94\n",
      "47.46\n",
      "27.479999999999997\n",
      "mean       60.663782\n",
      "median     62.670000\n",
      "max       100.140000\n",
      "min        -2.060000\n",
      "Name: Temperature, dtype: float64\n"
     ]
    }
   ],
   "source": [
    "# funcion personalisada que calcula el IQR\n",
    "\n",
    "def iqr(column):\n",
    "    return column.quantile(0.75) - column.quantile(0.25)\n",
    "\n",
    "\n",
    "#imprimir el IQR de la columna Temperature\n",
    "\n",
    "print(sales['Temperature'].quantile(0.75))\n",
    "print(sales['Temperature'].quantile(0.25))\n",
    "print(sales['Temperature'].agg(iqr))\n",
    "\n",
    "print(sales['Temperature'].agg(['mean','median','max','min']))\n"
   ]
  },
  {
   "cell_type": "markdown",
   "id": "9ceb9b30",
   "metadata": {},
   "source": [
    "## Estadisticas acumuladas "
   ]
  },
  {
   "cell_type": "markdown",
   "id": "9a05c769",
   "metadata": {},
   "source": [
    "\n",
    "Las estadísticas acumulativas también pueden ser útiles para hacer un seguimiento de las estadísticas resumidas a lo largo del tiempo. En este ejercicio, calcularás la suma acumulada y el máximo acumulado de las ventas semanales de un departamento, lo que te permitirá identificar cuáles han sido las ventas totales hasta el momento, así como cuáles han sido las ventas semanales más elevadas hasta el momento.\n",
    "\n",
    "**Instrucciones**\n",
    "\n",
    "- Ordena las filas de sales_1_1 por la columna date en orden ascendente.\n",
    "- Obtén la suma acumulada de weekly_sales y añádelo como una nueva columna de sales_1_1 llamada cum_weekly_sales.\n",
    "- Obtén el máximo acumulado de weekly_sales, y añádelo como una columna llamada cum_max_sales.\n",
    "- Imprime las columnas date, weekly_sales, cum_weekly_sales, y cum_max_sales."
   ]
  },
  {
   "cell_type": "code",
   "execution_count": null,
   "id": "293d9bce",
   "metadata": {},
   "outputs": [],
   "source": [
    "sales_1_1 = sales [sales['Store'] == 1]\n",
    "\n",
    "#ordenar sales_1_1 por  fecha \n",
    "sales_1_1 = sales_1_1.sort_values('Date',dy)\n",
    "\n",
    "# optener la suma acomulativa del campo Weekly_Sales y agregar una columna  llamada cum_Weekly_Sales\n",
    "\n",
    "sales_1_1['cum_weekly_sales'] = sales_1_1['Weekly_Sales'].cumsum()"
   ]
  },
  {
   "cell_type": "code",
   "execution_count": 153,
   "id": "78fc3c3f",
   "metadata": {},
   "outputs": [
    {
     "ename": "KeyError",
     "evalue": "\"['weekly_sales'] not in index\"",
     "output_type": "error",
     "traceback": [
      "\u001b[31m---------------------------------------------------------------------------\u001b[39m",
      "\u001b[31mKeyError\u001b[39m                                  Traceback (most recent call last)",
      "\u001b[36mCell\u001b[39m\u001b[36m \u001b[39m\u001b[32mIn[153]\u001b[39m\u001b[32m, line 1\u001b[39m\n\u001b[32m----> \u001b[39m\u001b[32m1\u001b[39m \u001b[43msales_1_1\u001b[49m\u001b[43m[\u001b[49m\u001b[43m[\u001b[49m\u001b[33;43m'\u001b[39;49m\u001b[33;43mweekly_sales\u001b[39;49m\u001b[33;43m'\u001b[39;49m\u001b[43m,\u001b[49m\u001b[33;43m'\u001b[39;49m\u001b[33;43mcum_weekly_sales\u001b[39;49m\u001b[33;43m'\u001b[39;49m\u001b[43m]\u001b[49m\u001b[43m]\u001b[49m\n",
      "\u001b[36mFile \u001b[39m\u001b[32mc:\\Users\\lizet\\AppData\\Local\\Programs\\Python\\Python313\\Lib\\site-packages\\pandas\\core\\frame.py:4113\u001b[39m, in \u001b[36mDataFrame.__getitem__\u001b[39m\u001b[34m(self, key)\u001b[39m\n\u001b[32m   4111\u001b[39m     \u001b[38;5;28;01mif\u001b[39;00m is_iterator(key):\n\u001b[32m   4112\u001b[39m         key = \u001b[38;5;28mlist\u001b[39m(key)\n\u001b[32m-> \u001b[39m\u001b[32m4113\u001b[39m     indexer = \u001b[38;5;28;43mself\u001b[39;49m\u001b[43m.\u001b[49m\u001b[43mcolumns\u001b[49m\u001b[43m.\u001b[49m\u001b[43m_get_indexer_strict\u001b[49m\u001b[43m(\u001b[49m\u001b[43mkey\u001b[49m\u001b[43m,\u001b[49m\u001b[43m \u001b[49m\u001b[33;43m\"\u001b[39;49m\u001b[33;43mcolumns\u001b[39;49m\u001b[33;43m\"\u001b[39;49m\u001b[43m)\u001b[49m[\u001b[32m1\u001b[39m]\n\u001b[32m   4115\u001b[39m \u001b[38;5;66;03m# take() does not accept boolean indexers\u001b[39;00m\n\u001b[32m   4116\u001b[39m \u001b[38;5;28;01mif\u001b[39;00m \u001b[38;5;28mgetattr\u001b[39m(indexer, \u001b[33m\"\u001b[39m\u001b[33mdtype\u001b[39m\u001b[33m\"\u001b[39m, \u001b[38;5;28;01mNone\u001b[39;00m) == \u001b[38;5;28mbool\u001b[39m:\n",
      "\u001b[36mFile \u001b[39m\u001b[32mc:\\Users\\lizet\\AppData\\Local\\Programs\\Python\\Python313\\Lib\\site-packages\\pandas\\core\\indexes\\base.py:6212\u001b[39m, in \u001b[36mIndex._get_indexer_strict\u001b[39m\u001b[34m(self, key, axis_name)\u001b[39m\n\u001b[32m   6209\u001b[39m \u001b[38;5;28;01melse\u001b[39;00m:\n\u001b[32m   6210\u001b[39m     keyarr, indexer, new_indexer = \u001b[38;5;28mself\u001b[39m._reindex_non_unique(keyarr)\n\u001b[32m-> \u001b[39m\u001b[32m6212\u001b[39m \u001b[38;5;28;43mself\u001b[39;49m\u001b[43m.\u001b[49m\u001b[43m_raise_if_missing\u001b[49m\u001b[43m(\u001b[49m\u001b[43mkeyarr\u001b[49m\u001b[43m,\u001b[49m\u001b[43m \u001b[49m\u001b[43mindexer\u001b[49m\u001b[43m,\u001b[49m\u001b[43m \u001b[49m\u001b[43maxis_name\u001b[49m\u001b[43m)\u001b[49m\n\u001b[32m   6214\u001b[39m keyarr = \u001b[38;5;28mself\u001b[39m.take(indexer)\n\u001b[32m   6215\u001b[39m \u001b[38;5;28;01mif\u001b[39;00m \u001b[38;5;28misinstance\u001b[39m(key, Index):\n\u001b[32m   6216\u001b[39m     \u001b[38;5;66;03m# GH 42790 - Preserve name from an Index\u001b[39;00m\n",
      "\u001b[36mFile \u001b[39m\u001b[32mc:\\Users\\lizet\\AppData\\Local\\Programs\\Python\\Python313\\Lib\\site-packages\\pandas\\core\\indexes\\base.py:6264\u001b[39m, in \u001b[36mIndex._raise_if_missing\u001b[39m\u001b[34m(self, key, indexer, axis_name)\u001b[39m\n\u001b[32m   6261\u001b[39m     \u001b[38;5;28;01mraise\u001b[39;00m \u001b[38;5;167;01mKeyError\u001b[39;00m(\u001b[33mf\u001b[39m\u001b[33m\"\u001b[39m\u001b[33mNone of [\u001b[39m\u001b[38;5;132;01m{\u001b[39;00mkey\u001b[38;5;132;01m}\u001b[39;00m\u001b[33m] are in the [\u001b[39m\u001b[38;5;132;01m{\u001b[39;00maxis_name\u001b[38;5;132;01m}\u001b[39;00m\u001b[33m]\u001b[39m\u001b[33m\"\u001b[39m)\n\u001b[32m   6263\u001b[39m not_found = \u001b[38;5;28mlist\u001b[39m(ensure_index(key)[missing_mask.nonzero()[\u001b[32m0\u001b[39m]].unique())\n\u001b[32m-> \u001b[39m\u001b[32m6264\u001b[39m \u001b[38;5;28;01mraise\u001b[39;00m \u001b[38;5;167;01mKeyError\u001b[39;00m(\u001b[33mf\u001b[39m\u001b[33m\"\u001b[39m\u001b[38;5;132;01m{\u001b[39;00mnot_found\u001b[38;5;132;01m}\u001b[39;00m\u001b[33m not in index\u001b[39m\u001b[33m\"\u001b[39m)\n",
      "\u001b[31mKeyError\u001b[39m: \"['weekly_sales'] not in index\""
     ]
    }
   ],
   "source": [
    "sales_1_1[['weekly_sales','cum_weekly_sales']]"
   ]
  },
  {
   "cell_type": "code",
   "execution_count": 154,
   "id": "6d47f866",
   "metadata": {},
   "outputs": [
    {
     "data": {
      "text/html": [
       "<div>\n",
       "<style scoped>\n",
       "    .dataframe tbody tr th:only-of-type {\n",
       "        vertical-align: middle;\n",
       "    }\n",
       "\n",
       "    .dataframe tbody tr th {\n",
       "        vertical-align: top;\n",
       "    }\n",
       "\n",
       "    .dataframe thead th {\n",
       "        text-align: right;\n",
       "    }\n",
       "</style>\n",
       "<table border=\"1\" class=\"dataframe\">\n",
       "  <thead>\n",
       "    <tr style=\"text-align: right;\">\n",
       "      <th></th>\n",
       "      <th>Store</th>\n",
       "      <th>Date</th>\n",
       "      <th>Weekly_Sales</th>\n",
       "      <th>Holiday_Flag</th>\n",
       "      <th>Temperature</th>\n",
       "      <th>Fuel_Price</th>\n",
       "      <th>CPI</th>\n",
       "      <th>Unemployment</th>\n",
       "      <th>cum_weekly_sales</th>\n",
       "    </tr>\n",
       "  </thead>\n",
       "  <tbody>\n",
       "    <tr>\n",
       "      <th>60</th>\n",
       "      <td>1</td>\n",
       "      <td>01-04-2011</td>\n",
       "      <td>1495064.75</td>\n",
       "      <td>0</td>\n",
       "      <td>59.17</td>\n",
       "      <td>3.524</td>\n",
       "      <td>214.837166</td>\n",
       "      <td>7.682</td>\n",
       "      <td>1495064.75</td>\n",
       "    </tr>\n",
       "    <tr>\n",
       "      <th>121</th>\n",
       "      <td>1</td>\n",
       "      <td>01-06-2012</td>\n",
       "      <td>1624477.58</td>\n",
       "      <td>0</td>\n",
       "      <td>77.95</td>\n",
       "      <td>3.501</td>\n",
       "      <td>221.747214</td>\n",
       "      <td>7.143</td>\n",
       "      <td>3119542.33</td>\n",
       "    </tr>\n",
       "    <tr>\n",
       "      <th>73</th>\n",
       "      <td>1</td>\n",
       "      <td>01-07-2011</td>\n",
       "      <td>1488538.09</td>\n",
       "      <td>0</td>\n",
       "      <td>85.55</td>\n",
       "      <td>3.524</td>\n",
       "      <td>215.184137</td>\n",
       "      <td>7.962</td>\n",
       "      <td>4608080.42</td>\n",
       "    </tr>\n",
       "    <tr>\n",
       "      <th>34</th>\n",
       "      <td>1</td>\n",
       "      <td>01-10-2010</td>\n",
       "      <td>1453329.50</td>\n",
       "      <td>0</td>\n",
       "      <td>71.89</td>\n",
       "      <td>2.603</td>\n",
       "      <td>211.671989</td>\n",
       "      <td>7.838</td>\n",
       "      <td>6061409.92</td>\n",
       "    </tr>\n",
       "    <tr>\n",
       "      <th>108</th>\n",
       "      <td>1</td>\n",
       "      <td>02-03-2012</td>\n",
       "      <td>1688420.76</td>\n",
       "      <td>0</td>\n",
       "      <td>60.96</td>\n",
       "      <td>3.630</td>\n",
       "      <td>220.848045</td>\n",
       "      <td>7.348</td>\n",
       "      <td>7749830.68</td>\n",
       "    </tr>\n",
       "  </tbody>\n",
       "</table>\n",
       "</div>"
      ],
      "text/plain": [
       "     Store        Date  Weekly_Sales  Holiday_Flag  Temperature  Fuel_Price  \\\n",
       "60       1  01-04-2011    1495064.75             0        59.17       3.524   \n",
       "121      1  01-06-2012    1624477.58             0        77.95       3.501   \n",
       "73       1  01-07-2011    1488538.09             0        85.55       3.524   \n",
       "34       1  01-10-2010    1453329.50             0        71.89       2.603   \n",
       "108      1  02-03-2012    1688420.76             0        60.96       3.630   \n",
       "\n",
       "            CPI  Unemployment  cum_weekly_sales  \n",
       "60   214.837166         7.682        1495064.75  \n",
       "121  221.747214         7.143        3119542.33  \n",
       "73   215.184137         7.962        4608080.42  \n",
       "34   211.671989         7.838        6061409.92  \n",
       "108  220.848045         7.348        7749830.68  "
      ]
     },
     "execution_count": 154,
     "metadata": {},
     "output_type": "execute_result"
    }
   ],
   "source": [
    "sales_1_1.head()"
   ]
  },
  {
   "cell_type": "code",
   "execution_count": 156,
   "id": "8fb831fa",
   "metadata": {},
   "outputs": [
    {
     "data": {
      "text/html": [
       "<div>\n",
       "<style scoped>\n",
       "    .dataframe tbody tr th:only-of-type {\n",
       "        vertical-align: middle;\n",
       "    }\n",
       "\n",
       "    .dataframe tbody tr th {\n",
       "        vertical-align: top;\n",
       "    }\n",
       "\n",
       "    .dataframe thead th {\n",
       "        text-align: right;\n",
       "    }\n",
       "</style>\n",
       "<table border=\"1\" class=\"dataframe\">\n",
       "  <thead>\n",
       "    <tr style=\"text-align: right;\">\n",
       "      <th></th>\n",
       "      <th>Store</th>\n",
       "      <th>Date</th>\n",
       "      <th>Weekly_Sales</th>\n",
       "      <th>Holiday_Flag</th>\n",
       "      <th>Temperature</th>\n",
       "      <th>Fuel_Price</th>\n",
       "      <th>CPI</th>\n",
       "      <th>Unemployment</th>\n",
       "      <th>cum_weekly_sales</th>\n",
       "      <th>cum_max_sales</th>\n",
       "    </tr>\n",
       "  </thead>\n",
       "  <tbody>\n",
       "    <tr>\n",
       "      <th>60</th>\n",
       "      <td>1</td>\n",
       "      <td>01-04-2011</td>\n",
       "      <td>1495064.75</td>\n",
       "      <td>0</td>\n",
       "      <td>59.17</td>\n",
       "      <td>3.524</td>\n",
       "      <td>214.837166</td>\n",
       "      <td>7.682</td>\n",
       "      <td>1495064.75</td>\n",
       "      <td>1495064.75</td>\n",
       "    </tr>\n",
       "    <tr>\n",
       "      <th>121</th>\n",
       "      <td>1</td>\n",
       "      <td>01-06-2012</td>\n",
       "      <td>1624477.58</td>\n",
       "      <td>0</td>\n",
       "      <td>77.95</td>\n",
       "      <td>3.501</td>\n",
       "      <td>221.747214</td>\n",
       "      <td>7.143</td>\n",
       "      <td>3119542.33</td>\n",
       "      <td>3119542.33</td>\n",
       "    </tr>\n",
       "    <tr>\n",
       "      <th>73</th>\n",
       "      <td>1</td>\n",
       "      <td>01-07-2011</td>\n",
       "      <td>1488538.09</td>\n",
       "      <td>0</td>\n",
       "      <td>85.55</td>\n",
       "      <td>3.524</td>\n",
       "      <td>215.184137</td>\n",
       "      <td>7.962</td>\n",
       "      <td>4608080.42</td>\n",
       "      <td>4608080.42</td>\n",
       "    </tr>\n",
       "    <tr>\n",
       "      <th>34</th>\n",
       "      <td>1</td>\n",
       "      <td>01-10-2010</td>\n",
       "      <td>1453329.50</td>\n",
       "      <td>0</td>\n",
       "      <td>71.89</td>\n",
       "      <td>2.603</td>\n",
       "      <td>211.671989</td>\n",
       "      <td>7.838</td>\n",
       "      <td>6061409.92</td>\n",
       "      <td>6061409.92</td>\n",
       "    </tr>\n",
       "    <tr>\n",
       "      <th>108</th>\n",
       "      <td>1</td>\n",
       "      <td>02-03-2012</td>\n",
       "      <td>1688420.76</td>\n",
       "      <td>0</td>\n",
       "      <td>60.96</td>\n",
       "      <td>3.630</td>\n",
       "      <td>220.848045</td>\n",
       "      <td>7.348</td>\n",
       "      <td>7749830.68</td>\n",
       "      <td>7749830.68</td>\n",
       "    </tr>\n",
       "  </tbody>\n",
       "</table>\n",
       "</div>"
      ],
      "text/plain": [
       "     Store        Date  Weekly_Sales  Holiday_Flag  Temperature  Fuel_Price  \\\n",
       "60       1  01-04-2011    1495064.75             0        59.17       3.524   \n",
       "121      1  01-06-2012    1624477.58             0        77.95       3.501   \n",
       "73       1  01-07-2011    1488538.09             0        85.55       3.524   \n",
       "34       1  01-10-2010    1453329.50             0        71.89       2.603   \n",
       "108      1  02-03-2012    1688420.76             0        60.96       3.630   \n",
       "\n",
       "            CPI  Unemployment  cum_weekly_sales  cum_max_sales  \n",
       "60   214.837166         7.682        1495064.75     1495064.75  \n",
       "121  221.747214         7.143        3119542.33     3119542.33  \n",
       "73   215.184137         7.962        4608080.42     4608080.42  \n",
       "34   211.671989         7.838        6061409.92     6061409.92  \n",
       "108  220.848045         7.348        7749830.68     7749830.68  "
      ]
     },
     "execution_count": 156,
     "metadata": {},
     "output_type": "execute_result"
    }
   ],
   "source": [
    "#obtener el maximo acomulativo de weekly_sales y agregar la columna \n",
    "#cum_max_sales\n",
    "sales_1_1['cum_max_sales'] = sales_1_1['cum_weekly_sales'].cummax()\n",
    "\n",
    "sales_1_1.head()\n"
   ]
  },
  {
   "cell_type": "code",
   "execution_count": 157,
   "id": "bb3ce7eb",
   "metadata": {},
   "outputs": [
    {
     "data": {
      "text/html": [
       "<div>\n",
       "<style scoped>\n",
       "    .dataframe tbody tr th:only-of-type {\n",
       "        vertical-align: middle;\n",
       "    }\n",
       "\n",
       "    .dataframe tbody tr th {\n",
       "        vertical-align: top;\n",
       "    }\n",
       "\n",
       "    .dataframe thead th {\n",
       "        text-align: right;\n",
       "    }\n",
       "</style>\n",
       "<table border=\"1\" class=\"dataframe\">\n",
       "  <thead>\n",
       "    <tr style=\"text-align: right;\">\n",
       "      <th></th>\n",
       "      <th>Date</th>\n",
       "      <th>Weekly_Sales</th>\n",
       "      <th>cum_weekly_sales</th>\n",
       "      <th>cum_max_sales</th>\n",
       "    </tr>\n",
       "  </thead>\n",
       "  <tbody>\n",
       "    <tr>\n",
       "      <th>60</th>\n",
       "      <td>01-04-2011</td>\n",
       "      <td>1495064.75</td>\n",
       "      <td>1.495065e+06</td>\n",
       "      <td>1.495065e+06</td>\n",
       "    </tr>\n",
       "    <tr>\n",
       "      <th>121</th>\n",
       "      <td>01-06-2012</td>\n",
       "      <td>1624477.58</td>\n",
       "      <td>3.119542e+06</td>\n",
       "      <td>3.119542e+06</td>\n",
       "    </tr>\n",
       "    <tr>\n",
       "      <th>73</th>\n",
       "      <td>01-07-2011</td>\n",
       "      <td>1488538.09</td>\n",
       "      <td>4.608080e+06</td>\n",
       "      <td>4.608080e+06</td>\n",
       "    </tr>\n",
       "    <tr>\n",
       "      <th>34</th>\n",
       "      <td>01-10-2010</td>\n",
       "      <td>1453329.50</td>\n",
       "      <td>6.061410e+06</td>\n",
       "      <td>6.061410e+06</td>\n",
       "    </tr>\n",
       "    <tr>\n",
       "      <th>108</th>\n",
       "      <td>02-03-2012</td>\n",
       "      <td>1688420.76</td>\n",
       "      <td>7.749831e+06</td>\n",
       "      <td>7.749831e+06</td>\n",
       "    </tr>\n",
       "    <tr>\n",
       "      <th>...</th>\n",
       "      <td>...</td>\n",
       "      <td>...</td>\n",
       "      <td>...</td>\n",
       "      <td>...</td>\n",
       "    </tr>\n",
       "    <tr>\n",
       "      <th>25</th>\n",
       "      <td>30-07-2010</td>\n",
       "      <td>1371986.60</td>\n",
       "      <td>2.165614e+08</td>\n",
       "      <td>2.165614e+08</td>\n",
       "    </tr>\n",
       "    <tr>\n",
       "      <th>86</th>\n",
       "      <td>30-09-2011</td>\n",
       "      <td>1394561.83</td>\n",
       "      <td>2.179559e+08</td>\n",
       "      <td>2.179559e+08</td>\n",
       "    </tr>\n",
       "    <tr>\n",
       "      <th>99</th>\n",
       "      <td>30-12-2011</td>\n",
       "      <td>1497462.72</td>\n",
       "      <td>2.194534e+08</td>\n",
       "      <td>2.194534e+08</td>\n",
       "    </tr>\n",
       "    <tr>\n",
       "      <th>134</th>\n",
       "      <td>31-08-2012</td>\n",
       "      <td>1582083.40</td>\n",
       "      <td>2.210355e+08</td>\n",
       "      <td>2.210355e+08</td>\n",
       "    </tr>\n",
       "    <tr>\n",
       "      <th>47</th>\n",
       "      <td>31-12-2010</td>\n",
       "      <td>1367320.01</td>\n",
       "      <td>2.224028e+08</td>\n",
       "      <td>2.224028e+08</td>\n",
       "    </tr>\n",
       "  </tbody>\n",
       "</table>\n",
       "<p>143 rows × 4 columns</p>\n",
       "</div>"
      ],
      "text/plain": [
       "           Date  Weekly_Sales  cum_weekly_sales  cum_max_sales\n",
       "60   01-04-2011    1495064.75      1.495065e+06   1.495065e+06\n",
       "121  01-06-2012    1624477.58      3.119542e+06   3.119542e+06\n",
       "73   01-07-2011    1488538.09      4.608080e+06   4.608080e+06\n",
       "34   01-10-2010    1453329.50      6.061410e+06   6.061410e+06\n",
       "108  02-03-2012    1688420.76      7.749831e+06   7.749831e+06\n",
       "..          ...           ...               ...            ...\n",
       "25   30-07-2010    1371986.60      2.165614e+08   2.165614e+08\n",
       "86   30-09-2011    1394561.83      2.179559e+08   2.179559e+08\n",
       "99   30-12-2011    1497462.72      2.194534e+08   2.194534e+08\n",
       "134  31-08-2012    1582083.40      2.210355e+08   2.210355e+08\n",
       "47   31-12-2010    1367320.01      2.224028e+08   2.224028e+08\n",
       "\n",
       "[143 rows x 4 columns]"
      ]
     },
     "execution_count": 157,
     "metadata": {},
     "output_type": "execute_result"
    }
   ],
   "source": [
    "#mostrar la columna calculadad \n",
    "sales_1_1[['Date','Weekly_Sales','cum_weekly_sales','cum_max_sales']]"
   ]
  },
  {
   "cell_type": "markdown",
   "id": "33170afc",
   "metadata": {},
   "source": [
    "## Recuento "
   ]
  },
  {
   "cell_type": "markdown",
   "id": "c415fc45",
   "metadata": {},
   "source": [
    "### Eliminar duplicado\n",
    "Eliminar duplicados es una habilidad esencial para obtener recuentos precisos, porque a menudo no quieres contar lo mismo varias veces. En este ejercicio, crearás algunos DataFrames nuevos utilizando valores únicos de sales.\n",
    "\n",
    "**Instrucciones**\n",
    "\n",
    "- Elimina las filas de sales con pares duplicados de store y type y guárdalas como store_types e imprime la cabecera.\n",
    "- Elimina las filas de sales con pares duplicados de store y department y guárdalas como store_depts e imprime la cabecera.\n",
    "- Subconjunta las filas que sean semanas de vacaciones utilizando la columna is_holiday, y elimina las dates duplicadas, guardándolas como holiday_dates.\n",
    "- Selecciona la columna date de holiday_dates, e imprímela."
   ]
  },
  {
   "cell_type": "code",
   "execution_count": 173,
   "id": "d4cdaae0",
   "metadata": {},
   "outputs": [],
   "source": [
    "import pandas as pd\n",
    "sales_sub =pd.read_csv('./data st/sales_subset.csv', index_col=0)"
   ]
  },
  {
   "cell_type": "code",
   "execution_count": 174,
   "id": "f3acf1b9",
   "metadata": {},
   "outputs": [
    {
     "data": {
      "text/html": [
       "<div>\n",
       "<style scoped>\n",
       "    .dataframe tbody tr th:only-of-type {\n",
       "        vertical-align: middle;\n",
       "    }\n",
       "\n",
       "    .dataframe tbody tr th {\n",
       "        vertical-align: top;\n",
       "    }\n",
       "\n",
       "    .dataframe thead th {\n",
       "        text-align: right;\n",
       "    }\n",
       "</style>\n",
       "<table border=\"1\" class=\"dataframe\">\n",
       "  <thead>\n",
       "    <tr style=\"text-align: right;\">\n",
       "      <th></th>\n",
       "      <th>store</th>\n",
       "      <th>type</th>\n",
       "      <th>department</th>\n",
       "      <th>date</th>\n",
       "      <th>weekly_sales</th>\n",
       "      <th>is_holiday</th>\n",
       "      <th>temperature_c</th>\n",
       "      <th>fuel_price_usd_per_l</th>\n",
       "      <th>unemployment</th>\n",
       "    </tr>\n",
       "  </thead>\n",
       "  <tbody>\n",
       "    <tr>\n",
       "      <th>0</th>\n",
       "      <td>1</td>\n",
       "      <td>A</td>\n",
       "      <td>1</td>\n",
       "      <td>2010-02-05</td>\n",
       "      <td>24924.50</td>\n",
       "      <td>False</td>\n",
       "      <td>5.727778</td>\n",
       "      <td>0.679451</td>\n",
       "      <td>8.106</td>\n",
       "    </tr>\n",
       "    <tr>\n",
       "      <th>1</th>\n",
       "      <td>1</td>\n",
       "      <td>A</td>\n",
       "      <td>1</td>\n",
       "      <td>2010-03-05</td>\n",
       "      <td>21827.90</td>\n",
       "      <td>False</td>\n",
       "      <td>8.055556</td>\n",
       "      <td>0.693452</td>\n",
       "      <td>8.106</td>\n",
       "    </tr>\n",
       "    <tr>\n",
       "      <th>2</th>\n",
       "      <td>1</td>\n",
       "      <td>A</td>\n",
       "      <td>1</td>\n",
       "      <td>2010-04-02</td>\n",
       "      <td>57258.43</td>\n",
       "      <td>False</td>\n",
       "      <td>16.816667</td>\n",
       "      <td>0.718284</td>\n",
       "      <td>7.808</td>\n",
       "    </tr>\n",
       "    <tr>\n",
       "      <th>3</th>\n",
       "      <td>1</td>\n",
       "      <td>A</td>\n",
       "      <td>1</td>\n",
       "      <td>2010-05-07</td>\n",
       "      <td>17413.94</td>\n",
       "      <td>False</td>\n",
       "      <td>22.527778</td>\n",
       "      <td>0.748928</td>\n",
       "      <td>7.808</td>\n",
       "    </tr>\n",
       "    <tr>\n",
       "      <th>4</th>\n",
       "      <td>1</td>\n",
       "      <td>A</td>\n",
       "      <td>1</td>\n",
       "      <td>2010-06-04</td>\n",
       "      <td>17558.09</td>\n",
       "      <td>False</td>\n",
       "      <td>27.050000</td>\n",
       "      <td>0.714586</td>\n",
       "      <td>7.808</td>\n",
       "    </tr>\n",
       "  </tbody>\n",
       "</table>\n",
       "</div>"
      ],
      "text/plain": [
       "   store type  department        date  weekly_sales  is_holiday  \\\n",
       "0      1    A           1  2010-02-05      24924.50       False   \n",
       "1      1    A           1  2010-03-05      21827.90       False   \n",
       "2      1    A           1  2010-04-02      57258.43       False   \n",
       "3      1    A           1  2010-05-07      17413.94       False   \n",
       "4      1    A           1  2010-06-04      17558.09       False   \n",
       "\n",
       "   temperature_c  fuel_price_usd_per_l  unemployment  \n",
       "0       5.727778              0.679451         8.106  \n",
       "1       8.055556              0.693452         8.106  \n",
       "2      16.816667              0.718284         7.808  \n",
       "3      22.527778              0.748928         7.808  \n",
       "4      27.050000              0.714586         7.808  "
      ]
     },
     "execution_count": 174,
     "metadata": {},
     "output_type": "execute_result"
    }
   ],
   "source": [
    "sales_sub.head()"
   ]
  },
  {
   "cell_type": "code",
   "execution_count": 197,
   "id": "f24f6cb1",
   "metadata": {},
   "outputs": [],
   "source": [
    "# Drop duplicate store/department combinations\n",
    "store_depts = sales.drop_duplicates(subset=[\"store\", \"department\"])"
   ]
  },
  {
   "cell_type": "code",
   "execution_count": 183,
   "id": "1f0878e9",
   "metadata": {},
   "outputs": [
    {
     "data": {
      "text/html": [
       "<div>\n",
       "<style scoped>\n",
       "    .dataframe tbody tr th:only-of-type {\n",
       "        vertical-align: middle;\n",
       "    }\n",
       "\n",
       "    .dataframe tbody tr th {\n",
       "        vertical-align: top;\n",
       "    }\n",
       "\n",
       "    .dataframe thead th {\n",
       "        text-align: right;\n",
       "    }\n",
       "</style>\n",
       "<table border=\"1\" class=\"dataframe\">\n",
       "  <thead>\n",
       "    <tr style=\"text-align: right;\">\n",
       "      <th></th>\n",
       "      <th>store</th>\n",
       "      <th>type</th>\n",
       "      <th>department</th>\n",
       "      <th>date</th>\n",
       "      <th>weekly_sales</th>\n",
       "      <th>is_holiday</th>\n",
       "      <th>temperature_c</th>\n",
       "      <th>fuel_price_usd_per_l</th>\n",
       "      <th>unemployment</th>\n",
       "    </tr>\n",
       "  </thead>\n",
       "  <tbody>\n",
       "    <tr>\n",
       "      <th>0</th>\n",
       "      <td>1</td>\n",
       "      <td>A</td>\n",
       "      <td>1</td>\n",
       "      <td>2010-02-05</td>\n",
       "      <td>24924.50</td>\n",
       "      <td>False</td>\n",
       "      <td>5.727778</td>\n",
       "      <td>0.679451</td>\n",
       "      <td>8.106</td>\n",
       "    </tr>\n",
       "    <tr>\n",
       "      <th>901</th>\n",
       "      <td>2</td>\n",
       "      <td>A</td>\n",
       "      <td>1</td>\n",
       "      <td>2010-02-05</td>\n",
       "      <td>35034.06</td>\n",
       "      <td>False</td>\n",
       "      <td>4.550000</td>\n",
       "      <td>0.679451</td>\n",
       "      <td>8.324</td>\n",
       "    </tr>\n",
       "    <tr>\n",
       "      <th>1798</th>\n",
       "      <td>4</td>\n",
       "      <td>A</td>\n",
       "      <td>1</td>\n",
       "      <td>2010-02-05</td>\n",
       "      <td>38724.42</td>\n",
       "      <td>False</td>\n",
       "      <td>6.533333</td>\n",
       "      <td>0.686319</td>\n",
       "      <td>8.623</td>\n",
       "    </tr>\n",
       "    <tr>\n",
       "      <th>2699</th>\n",
       "      <td>6</td>\n",
       "      <td>A</td>\n",
       "      <td>1</td>\n",
       "      <td>2010-02-05</td>\n",
       "      <td>25619.00</td>\n",
       "      <td>False</td>\n",
       "      <td>4.683333</td>\n",
       "      <td>0.679451</td>\n",
       "      <td>7.259</td>\n",
       "    </tr>\n",
       "    <tr>\n",
       "      <th>3593</th>\n",
       "      <td>10</td>\n",
       "      <td>B</td>\n",
       "      <td>1</td>\n",
       "      <td>2010-02-05</td>\n",
       "      <td>40212.84</td>\n",
       "      <td>False</td>\n",
       "      <td>12.411111</td>\n",
       "      <td>0.782478</td>\n",
       "      <td>9.765</td>\n",
       "    </tr>\n",
       "  </tbody>\n",
       "</table>\n",
       "</div>"
      ],
      "text/plain": [
       "      store type  department        date  weekly_sales  is_holiday  \\\n",
       "0         1    A           1  2010-02-05      24924.50       False   \n",
       "901       2    A           1  2010-02-05      35034.06       False   \n",
       "1798      4    A           1  2010-02-05      38724.42       False   \n",
       "2699      6    A           1  2010-02-05      25619.00       False   \n",
       "3593     10    B           1  2010-02-05      40212.84       False   \n",
       "\n",
       "      temperature_c  fuel_price_usd_per_l  unemployment  \n",
       "0          5.727778              0.679451         8.106  \n",
       "901        4.550000              0.679451         8.324  \n",
       "1798       6.533333              0.686319         8.623  \n",
       "2699       4.683333              0.679451         7.259  \n",
       "3593      12.411111              0.782478         9.765  "
      ]
     },
     "execution_count": 183,
     "metadata": {},
     "output_type": "execute_result"
    }
   ],
   "source": [
    "#elemininar o hacer un (drop) la combinacion  de duplicado de store/type\n",
    "\n",
    "store_types = sales_sub.drop_duplicates(subset=['store', 'type'])\n",
    "store_types.head()\n"
   ]
  },
  {
   "cell_type": "code",
   "execution_count": 188,
   "id": "52c48e55",
   "metadata": {},
   "outputs": [
    {
     "data": {
      "text/html": [
       "<div>\n",
       "<style scoped>\n",
       "    .dataframe tbody tr th:only-of-type {\n",
       "        vertical-align: middle;\n",
       "    }\n",
       "\n",
       "    .dataframe tbody tr th {\n",
       "        vertical-align: top;\n",
       "    }\n",
       "\n",
       "    .dataframe thead th {\n",
       "        text-align: right;\n",
       "    }\n",
       "</style>\n",
       "<table border=\"1\" class=\"dataframe\">\n",
       "  <thead>\n",
       "    <tr style=\"text-align: right;\">\n",
       "      <th></th>\n",
       "      <th>date</th>\n",
       "    </tr>\n",
       "  </thead>\n",
       "  <tbody>\n",
       "    <tr>\n",
       "      <th>498</th>\n",
       "      <td>2010-09-10</td>\n",
       "    </tr>\n",
       "    <tr>\n",
       "      <th>691</th>\n",
       "      <td>2011-11-25</td>\n",
       "    </tr>\n",
       "    <tr>\n",
       "      <th>2315</th>\n",
       "      <td>2010-02-12</td>\n",
       "    </tr>\n",
       "    <tr>\n",
       "      <th>6735</th>\n",
       "      <td>2012-09-07</td>\n",
       "    </tr>\n",
       "    <tr>\n",
       "      <th>6810</th>\n",
       "      <td>2010-12-31</td>\n",
       "    </tr>\n",
       "    <tr>\n",
       "      <th>6815</th>\n",
       "      <td>2012-02-10</td>\n",
       "    </tr>\n",
       "    <tr>\n",
       "      <th>6820</th>\n",
       "      <td>2011-09-09</td>\n",
       "    </tr>\n",
       "  </tbody>\n",
       "</table>\n",
       "</div>"
      ],
      "text/plain": [
       "            date\n",
       "498   2010-09-10\n",
       "691   2011-11-25\n",
       "2315  2010-02-12\n",
       "6735  2012-09-07\n",
       "6810  2010-12-31\n",
       "6815  2012-02-10\n",
       "6820  2011-09-09"
      ]
     },
     "execution_count": 188,
     "metadata": {},
     "output_type": "execute_result"
    }
   ],
   "source": [
    "#sementar todas las filas donde el campo is_holiday sea True y eliminar los duplicados del campo date \n",
    "holiday_dates =sales_sub[sales_sub['is_holiday'] == True].drop_duplicates(subset=['date'])\n",
    "holiday_dates[['date']]"
   ]
  },
  {
   "cell_type": "markdown",
   "id": "bef5788b",
   "metadata": {},
   "source": [
    "### Contar variables categóricas\n",
    "\n",
    "Contar es una forma estupenda de tener una visión general de tus datos y de detectar curiosidades que de otro modo no notarías. En este ejercicio, contarás el número de cada tipo de tienda y el número de cada número de departamento utilizando los DataFrames que creaste en el ejercicio anterior:\n",
    "```\n",
    "# Drop duplicate store/type combinations\n",
    "store_types = sales.drop_duplicates(subset=[\"store\", \"type\"])\n",
    "\n",
    "# Drop duplicate store/department combinations\n",
    "store_depts = sales.drop_duplicates(subset=[\"store\", \"department\"])\n",
    "\n",
    "```\n",
    "Los DataFrames store_types y store_depts que creaste en el último ejercicio están disponibles, y pandas se importa como pd.\n",
    "\n",
    "**Instrucciones**\n",
    "\n",
    "- Cuenta el número de tiendas de cada tienda type en store_types.\n",
    "- Cuenta la proporción de tiendas de cada tienda type en store_types.\n",
    "- Cuenta el número de tiendas de cada department en store_depts, ordenando los recuentos en orden descendente.\n",
    "- Cuenta la proporción de tiendas de cada department en store_depts, ordenando las proporciones en orden descendente."
   ]
  },
  {
   "cell_type": "code",
   "execution_count": 190,
   "id": "bd5413b3",
   "metadata": {},
   "outputs": [
    {
     "data": {
      "text/html": [
       "<div>\n",
       "<style scoped>\n",
       "    .dataframe tbody tr th:only-of-type {\n",
       "        vertical-align: middle;\n",
       "    }\n",
       "\n",
       "    .dataframe tbody tr th {\n",
       "        vertical-align: top;\n",
       "    }\n",
       "\n",
       "    .dataframe thead th {\n",
       "        text-align: right;\n",
       "    }\n",
       "</style>\n",
       "<table border=\"1\" class=\"dataframe\">\n",
       "  <thead>\n",
       "    <tr style=\"text-align: right;\">\n",
       "      <th></th>\n",
       "      <th>store</th>\n",
       "      <th>type</th>\n",
       "      <th>department</th>\n",
       "      <th>date</th>\n",
       "      <th>weekly_sales</th>\n",
       "      <th>is_holiday</th>\n",
       "      <th>temperature_c</th>\n",
       "      <th>fuel_price_usd_per_l</th>\n",
       "      <th>unemployment</th>\n",
       "    </tr>\n",
       "  </thead>\n",
       "  <tbody>\n",
       "    <tr>\n",
       "      <th>0</th>\n",
       "      <td>1</td>\n",
       "      <td>A</td>\n",
       "      <td>1</td>\n",
       "      <td>2010-02-05</td>\n",
       "      <td>24924.50</td>\n",
       "      <td>False</td>\n",
       "      <td>5.727778</td>\n",
       "      <td>0.679451</td>\n",
       "      <td>8.106</td>\n",
       "    </tr>\n",
       "    <tr>\n",
       "      <th>901</th>\n",
       "      <td>2</td>\n",
       "      <td>A</td>\n",
       "      <td>1</td>\n",
       "      <td>2010-02-05</td>\n",
       "      <td>35034.06</td>\n",
       "      <td>False</td>\n",
       "      <td>4.550000</td>\n",
       "      <td>0.679451</td>\n",
       "      <td>8.324</td>\n",
       "    </tr>\n",
       "    <tr>\n",
       "      <th>1798</th>\n",
       "      <td>4</td>\n",
       "      <td>A</td>\n",
       "      <td>1</td>\n",
       "      <td>2010-02-05</td>\n",
       "      <td>38724.42</td>\n",
       "      <td>False</td>\n",
       "      <td>6.533333</td>\n",
       "      <td>0.686319</td>\n",
       "      <td>8.623</td>\n",
       "    </tr>\n",
       "    <tr>\n",
       "      <th>2699</th>\n",
       "      <td>6</td>\n",
       "      <td>A</td>\n",
       "      <td>1</td>\n",
       "      <td>2010-02-05</td>\n",
       "      <td>25619.00</td>\n",
       "      <td>False</td>\n",
       "      <td>4.683333</td>\n",
       "      <td>0.679451</td>\n",
       "      <td>7.259</td>\n",
       "    </tr>\n",
       "    <tr>\n",
       "      <th>3593</th>\n",
       "      <td>10</td>\n",
       "      <td>B</td>\n",
       "      <td>1</td>\n",
       "      <td>2010-02-05</td>\n",
       "      <td>40212.84</td>\n",
       "      <td>False</td>\n",
       "      <td>12.411111</td>\n",
       "      <td>0.782478</td>\n",
       "      <td>9.765</td>\n",
       "    </tr>\n",
       "  </tbody>\n",
       "</table>\n",
       "</div>"
      ],
      "text/plain": [
       "      store type  department        date  weekly_sales  is_holiday  \\\n",
       "0         1    A           1  2010-02-05      24924.50       False   \n",
       "901       2    A           1  2010-02-05      35034.06       False   \n",
       "1798      4    A           1  2010-02-05      38724.42       False   \n",
       "2699      6    A           1  2010-02-05      25619.00       False   \n",
       "3593     10    B           1  2010-02-05      40212.84       False   \n",
       "\n",
       "      temperature_c  fuel_price_usd_per_l  unemployment  \n",
       "0          5.727778              0.679451         8.106  \n",
       "901        4.550000              0.679451         8.324  \n",
       "1798       6.533333              0.686319         8.623  \n",
       "2699       4.683333              0.679451         7.259  \n",
       "3593      12.411111              0.782478         9.765  "
      ]
     },
     "execution_count": 190,
     "metadata": {},
     "output_type": "execute_result"
    }
   ],
   "source": [
    "store_types.head()"
   ]
  },
  {
   "cell_type": "code",
   "execution_count": 189,
   "id": "08a3d15f",
   "metadata": {},
   "outputs": [
    {
     "data": {
      "text/plain": [
       "type\n",
       "A    11\n",
       "B     1\n",
       "Name: count, dtype: int64"
      ]
     },
     "execution_count": 189,
     "metadata": {},
     "output_type": "execute_result"
    }
   ],
   "source": [
    "#Contar el numero de  tiendas de cada tipo \n",
    "store_count = store_types ['type'].value_counts()\n",
    "store_count"
   ]
  },
  {
   "cell_type": "code",
   "execution_count": 193,
   "id": "e45564a9",
   "metadata": {},
   "outputs": [
    {
     "data": {
      "text/plain": [
       "type\n",
       "A    91.666667\n",
       "B     8.333333\n",
       "Name: proportion, dtype: float64"
      ]
     },
     "execution_count": 193,
     "metadata": {},
     "output_type": "execute_result"
    }
   ],
   "source": [
    "# Obtenr la proporcion de tiendas de cada tipo\n",
    "store_props = store_types['type'].value_counts(normalize=True) *100\n",
    "store_props"
   ]
  },
  {
   "cell_type": "code",
   "execution_count": 194,
   "id": "34f5132c",
   "metadata": {},
   "outputs": [
    {
     "data": {
      "text/plain": [
       "type\n",
       "A    0.916667\n",
       "B    0.083333\n",
       "Name: proportion, dtype: float64"
      ]
     },
     "execution_count": 194,
     "metadata": {},
     "output_type": "execute_result"
    }
   ],
   "source": [
    "# Obtenr la proporcion de tiendas de cada tipo\n",
    "store_props = store_types['type'].value_counts(normalize=True)\n",
    "store_props"
   ]
  },
  {
   "cell_type": "code",
   "execution_count": 200,
   "id": "8cb854a3",
   "metadata": {},
   "outputs": [
    {
     "data": {
      "text/plain": [
       "department\n",
       "1     12\n",
       "2     12\n",
       "3     12\n",
       "4     12\n",
       "5     12\n",
       "      ..\n",
       "37    10\n",
       "48     8\n",
       "50     6\n",
       "39     4\n",
       "43     2\n",
       "Name: count, Length: 80, dtype: int64"
      ]
     },
     "execution_count": 200,
     "metadata": {},
     "output_type": "execute_result"
    }
   ],
   "source": [
    "# Coontar el numero de tiendas por cada departamento y ordenado \n",
    "\n",
    "dept_counts_sorted = store_depts['department'].value_counts(sort=True)\n",
    "dept_counts_sorted\n"
   ]
  },
  {
   "cell_type": "code",
   "execution_count": 199,
   "id": "02035369",
   "metadata": {},
   "outputs": [],
   "source": [
    "#obtener la proporcion de tiendas por cada departamento y ordenado\n",
    "dept_props_sorted = store_depts['department'].value_counts(normalize=True, sort=True)"
   ]
  },
  {
   "cell_type": "markdown",
   "id": "33b91109",
   "metadata": {},
   "source": [
    "## Estadisticas resumidas agrupadas \n",
    "### ¿Qué porcentaje de ventas se produjo en cada tipo de tienda?\n",
    "\n",
    "Aunque .groupby() es útil, puedes calcular estadísticas de resumen agrupadas sin él.\n",
    "\n",
    "Walmart distingue tres tipos de tiendas: \"supercentros\", \"tiendas de descuento\" y \"mercados de barrio\", codificados en este conjunto de datos como tipo \"A\", \"B\" y \"C\". En este ejercicio, calcularás las ventas totales realizadas en cada tipo de tienda, sin utilizar .groupby(). A continuación, puedes utilizar estas cifras para ver qué proporción de las ventas totales de Walmart se realizaron en cada tipo.\n",
    "\n",
    "sales está disponible y pandas se importa como pd.\n",
    "\n",
    "**Instrucciones**\n",
    "\n",
    "- Calcula el total de weekly_sales en todo el conjunto de datos.\n",
    "- Subconjunto para las tiendas type \"A\", y calcula sus ventas semanales totales.\n",
    "- Haz lo mismo en las tiendas type \"B\" y type \"C\".\n",
    "- Combina los resultados A/B/C en una lista, y divídela por sales_all para obtener la proporción de ventas por tipo."
   ]
  },
  {
   "cell_type": "code",
   "execution_count": 203,
   "id": "b49377bf",
   "metadata": {},
   "outputs": [
    {
     "data": {
      "text/plain": [
       "department\n",
       "1     1.291712\n",
       "2     1.291712\n",
       "3     1.291712\n",
       "4     1.291712\n",
       "5     1.291712\n",
       "        ...   \n",
       "37    1.076426\n",
       "48    0.861141\n",
       "50    0.645856\n",
       "39    0.430571\n",
       "43    0.215285\n",
       "Name: proportion, Length: 80, dtype: float64"
      ]
     },
     "execution_count": 203,
     "metadata": {},
     "output_type": "execute_result"
    }
   ],
   "source": [
    "# Coontar el numero de tiendas por cada departamento y ordenado \n",
    "\n",
    "dept_counts_sorted = store_depts['department'].value_counts(normalize=True , sort=True)*100\n",
    "dept_counts_sorted"
   ]
  },
  {
   "cell_type": "code",
   "execution_count": 204,
   "id": "7fb7b18a",
   "metadata": {},
   "outputs": [
    {
     "data": {
      "text/plain": [
       "np.float64(256894718.89999998)"
      ]
     },
     "execution_count": 204,
     "metadata": {},
     "output_type": "execute_result"
    }
   ],
   "source": [
    "#Calcular el total de ventas por semana \n",
    "\n",
    "sales_all =sales_sub['weekly_sales'].sum()\n",
    "sales_all"
   ]
  },
  {
   "cell_type": "code",
   "execution_count": 205,
   "id": "55254ffe",
   "metadata": {},
   "outputs": [
    {
     "data": {
      "text/plain": [
       "np.float64(233716315.01)"
      ]
     },
     "execution_count": 205,
     "metadata": {},
     "output_type": "execute_result"
    }
   ],
   "source": [
    "#segmentar para los tipos  A y calcular el total de ventas por semana \n",
    "sales_A = sales_sub[sales_sub['type'] == 'A'] ['weekly_sales'].sum()  \n",
    "sales_A"
   ]
  },
  {
   "cell_type": "code",
   "execution_count": 206,
   "id": "bf4f1bc5",
   "metadata": {},
   "outputs": [
    {
     "data": {
      "text/plain": [
       "np.float64(23178403.89)"
      ]
     },
     "execution_count": 206,
     "metadata": {},
     "output_type": "execute_result"
    }
   ],
   "source": [
    "sales_B = sales_sub[sales_sub['type'] == 'B'] ['weekly_sales'].sum()  \n",
    "sales_B"
   ]
  },
  {
   "cell_type": "code",
   "execution_count": 207,
   "id": "921ba3fb",
   "metadata": {},
   "outputs": [
    {
     "data": {
      "text/plain": [
       "np.float64(0.0)"
      ]
     },
     "execution_count": 207,
     "metadata": {},
     "output_type": "execute_result"
    }
   ],
   "source": [
    "sales_C= sales_sub[sales_sub['type'] == 'C'] ['weekly_sales'].sum()  \n",
    "sales_C"
   ]
  },
  {
   "cell_type": "code",
   "execution_count": 209,
   "id": "52dc0233",
   "metadata": {},
   "outputs": [
    {
     "data": {
      "text/plain": [
       "array([90.97746969,  9.02253031,  0.        ])"
      ]
     },
     "execution_count": 209,
     "metadata": {},
     "output_type": "execute_result"
    }
   ],
   "source": [
    "#Optener la proporcion de cada tipo \n",
    "sales_props_by_type = [sales_A , sales_B , sales_C] / sales_all *100\n",
    "sales_props_by_type"
   ]
  },
  {
   "cell_type": "code",
   "execution_count": null,
   "id": "4ff53ce2",
   "metadata": {},
   "outputs": [],
   "source": []
  }
 ],
 "metadata": {
  "kernelspec": {
   "display_name": "Python 3",
   "language": "python",
   "name": "python3"
  },
  "language_info": {
   "codemirror_mode": {
    "name": "ipython",
    "version": 3
   },
   "file_extension": ".py",
   "mimetype": "text/x-python",
   "name": "python",
   "nbconvert_exporter": "python",
   "pygments_lexer": "ipython3",
   "version": "3.13.3"
  }
 },
 "nbformat": 4,
 "nbformat_minor": 5
}
